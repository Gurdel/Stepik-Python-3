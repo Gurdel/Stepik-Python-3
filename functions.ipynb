{
 "metadata": {
  "language_info": {
   "codemirror_mode": {
    "name": "ipython",
    "version": 3
   },
   "file_extension": ".py",
   "mimetype": "text/x-python",
   "name": "python",
   "nbconvert_exporter": "python",
   "pygments_lexer": "ipython3",
   "version": "3.8.5-final"
  },
  "orig_nbformat": 2,
  "kernelspec": {
   "name": "python3",
   "display_name": "Python 3",
   "language": "python"
  }
 },
 "nbformat": 4,
 "nbformat_minor": 2,
 "cells": [
  {
   "cell_type": "code",
   "execution_count": 2,
   "metadata": {},
   "outputs": [
    {
     "output_type": "stream",
     "name": "stdout",
     "text": [
      "5\n"
     ]
    }
   ],
   "source": [
    "'''\n",
    "Напишите функцию sum2(a,b), которая возвращает сумму 2 чисел.\n",
    "'''\n",
    "\n",
    "def sum2(a, b):\n",
    "    return a + b\n",
    "\n",
    "print(sum2(2, 3))"
   ]
  },
  {
   "cell_type": "code",
   "execution_count": 3,
   "metadata": {},
   "outputs": [
    {
     "output_type": "stream",
     "name": "stdout",
     "text": [
      "Hello, Maks!\nHello, %UserName%!\n"
     ]
    }
   ],
   "source": [
    "'''\n",
    "Напишите функцию Hello, которая принимает 1 необязательный параметр:\n",
    "\n",
    "Если параметр не задан, то функция выводит на печать сообщение \"Hello, %UserName%!\"\n",
    "Если параметр задан, то вместо %UserName% в приветствии выводится переданное значение\n",
    "'''\n",
    "\n",
    "def Hello(name='%UserName%'):\n",
    "    print(f'Hello, {name}!')\n",
    "\n",
    "Hello('Maks')\n",
    "Hello()"
   ]
  },
  {
   "cell_type": "code",
   "execution_count": 4,
   "metadata": {},
   "outputs": [
    {
     "output_type": "execute_result",
     "data": {
      "text/plain": [
       "48"
      ]
     },
     "metadata": {},
     "execution_count": 4
    }
   ],
   "source": [
    "'''\n",
    "Напишите функцию, для нахождения двойного факториала числа dfactorial(n).\n",
    "\n",
    "Двойной факториал числа n обозначается n‼ и определяется как произведение всех натуральных чисел в отрезке [1,n], имеющих ту же чётность, что и n.\n",
    "\n",
    "Для чётного n:     n!!=2⋅4⋅6⋅…⋅n\n",
    "Для нечётного n: n!!=1⋅3⋅5⋅…⋅n\n",
    "'''\n",
    "\n",
    "def dfactorial(n):\n",
    "    res = 1\n",
    "    for i in range(n, 0, -2):\n",
    "        res *= i\n",
    "    return res\n",
    "\n",
    "dfactorial(6)"
   ]
  },
  {
   "cell_type": "code",
   "execution_count": 6,
   "metadata": {},
   "outputs": [
    {
     "output_type": "execute_result",
     "data": {
      "text/plain": [
       "6"
      ]
     },
     "metadata": {},
     "execution_count": 6
    }
   ],
   "source": [
    "'''\n",
    "Напишите функцию для нахождения кратного факториала числа Kfactorial.\n",
    "\n",
    "Функция factorial должна иметь 2 параметра:\n",
    "\n",
    "n - число для которого вычисляется факториал (обязательный)\n",
    "k - кратность факториала (необязательный, значение по-умолчанию - 1)\n",
    "По сути кратный факториал это продолжение идеи двойного факториала. Только теперь \"шаг\" при вычислении не 2, а k.\n",
    "'''\n",
    "\n",
    "def Kfactorial(n , k=1):\n",
    "    res = 1\n",
    "    for i in range(n, 0, -k):\n",
    "        res *= i\n",
    "    return res\n",
    "\n",
    "Kfactorial(3)"
   ]
  },
  {
   "cell_type": "code",
   "execution_count": null,
   "metadata": {},
   "outputs": [],
   "source": [
    "'''\n",
    "Напишите функцию convert(L), принимающую на вход список, состоящий из чисел и строк вида:\n",
    "\n",
    "[1, 2, '3', '4', '5', 6]\n",
    "и возвращающую список целых чисел (в том же порядке):\n",
    "\n",
    "[1, 2, 3, 4, 5, 6]\n",
    "'''\n",
    "\n",
    "def convert(L):\n",
    "    return list(map(int, L))"
   ]
  },
  {
   "cell_type": "code",
   "execution_count": 7,
   "metadata": {},
   "outputs": [
    {
     "output_type": "execute_result",
     "data": {
      "text/plain": [
       "'10011'"
      ]
     },
     "metadata": {},
     "execution_count": 7
    }
   ],
   "source": [
    "'''\n",
    "Напишите функцию перевода числа из десятичной системы счисления в систему с основанием n\n",
    "\n",
    "Функция translate должна принимать 2 параметра:\n",
    "\n",
    "обязательный (исходное целое число в десятичной системе счисления)\n",
    "необязательный, по-умолчанию 2 (основание новой системы счисления, в которую переводится число)\n",
    "Примечание 1. Все новые системы счисления имеют основание меньше 10\n",
    "'''\n",
    "\n",
    "def translate(n, k=2):\n",
    "    if not n:\n",
    "        return '0'\n",
    "    res = ''\n",
    "    while n > 0:\n",
    "        res += str(n % k)\n",
    "        n //= k\n",
    "    return res[::-1]\n",
    "\n",
    "translate(19)"
   ]
  },
  {
   "cell_type": "code",
   "execution_count": 10,
   "metadata": {},
   "outputs": [
    {
     "output_type": "execute_result",
     "data": {
      "text/plain": [
       "12"
      ]
     },
     "metadata": {},
     "execution_count": 10
    }
   ],
   "source": [
    "'''\n",
    "Напишите 2 функции:\n",
    "\n",
    "для нахождения факториала числа factorial(n) = n!=1\\cdot2\\cdot3\\cdot \\ldots \\cdot nfactorial(n)=n!=1⋅2⋅3⋅…⋅n\n",
    "для нахождения суперфакториала числа - {\\displaystyle \\operatorname {sf} (n)=1!\\cdot 2!\\cdot 3!\\cdot \\ldots \\cdot n!}sf(n)=1!⋅2!⋅3!⋅…⋅n!\n",
    "Используйте функцию факториала для вычисления суперфакториала, чтобы сократить объём кода.\n",
    "'''\n",
    "\n",
    "def factorial(n):\n",
    "    res = 1\n",
    "    for i in range(n, 1, -1):\n",
    "        res *= i\n",
    "    return res\n",
    "\n",
    "def sf(n):\n",
    "    res = 1\n",
    "    for i in range(n, 1, -1):\n",
    "        res *= factorial(i)\n",
    "    return res\n",
    "\n",
    "sf(3)"
   ]
  },
  {
   "cell_type": "code",
   "execution_count": null,
   "metadata": {},
   "outputs": [],
   "source": [
    "'''\n",
    "Напишите функцию maxId(L), принимающую на вход список чисел и строк вида:\n",
    "\n",
    "[1, 2, '42', '3', '4', '5', 6, 13]\n",
    "без повторений, и находящую индекс максимального целого числа в списке.\n",
    "\n",
    "Используйте ранее написанную функцию convert(L).\n",
    "'''\n",
    "\n",
    "def convert(L):\n",
    "    return list(map(int, L))\n",
    "\n",
    "def maxId(L):\n",
    "    L = convert(L)\n",
    "    return L.index(max(L))"
   ]
  }
 ]
}