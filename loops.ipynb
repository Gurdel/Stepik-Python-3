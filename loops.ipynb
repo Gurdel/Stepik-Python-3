{
 "metadata": {
  "language_info": {
   "codemirror_mode": {
    "name": "ipython",
    "version": 3
   },
   "file_extension": ".py",
   "mimetype": "text/x-python",
   "name": "python",
   "nbconvert_exporter": "python",
   "pygments_lexer": "ipython3",
   "version": "3.8.5-final"
  },
  "orig_nbformat": 2,
  "kernelspec": {
   "name": "python3",
   "display_name": "Python 3",
   "language": "python"
  }
 },
 "nbformat": 4,
 "nbformat_minor": 2,
 "cells": [
  {
   "cell_type": "code",
   "execution_count": null,
   "metadata": {},
   "outputs": [],
   "source": [
    "'''\n",
    "Считайте натуральное число n.\n",
    "\n",
    "Выведите на печать все числа от 0 до n, включительно, каждое с новой строки\n",
    "'''\n",
    "\n",
    "for i in range(int(input())+1):\n",
    "    print(i)"
   ]
  },
  {
   "cell_type": "code",
   "execution_count": null,
   "metadata": {},
   "outputs": [],
   "source": [
    "'''\n",
    "Считайте натуральное число n.\n",
    "\n",
    "Выведите на печать все числа от 0 до n, включительно, каждое с новой строки\n",
    "'''\n",
    "n, i = int(input()), 0\n",
    "while i <= n:\n",
    "    print(i)\n",
    "    i += 1"
   ]
  },
  {
   "cell_type": "code",
   "execution_count": null,
   "metadata": {},
   "outputs": [],
   "source": [
    "'''\n",
    "Считайте натуральное число n.\n",
    "\n",
    "Выведите на печать все квадраты чётных чисел от 0 до n-1 (включительно), каждый с новой строки.\n",
    "'''\n",
    "#print(*[i ** 2 for i in range(0, int(input()), 2)], sep='\\n')\n",
    "for i in range(0, int(input()), 2):\n",
    "    print(i ** 2)"
   ]
  },
  {
   "cell_type": "code",
   "execution_count": 2,
   "metadata": {},
   "outputs": [
    {
     "output_type": "stream",
     "name": "stdout",
     "text": [
      "26\n"
     ]
    }
   ],
   "source": [
    "'''\n",
    "Считывайте целые числа из потока ввода по одному до тех пор, пока не встретите строку \"The End\".\n",
    "\n",
    "Выведите на печать сумму считанных чисел.\n",
    "'''\n",
    "n, sum = input(), 0\n",
    "while n != 'The End':\n",
    "    sum += int(n)\n",
    "    n = input()\n",
    "print(sum)"
   ]
  },
  {
   "cell_type": "code",
   "execution_count": 3,
   "metadata": {},
   "outputs": [
    {
     "output_type": "stream",
     "name": "stdout",
     "text": [
      "44fbdgd\n"
     ]
    }
   ],
   "source": [
    "'''\n",
    "На вход подаётся строка, некоторые слова в которой \"испорчены\".\n",
    "\n",
    "Признак \"испорченного\" слова - 1я буква в нём заменена на *.\n",
    "\n",
    "Выведете на печать только \"не испорченные\" слова, каждое с новой строки\n",
    "'''\n",
    "\n",
    "print(*[s for s in input().split() if s[0] != '*'], sep='\\n')"
   ]
  },
  {
   "cell_type": "code",
   "execution_count": 5,
   "metadata": {},
   "outputs": [
    {
     "output_type": "stream",
     "name": "stdout",
     "text": [
      "3\n"
     ]
    }
   ],
   "source": [
    "'''\n",
    "Считайте натуральное число n\n",
    "Найдите самый маленький натуральный делитель числа n, отличный от 1 (2 <= n <= 30000).\n",
    "'''\n",
    "n = int(input())\n",
    "for i in [2, *range(3, n+1, 2)]:\n",
    "    if n % i == 0:\n",
    "        print(i)\n",
    "        break"
   ]
  },
  {
   "cell_type": "code",
   "execution_count": null,
   "metadata": {},
   "outputs": [],
   "source": [
    "'''\n",
    "Считайте целое число n\n",
    "Напечатайте кубы всех натуральных чисел, меньших |n|, каждое с новой строки.\n",
    "'''\n",
    "\n",
    "print(*[i ** 3 for i in range(1, abs(int(input())))], sep='\\n')"
   ]
  }
 ]
}