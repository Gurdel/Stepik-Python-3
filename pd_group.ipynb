{
 "metadata": {
  "language_info": {
   "codemirror_mode": {
    "name": "ipython",
    "version": 3
   },
   "file_extension": ".py",
   "mimetype": "text/x-python",
   "name": "python",
   "nbconvert_exporter": "python",
   "pygments_lexer": "ipython3",
   "version": "3.8.5-final"
  },
  "orig_nbformat": 2,
  "kernelspec": {
   "name": "python3",
   "display_name": "Python 3",
   "language": "python"
  }
 },
 "nbformat": 4,
 "nbformat_minor": 2,
 "cells": [
  {
   "cell_type": "code",
   "execution_count": 10,
   "metadata": {},
   "outputs": [
    {
     "output_type": "execute_result",
     "data": {
      "text/plain": [
       "           CP_QUANTITY\n",
       "IP_PROP30             \n",
       "azure              500\n",
       "black             5000\n",
       "blue              1800\n",
       "brown             3500\n",
       "flowers            500\n",
       "green             1499\n",
       "jeans              500\n",
       "orangered          498\n",
       "pink              2000\n",
       "purple            2199\n",
       "red               2497\n",
       "redblue            499\n",
       "see               1000\n",
       "white             4999"
      ],
      "text/html": "<div>\n<style scoped>\n    .dataframe tbody tr th:only-of-type {\n        vertical-align: middle;\n    }\n\n    .dataframe tbody tr th {\n        vertical-align: top;\n    }\n\n    .dataframe thead th {\n        text-align: right;\n    }\n</style>\n<table border=\"1\" class=\"dataframe\">\n  <thead>\n    <tr style=\"text-align: right;\">\n      <th></th>\n      <th>CP_QUANTITY</th>\n    </tr>\n    <tr>\n      <th>IP_PROP30</th>\n      <th></th>\n    </tr>\n  </thead>\n  <tbody>\n    <tr>\n      <th>azure</th>\n      <td>500</td>\n    </tr>\n    <tr>\n      <th>black</th>\n      <td>5000</td>\n    </tr>\n    <tr>\n      <th>blue</th>\n      <td>1800</td>\n    </tr>\n    <tr>\n      <th>brown</th>\n      <td>3500</td>\n    </tr>\n    <tr>\n      <th>flowers</th>\n      <td>500</td>\n    </tr>\n    <tr>\n      <th>green</th>\n      <td>1499</td>\n    </tr>\n    <tr>\n      <th>jeans</th>\n      <td>500</td>\n    </tr>\n    <tr>\n      <th>orangered</th>\n      <td>498</td>\n    </tr>\n    <tr>\n      <th>pink</th>\n      <td>2000</td>\n    </tr>\n    <tr>\n      <th>purple</th>\n      <td>2199</td>\n    </tr>\n    <tr>\n      <th>red</th>\n      <td>2497</td>\n    </tr>\n    <tr>\n      <th>redblue</th>\n      <td>499</td>\n    </tr>\n    <tr>\n      <th>see</th>\n      <td>1000</td>\n    </tr>\n    <tr>\n      <th>white</th>\n      <td>4999</td>\n    </tr>\n  </tbody>\n</table>\n</div>"
     },
     "metadata": {},
     "execution_count": 10
    }
   ],
   "source": [
    "'''\n",
    "В файле torg.csv представлена выгрузка со склада интернет-магазина.\n",
    "Товаров какого цвета больше всего на складе?\n",
    "'''\n",
    "\n",
    "import pandas as pd\n",
    "df = pd.read_csv('torg.csv', sep=';')\n",
    "df[['IP_PROP30', 'CP_QUANTITY']].groupby('IP_PROP30').sum()#.idxmax()"
   ]
  },
  {
   "cell_type": "code",
   "execution_count": 22,
   "metadata": {},
   "outputs": [
    {
     "output_type": "execute_result",
     "data": {
      "text/plain": [
       "     IE_XML_ID               IE_NAME IP_PROP30  IP_PROP31 IP_PROP32  \\\n",
       "0          179  Штаны Полосатый Рейс    purple        NaN         L   \n",
       "1          181  Штаны Полосатый Рейс    purple        NaN        XL   \n",
       "2          182  Штаны Полосатый Рейс    purple        NaN        XS   \n",
       "3          183  Штаны Полосатый Рейс    purple        NaN         M   \n",
       "4          184  Штаны Полосатый Рейс    purple        NaN         S   \n",
       "..         ...                   ...       ...        ...       ...   \n",
       "270        639    Ремень Грубая Кожа     brown        NaN         L   \n",
       "271        641    Ремень Грубая Кожа     brown        NaN        XL   \n",
       "272        642    Ремень Грубая Кожа     brown        NaN        XS   \n",
       "273        643    Ремень Грубая Кожа     brown        NaN         M   \n",
       "274        644    Ремень Грубая Кожа     brown        NaN         S   \n",
       "\n",
       "     CP_QUANTITY  CR_PRICE_1_USD  \n",
       "0             99           29.06  \n",
       "1            100           29.06  \n",
       "2            100           29.06  \n",
       "3            100           29.06  \n",
       "4            100           29.06  \n",
       "..           ...             ...  \n",
       "270          100           10.39  \n",
       "271          100           10.39  \n",
       "272          100           10.39  \n",
       "273          100           10.39  \n",
       "274          100           10.39  \n",
       "\n",
       "[275 rows x 7 columns]"
      ],
      "text/html": "<div>\n<style scoped>\n    .dataframe tbody tr th:only-of-type {\n        vertical-align: middle;\n    }\n\n    .dataframe tbody tr th {\n        vertical-align: top;\n    }\n\n    .dataframe thead th {\n        text-align: right;\n    }\n</style>\n<table border=\"1\" class=\"dataframe\">\n  <thead>\n    <tr style=\"text-align: right;\">\n      <th></th>\n      <th>IE_XML_ID</th>\n      <th>IE_NAME</th>\n      <th>IP_PROP30</th>\n      <th>IP_PROP31</th>\n      <th>IP_PROP32</th>\n      <th>CP_QUANTITY</th>\n      <th>CR_PRICE_1_USD</th>\n    </tr>\n  </thead>\n  <tbody>\n    <tr>\n      <th>0</th>\n      <td>179</td>\n      <td>Штаны Полосатый Рейс</td>\n      <td>purple</td>\n      <td>NaN</td>\n      <td>L</td>\n      <td>99</td>\n      <td>29.06</td>\n    </tr>\n    <tr>\n      <th>1</th>\n      <td>181</td>\n      <td>Штаны Полосатый Рейс</td>\n      <td>purple</td>\n      <td>NaN</td>\n      <td>XL</td>\n      <td>100</td>\n      <td>29.06</td>\n    </tr>\n    <tr>\n      <th>2</th>\n      <td>182</td>\n      <td>Штаны Полосатый Рейс</td>\n      <td>purple</td>\n      <td>NaN</td>\n      <td>XS</td>\n      <td>100</td>\n      <td>29.06</td>\n    </tr>\n    <tr>\n      <th>3</th>\n      <td>183</td>\n      <td>Штаны Полосатый Рейс</td>\n      <td>purple</td>\n      <td>NaN</td>\n      <td>M</td>\n      <td>100</td>\n      <td>29.06</td>\n    </tr>\n    <tr>\n      <th>4</th>\n      <td>184</td>\n      <td>Штаны Полосатый Рейс</td>\n      <td>purple</td>\n      <td>NaN</td>\n      <td>S</td>\n      <td>100</td>\n      <td>29.06</td>\n    </tr>\n    <tr>\n      <th>...</th>\n      <td>...</td>\n      <td>...</td>\n      <td>...</td>\n      <td>...</td>\n      <td>...</td>\n      <td>...</td>\n      <td>...</td>\n    </tr>\n    <tr>\n      <th>270</th>\n      <td>639</td>\n      <td>Ремень Грубая Кожа</td>\n      <td>brown</td>\n      <td>NaN</td>\n      <td>L</td>\n      <td>100</td>\n      <td>10.39</td>\n    </tr>\n    <tr>\n      <th>271</th>\n      <td>641</td>\n      <td>Ремень Грубая Кожа</td>\n      <td>brown</td>\n      <td>NaN</td>\n      <td>XL</td>\n      <td>100</td>\n      <td>10.39</td>\n    </tr>\n    <tr>\n      <th>272</th>\n      <td>642</td>\n      <td>Ремень Грубая Кожа</td>\n      <td>brown</td>\n      <td>NaN</td>\n      <td>XS</td>\n      <td>100</td>\n      <td>10.39</td>\n    </tr>\n    <tr>\n      <th>273</th>\n      <td>643</td>\n      <td>Ремень Грубая Кожа</td>\n      <td>brown</td>\n      <td>NaN</td>\n      <td>M</td>\n      <td>100</td>\n      <td>10.39</td>\n    </tr>\n    <tr>\n      <th>274</th>\n      <td>644</td>\n      <td>Ремень Грубая Кожа</td>\n      <td>brown</td>\n      <td>NaN</td>\n      <td>S</td>\n      <td>100</td>\n      <td>10.39</td>\n    </tr>\n  </tbody>\n</table>\n<p>275 rows × 7 columns</p>\n</div>"
     },
     "metadata": {},
     "execution_count": 22
    }
   ],
   "source": [
    "0').sum().sort_values('CP_QUANTITY').groupby('CP_QUANTITY').head()"
   ]
  },
  {
   "cell_type": "code",
   "execution_count": 23,
   "metadata": {},
   "outputs": [
    {
     "output_type": "execute_result",
     "data": {
      "text/plain": [
       "           CP_QUANTITY\n",
       "IP_PROP32             \n",
       "M                 4198\n",
       "S                 4198\n",
       "XS                4299\n",
       "L                 4397\n",
       "XL                4399"
      ],
      "text/html": "<div>\n<style scoped>\n    .dataframe tbody tr th:only-of-type {\n        vertical-align: middle;\n    }\n\n    .dataframe tbody tr th {\n        vertical-align: top;\n    }\n\n    .dataframe thead th {\n        text-align: right;\n    }\n</style>\n<table border=\"1\" class=\"dataframe\">\n  <thead>\n    <tr style=\"text-align: right;\">\n      <th></th>\n      <th>CP_QUANTITY</th>\n    </tr>\n    <tr>\n      <th>IP_PROP32</th>\n      <th></th>\n    </tr>\n  </thead>\n  <tbody>\n    <tr>\n      <th>M</th>\n      <td>4198</td>\n    </tr>\n    <tr>\n      <th>S</th>\n      <td>4198</td>\n    </tr>\n    <tr>\n      <th>XS</th>\n      <td>4299</td>\n    </tr>\n    <tr>\n      <th>L</th>\n      <td>4397</td>\n    </tr>\n    <tr>\n      <th>XL</th>\n      <td>4399</td>\n    </tr>\n  </tbody>\n</table>\n</div>"
     },
     "metadata": {},
     "execution_count": 23
    }
   ],
   "source": [
    "'''\n",
    "В файле torg.csv представлена выгрузка со склада интернет-магазина.\n",
    "Сгруппируйте размеры представленных товаров по суммарному количеству единиц товара на складе.\n",
    "Учитывайте, что результат группировки (после применения итоговой функции) - обычный датафрейм, т.е. к нему применимы все обычные функции, например, https://pandas.pydata.org/pandas-docs/stable/reference/api/pandas.DataFrame.sort_values.html\n",
    "Отсортируйте размеры по увеличению остатков на складе.\n",
    "Если товаров одного размера одинаковое количество, то размеры сортируются \"лексикографически\" (да, мы не будем морочиться)\n",
    "'''\n",
    "\n",
    "df[['IP_PROP32', 'CP_QUANTITY']].groupby('IP_PROP32').sum().sort_values('CP_QUANTITY').groupby('CP_QUANTITY').head()"
   ]
  },
  {
   "cell_type": "code",
   "execution_count": 14,
   "metadata": {},
   "outputs": [
    {
     "output_type": "execute_result",
     "data": {
      "text/plain": [
       "PRICE    4303.0\n",
       "Name: (pink, XL), dtype: float64"
      ]
     },
     "metadata": {},
     "execution_count": 14
    }
   ],
   "source": [
    "'''\n",
    "Найдите суммарную стоимость всех розовых (pink) вещей большого размера (XL).\n",
    "Учитывайте, что цена указана за 1 единицу товара.\n",
    "'''\n",
    "\n",
    "import pandas as pd\n",
    "df = pd.read_csv('dataset_345422_8.txt', sep=';')\n",
    "df['PRICE'] = df['CP_QUANTITY'] * df['CR_PRICE_1_USD']\n",
    "df[['IP_PROP30', 'IP_PROP32', 'PRICE']].groupby(['IP_PROP30', 'IP_PROP32']).sum().loc[('pink', 'XL')]"
   ]
  },
  {
   "cell_type": "code",
   "execution_count": 19,
   "metadata": {},
   "outputs": [
    {
     "output_type": "execute_result",
     "data": {
      "text/plain": [
       "gender  race/ethnicity\n",
       "female  group A           67.5\n",
       "        group B           71.5\n",
       "        group C           73.0\n",
       "        group D           74.0\n",
       "        group E           76.0\n",
       "male    group A           61.0\n",
       "        group B           62.0\n",
       "        group C           66.0\n",
       "        group D           68.0\n",
       "        group E           73.0\n",
       "Name: reading score, dtype: float64"
      ]
     },
     "metadata": {},
     "execution_count": 19
    }
   ],
   "source": [
    "'''\n",
    "В файле StudentsPerformance.csv представлен фрагмент выгрузки об абитуриентах. Информация разбита на категории:\n",
    "\n",
    "gender — пол абитуриента  (female - женщина, male - мужчина);\n",
    "race/ethnicity — национальность (зашифрована в виде значений \"group A\", \"group B\" и т.д.);\n",
    "parental level of education — уровень образования родителей;\n",
    "lunch — насколько качественно пообедал абитуриент перед тестом;\n",
    "test preparation course — закончил ли абитуриент подготовительные курсы;\n",
    "math score — оценка по математике;\n",
    "reading score — оценка по чтению;\n",
    "writing score — оценка по письму.\n",
    "Каково максимальное медианное значение оценки по чтению у групп, разделенных по признаку \"пол абитуриента\" и \"национальность\" ?\n",
    "'''\n",
    "\n",
    "df = pd.read_csv('StudentsPerformance.csv')\n",
    "df.groupby(['gender', 'race/ethnicity'])['reading score'].median()#.max()"
   ]
  },
  {
   "cell_type": "code",
   "execution_count": 20,
   "metadata": {},
   "outputs": [
    {
     "output_type": "execute_result",
     "data": {
      "text/plain": [
       "     gender race/ethnicity parental level of education         lunch  \\\n",
       "0    female        group B           bachelor's degree      standard   \n",
       "1    female        group C                some college      standard   \n",
       "2    female        group B             master's degree      standard   \n",
       "3      male        group A          associate's degree  free/reduced   \n",
       "4      male        group C                some college      standard   \n",
       "..      ...            ...                         ...           ...   \n",
       "995  female        group E             master's degree      standard   \n",
       "996    male        group C                 high school  free/reduced   \n",
       "997  female        group C                 high school  free/reduced   \n",
       "998  female        group D                some college      standard   \n",
       "999  female        group D                some college  free/reduced   \n",
       "\n",
       "    test preparation course  math score  reading score  writing score  \n",
       "0                      none          72             72             74  \n",
       "1                 completed          69             90             88  \n",
       "2                      none          90             95             93  \n",
       "3                      none          47             57             44  \n",
       "4                      none          76             78             75  \n",
       "..                      ...         ...            ...            ...  \n",
       "995               completed          88             99             95  \n",
       "996                    none          62             55             55  \n",
       "997               completed          59             71             65  \n",
       "998               completed          68             78             77  \n",
       "999                    none          77             86             86  \n",
       "\n",
       "[1000 rows x 8 columns]"
      ],
      "text/html": "<div>\n<style scoped>\n    .dataframe tbody tr th:only-of-type {\n        vertical-align: middle;\n    }\n\n    .dataframe tbody tr th {\n        vertical-align: top;\n    }\n\n    .dataframe thead th {\n        text-align: right;\n    }\n</style>\n<table border=\"1\" class=\"dataframe\">\n  <thead>\n    <tr style=\"text-align: right;\">\n      <th></th>\n      <th>gender</th>\n      <th>race/ethnicity</th>\n      <th>parental level of education</th>\n      <th>lunch</th>\n      <th>test preparation course</th>\n      <th>math score</th>\n      <th>reading score</th>\n      <th>writing score</th>\n    </tr>\n  </thead>\n  <tbody>\n    <tr>\n      <th>0</th>\n      <td>female</td>\n      <td>group B</td>\n      <td>bachelor's degree</td>\n      <td>standard</td>\n      <td>none</td>\n      <td>72</td>\n      <td>72</td>\n      <td>74</td>\n    </tr>\n    <tr>\n      <th>1</th>\n      <td>female</td>\n      <td>group C</td>\n      <td>some college</td>\n      <td>standard</td>\n      <td>completed</td>\n      <td>69</td>\n      <td>90</td>\n      <td>88</td>\n    </tr>\n    <tr>\n      <th>2</th>\n      <td>female</td>\n      <td>group B</td>\n      <td>master's degree</td>\n      <td>standard</td>\n      <td>none</td>\n      <td>90</td>\n      <td>95</td>\n      <td>93</td>\n    </tr>\n    <tr>\n      <th>3</th>\n      <td>male</td>\n      <td>group A</td>\n      <td>associate's degree</td>\n      <td>free/reduced</td>\n      <td>none</td>\n      <td>47</td>\n      <td>57</td>\n      <td>44</td>\n    </tr>\n    <tr>\n      <th>4</th>\n      <td>male</td>\n      <td>group C</td>\n      <td>some college</td>\n      <td>standard</td>\n      <td>none</td>\n      <td>76</td>\n      <td>78</td>\n      <td>75</td>\n    </tr>\n    <tr>\n      <th>...</th>\n      <td>...</td>\n      <td>...</td>\n      <td>...</td>\n      <td>...</td>\n      <td>...</td>\n      <td>...</td>\n      <td>...</td>\n      <td>...</td>\n    </tr>\n    <tr>\n      <th>995</th>\n      <td>female</td>\n      <td>group E</td>\n      <td>master's degree</td>\n      <td>standard</td>\n      <td>completed</td>\n      <td>88</td>\n      <td>99</td>\n      <td>95</td>\n    </tr>\n    <tr>\n      <th>996</th>\n      <td>male</td>\n      <td>group C</td>\n      <td>high school</td>\n      <td>free/reduced</td>\n      <td>none</td>\n      <td>62</td>\n      <td>55</td>\n      <td>55</td>\n    </tr>\n    <tr>\n      <th>997</th>\n      <td>female</td>\n      <td>group C</td>\n      <td>high school</td>\n      <td>free/reduced</td>\n      <td>completed</td>\n      <td>59</td>\n      <td>71</td>\n      <td>65</td>\n    </tr>\n    <tr>\n      <th>998</th>\n      <td>female</td>\n      <td>group D</td>\n      <td>some college</td>\n      <td>standard</td>\n      <td>completed</td>\n      <td>68</td>\n      <td>78</td>\n      <td>77</td>\n    </tr>\n    <tr>\n      <th>999</th>\n      <td>female</td>\n      <td>group D</td>\n      <td>some college</td>\n      <td>free/reduced</td>\n      <td>none</td>\n      <td>77</td>\n      <td>86</td>\n      <td>86</td>\n    </tr>\n  </tbody>\n</table>\n<p>1000 rows × 8 columns</p>\n</div>"
     },
     "metadata": {},
     "execution_count": 20
    }
   ],
   "source": [
    "df"
   ]
  },
  {
   "cell_type": "code",
   "execution_count": 44,
   "metadata": {},
   "outputs": [
    {
     "output_type": "execute_result",
     "data": {
      "text/plain": [
       "                                   avg\n",
       "parental level of education           \n",
       "associate's degree           71.123563\n",
       "bachelor's degree            74.671958\n",
       "high school                  64.748227\n",
       "master's degree              73.648148\n",
       "some college                 71.002825\n",
       "some high school             65.564103"
      ],
      "text/html": "<div>\n<style scoped>\n    .dataframe tbody tr th:only-of-type {\n        vertical-align: middle;\n    }\n\n    .dataframe tbody tr th {\n        vertical-align: top;\n    }\n\n    .dataframe thead th {\n        text-align: right;\n    }\n</style>\n<table border=\"1\" class=\"dataframe\">\n  <thead>\n    <tr style=\"text-align: right;\">\n      <th></th>\n      <th>avg</th>\n    </tr>\n    <tr>\n      <th>parental level of education</th>\n      <th></th>\n    </tr>\n  </thead>\n  <tbody>\n    <tr>\n      <th>associate's degree</th>\n      <td>71.123563</td>\n    </tr>\n    <tr>\n      <th>bachelor's degree</th>\n      <td>74.671958</td>\n    </tr>\n    <tr>\n      <th>high school</th>\n      <td>64.748227</td>\n    </tr>\n    <tr>\n      <th>master's degree</th>\n      <td>73.648148</td>\n    </tr>\n    <tr>\n      <th>some college</th>\n      <td>71.002825</td>\n    </tr>\n    <tr>\n      <th>some high school</th>\n      <td>65.564103</td>\n    </tr>\n  </tbody>\n</table>\n</div>"
     },
     "metadata": {},
     "execution_count": 44
    }
   ],
   "source": [
    "'''\n",
    "Какое среднее значение оценок по всем предметам у мальчиков из такой же группы с уровнем образования как у родителей девочек, получивших максимальную среднюю оценку по всем предметам?\n",
    "'''\n",
    "\n",
    "df['avg'] = (df['math score'] + df['reading score'] + df['writing score']) / 3.\n",
    "df[df.gender=='female'][['parental level of education', 'avg']].groupby('parental level of education').mean()#.idxmax()"
   ]
  },
  {
   "cell_type": "code",
   "execution_count": 47,
   "metadata": {},
   "outputs": [
    {
     "output_type": "execute_result",
     "data": {
      "text/plain": [
       "68.8"
      ]
     },
     "metadata": {},
     "execution_count": 47
    }
   ],
   "source": [
    "round(df[df.gender=='male'][df['parental level of education']==\"bachelor's degree\"].avg.mean(), 1)"
   ]
  },
  {
   "cell_type": "code",
   "execution_count": 95,
   "metadata": {},
   "outputs": [
    {
     "output_type": "execute_result",
     "data": {
      "text/plain": [
       "total    2\n",
       "dtype: int64"
      ]
     },
     "metadata": {},
     "execution_count": 95
    }
   ],
   "source": [
    "'''\n",
    "Для этого задания используется случайно генерируемая выборка из 100 записей об использовании велодорожек Монреаля по датам. В выгрузке присутствуют данные только о 7 дорожках (в остальных пустые значения).\n",
    "Посчитайте среднюю посещаемость каждой велодорожки отдельно по дням недели.\n",
    "Какой день недели (в среднем) наиболее посещаем?\n",
    "'''\n",
    "\n",
    "df = pd.read_csv('dataset_345422_14.txt', parse_dates=['Date'],)\n",
    "df['weekday'] = df.Date.dt.dayofweek\n",
    "df['total'] = df.iloc[:, 1:10].sum(axis=1)\n",
    "df[['weekday', 'total']].groupby('weekday').mean().idxmax()"
   ]
  },
  {
   "cell_type": "code",
   "execution_count": 122,
   "metadata": {},
   "outputs": [
    {
     "output_type": "stream",
     "name": "stdout",
     "text": [
      "52\n"
     ]
    }
   ],
   "source": [
    "'''\n",
    "В файле football_players.csv представлен фрагмент выгрузки датасета о футболистах.\n",
    "Посчитайте среднюю и медианную зарплату \"Wage\" футболистов из разных клубов \"Club\".\n",
    "В скольких клубах средняя и медианная зарплаты совпадают?\n",
    "'''\n",
    "\n",
    "df = pd.read_csv('football_players.csv')\n",
    "mn = df[['Club', 'Wage']].groupby('Club').mean()\n",
    "med = df[['Club', 'Wage']].groupby('Club').median()\n",
    "print(sum(mn.Wage == med.Wage))"
   ]
  },
  {
   "cell_type": "code",
   "execution_count": 142,
   "metadata": {},
   "outputs": [
    {
     "output_type": "execute_result",
     "data": {
      "text/plain": [
       "CompanyID  ProjectID\n",
       "703124     705605       3950576179\n",
       "           705607       1453545094\n",
       "719936     721640        526480987\n",
       "721180     724807        514145796\n",
       "           730163       1566905593\n",
       "           741822       1524721856\n",
       "           750864        494872093\n",
       "722863     722864        798388183\n",
       "           722865        524723720\n",
       "723317     723321       1048173650\n",
       "724043     724044        466545893\n",
       "724937     724938       1581185110\n",
       "           724939        518593228\n",
       "           724940        986266922\n",
       "726615     726619       1012192132\n",
       "           726623       1032759715\n",
       "728333     728336        597374336\n",
       "729306     729307        508974825\n",
       "736662     736663       1569514179\n",
       "738553     738554       1264143584\n",
       "741921     741922        764662481\n",
       "748559     748560        637225512\n",
       "Name: FileSize, dtype: int64"
      ]
     },
     "metadata": {},
     "execution_count": 142
    }
   ],
   "source": [
    "'''\n",
    "Посчитайте количество организаций (CompanyID), у которых суммарный объем файлов (FileSize) хотя бы одного проекта (ProjectID) превышает средний объем файлов по всем проектам.\n",
    "Описание полей датасета:\n",
    "\n",
    "ProjectID (число) - id проекта в рамках которого загружен файл, привязка к элементам другой таблицы\n",
    "UserID (число) - id пользователя, загрузившего файл, привязка к элементам другой таблицы\n",
    "uploadServerUnixTime (число) - время загрузки файла на сервер в формате UnixTime\n",
    "CompanyID (число) - id организации которой принадлежит пользователь, привязка элемента другой таблицы\n",
    "FileSize (число) - размер файла в байтах\n",
    "TypeDocs (строка) - раздел в который загружен файл\n",
    "'''\n",
    "\n",
    "df = pd.read_csv('dataset_file_storage.csv', sep=';')\n",
    "avg = df.groupby('ProjectID').FileSize.sum().mean()\n",
    "df = df.groupby(['CompanyID', 'ProjectID']).FileSize.sum()\n",
    "df[df > avg]#.count()"
   ]
  },
  {
   "cell_type": "code",
   "execution_count": null,
   "metadata": {},
   "outputs": [],
   "source": []
  }
 ]
}