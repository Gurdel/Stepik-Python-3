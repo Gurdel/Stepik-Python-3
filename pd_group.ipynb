{
 "metadata": {
  "language_info": {
   "codemirror_mode": {
    "name": "ipython",
    "version": 3
   },
   "file_extension": ".py",
   "mimetype": "text/x-python",
   "name": "python",
   "nbconvert_exporter": "python",
   "pygments_lexer": "ipython3",
   "version": "3.8.5-final"
  },
  "orig_nbformat": 2,
  "kernelspec": {
   "name": "python3",
   "display_name": "Python 3",
   "language": "python"
  }
 },
 "nbformat": 4,
 "nbformat_minor": 2,
 "cells": [
  {
   "cell_type": "code",
   "execution_count": 10,
   "metadata": {},
   "outputs": [
    {
     "output_type": "execute_result",
     "data": {
      "text/plain": [
       "           CP_QUANTITY\n",
       "IP_PROP30             \n",
       "azure              500\n",
       "black             5000\n",
       "blue              1800\n",
       "brown             3500\n",
       "flowers            500\n",
       "green             1499\n",
       "jeans              500\n",
       "orangered          498\n",
       "pink              2000\n",
       "purple            2199\n",
       "red               2497\n",
       "redblue            499\n",
       "see               1000\n",
       "white             4999"
      ],
      "text/html": "<div>\n<style scoped>\n    .dataframe tbody tr th:only-of-type {\n        vertical-align: middle;\n    }\n\n    .dataframe tbody tr th {\n        vertical-align: top;\n    }\n\n    .dataframe thead th {\n        text-align: right;\n    }\n</style>\n<table border=\"1\" class=\"dataframe\">\n  <thead>\n    <tr style=\"text-align: right;\">\n      <th></th>\n      <th>CP_QUANTITY</th>\n    </tr>\n    <tr>\n      <th>IP_PROP30</th>\n      <th></th>\n    </tr>\n  </thead>\n  <tbody>\n    <tr>\n      <th>azure</th>\n      <td>500</td>\n    </tr>\n    <tr>\n      <th>black</th>\n      <td>5000</td>\n    </tr>\n    <tr>\n      <th>blue</th>\n      <td>1800</td>\n    </tr>\n    <tr>\n      <th>brown</th>\n      <td>3500</td>\n    </tr>\n    <tr>\n      <th>flowers</th>\n      <td>500</td>\n    </tr>\n    <tr>\n      <th>green</th>\n      <td>1499</td>\n    </tr>\n    <tr>\n      <th>jeans</th>\n      <td>500</td>\n    </tr>\n    <tr>\n      <th>orangered</th>\n      <td>498</td>\n    </tr>\n    <tr>\n      <th>pink</th>\n      <td>2000</td>\n    </tr>\n    <tr>\n      <th>purple</th>\n      <td>2199</td>\n    </tr>\n    <tr>\n      <th>red</th>\n      <td>2497</td>\n    </tr>\n    <tr>\n      <th>redblue</th>\n      <td>499</td>\n    </tr>\n    <tr>\n      <th>see</th>\n      <td>1000</td>\n    </tr>\n    <tr>\n      <th>white</th>\n      <td>4999</td>\n    </tr>\n  </tbody>\n</table>\n</div>"
     },
     "metadata": {},
     "execution_count": 10
    }
   ],
   "source": [
    "'''\n",
    "В файле torg.csv представлена выгрузка со склада интернет-магазина.\n",
    "Товаров какого цвета больше всего на складе?\n",
    "'''\n",
    "\n",
    "import pandas as pd\n",
    "df = pd.read_csv('torg.csv', sep=';')\n",
    "df[['IP_PROP30', 'CP_QUANTITY']].groupby('IP_PROP30').sum()#.idxmax()"
   ]
  },
  {
   "cell_type": "code",
   "execution_count": null,
   "metadata": {},
   "outputs": [],
   "source": []
  }
 ]
}