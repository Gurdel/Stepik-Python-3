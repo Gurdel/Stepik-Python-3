{
 "metadata": {
  "language_info": {
   "codemirror_mode": {
    "name": "ipython",
    "version": 3
   },
   "file_extension": ".py",
   "mimetype": "text/x-python",
   "name": "python",
   "nbconvert_exporter": "python",
   "pygments_lexer": "ipython3",
   "version": "3.8.5-final"
  },
  "orig_nbformat": 2,
  "kernelspec": {
   "name": "python3",
   "display_name": "Python 3",
   "language": "python"
  }
 },
 "nbformat": 4,
 "nbformat_minor": 2,
 "cells": [
  {
   "cell_type": "code",
   "execution_count": 10,
   "metadata": {},
   "outputs": [
    {
     "output_type": "execute_result",
     "data": {
      "text/plain": [
       "           CP_QUANTITY\n",
       "IP_PROP30             \n",
       "azure              500\n",
       "black             5000\n",
       "blue              1800\n",
       "brown             3500\n",
       "flowers            500\n",
       "green             1499\n",
       "jeans              500\n",
       "orangered          498\n",
       "pink              2000\n",
       "purple            2199\n",
       "red               2497\n",
       "redblue            499\n",
       "see               1000\n",
       "white             4999"
      ],
      "text/html": "<div>\n<style scoped>\n    .dataframe tbody tr th:only-of-type {\n        vertical-align: middle;\n    }\n\n    .dataframe tbody tr th {\n        vertical-align: top;\n    }\n\n    .dataframe thead th {\n        text-align: right;\n    }\n</style>\n<table border=\"1\" class=\"dataframe\">\n  <thead>\n    <tr style=\"text-align: right;\">\n      <th></th>\n      <th>CP_QUANTITY</th>\n    </tr>\n    <tr>\n      <th>IP_PROP30</th>\n      <th></th>\n    </tr>\n  </thead>\n  <tbody>\n    <tr>\n      <th>azure</th>\n      <td>500</td>\n    </tr>\n    <tr>\n      <th>black</th>\n      <td>5000</td>\n    </tr>\n    <tr>\n      <th>blue</th>\n      <td>1800</td>\n    </tr>\n    <tr>\n      <th>brown</th>\n      <td>3500</td>\n    </tr>\n    <tr>\n      <th>flowers</th>\n      <td>500</td>\n    </tr>\n    <tr>\n      <th>green</th>\n      <td>1499</td>\n    </tr>\n    <tr>\n      <th>jeans</th>\n      <td>500</td>\n    </tr>\n    <tr>\n      <th>orangered</th>\n      <td>498</td>\n    </tr>\n    <tr>\n      <th>pink</th>\n      <td>2000</td>\n    </tr>\n    <tr>\n      <th>purple</th>\n      <td>2199</td>\n    </tr>\n    <tr>\n      <th>red</th>\n      <td>2497</td>\n    </tr>\n    <tr>\n      <th>redblue</th>\n      <td>499</td>\n    </tr>\n    <tr>\n      <th>see</th>\n      <td>1000</td>\n    </tr>\n    <tr>\n      <th>white</th>\n      <td>4999</td>\n    </tr>\n  </tbody>\n</table>\n</div>"
     },
     "metadata": {},
     "execution_count": 10
    }
   ],
   "source": [
    "'''\n",
    "В файле torg.csv представлена выгрузка со склада интернет-магазина.\n",
    "Товаров какого цвета больше всего на складе?\n",
    "'''\n",
    "\n",
    "import pandas as pd\n",
    "df = pd.read_csv('torg.csv', sep=';')\n",
    "df[['IP_PROP30', 'CP_QUANTITY']].groupby('IP_PROP30').sum()#.idxmax()"
   ]
  },
  {
   "cell_type": "code",
   "execution_count": 22,
   "metadata": {},
   "outputs": [
    {
     "output_type": "execute_result",
     "data": {
      "text/plain": [
       "     IE_XML_ID               IE_NAME IP_PROP30  IP_PROP31 IP_PROP32  \\\n",
       "0          179  Штаны Полосатый Рейс    purple        NaN         L   \n",
       "1          181  Штаны Полосатый Рейс    purple        NaN        XL   \n",
       "2          182  Штаны Полосатый Рейс    purple        NaN        XS   \n",
       "3          183  Штаны Полосатый Рейс    purple        NaN         M   \n",
       "4          184  Штаны Полосатый Рейс    purple        NaN         S   \n",
       "..         ...                   ...       ...        ...       ...   \n",
       "270        639    Ремень Грубая Кожа     brown        NaN         L   \n",
       "271        641    Ремень Грубая Кожа     brown        NaN        XL   \n",
       "272        642    Ремень Грубая Кожа     brown        NaN        XS   \n",
       "273        643    Ремень Грубая Кожа     brown        NaN         M   \n",
       "274        644    Ремень Грубая Кожа     brown        NaN         S   \n",
       "\n",
       "     CP_QUANTITY  CR_PRICE_1_USD  \n",
       "0             99           29.06  \n",
       "1            100           29.06  \n",
       "2            100           29.06  \n",
       "3            100           29.06  \n",
       "4            100           29.06  \n",
       "..           ...             ...  \n",
       "270          100           10.39  \n",
       "271          100           10.39  \n",
       "272          100           10.39  \n",
       "273          100           10.39  \n",
       "274          100           10.39  \n",
       "\n",
       "[275 rows x 7 columns]"
      ],
      "text/html": "<div>\n<style scoped>\n    .dataframe tbody tr th:only-of-type {\n        vertical-align: middle;\n    }\n\n    .dataframe tbody tr th {\n        vertical-align: top;\n    }\n\n    .dataframe thead th {\n        text-align: right;\n    }\n</style>\n<table border=\"1\" class=\"dataframe\">\n  <thead>\n    <tr style=\"text-align: right;\">\n      <th></th>\n      <th>IE_XML_ID</th>\n      <th>IE_NAME</th>\n      <th>IP_PROP30</th>\n      <th>IP_PROP31</th>\n      <th>IP_PROP32</th>\n      <th>CP_QUANTITY</th>\n      <th>CR_PRICE_1_USD</th>\n    </tr>\n  </thead>\n  <tbody>\n    <tr>\n      <th>0</th>\n      <td>179</td>\n      <td>Штаны Полосатый Рейс</td>\n      <td>purple</td>\n      <td>NaN</td>\n      <td>L</td>\n      <td>99</td>\n      <td>29.06</td>\n    </tr>\n    <tr>\n      <th>1</th>\n      <td>181</td>\n      <td>Штаны Полосатый Рейс</td>\n      <td>purple</td>\n      <td>NaN</td>\n      <td>XL</td>\n      <td>100</td>\n      <td>29.06</td>\n    </tr>\n    <tr>\n      <th>2</th>\n      <td>182</td>\n      <td>Штаны Полосатый Рейс</td>\n      <td>purple</td>\n      <td>NaN</td>\n      <td>XS</td>\n      <td>100</td>\n      <td>29.06</td>\n    </tr>\n    <tr>\n      <th>3</th>\n      <td>183</td>\n      <td>Штаны Полосатый Рейс</td>\n      <td>purple</td>\n      <td>NaN</td>\n      <td>M</td>\n      <td>100</td>\n      <td>29.06</td>\n    </tr>\n    <tr>\n      <th>4</th>\n      <td>184</td>\n      <td>Штаны Полосатый Рейс</td>\n      <td>purple</td>\n      <td>NaN</td>\n      <td>S</td>\n      <td>100</td>\n      <td>29.06</td>\n    </tr>\n    <tr>\n      <th>...</th>\n      <td>...</td>\n      <td>...</td>\n      <td>...</td>\n      <td>...</td>\n      <td>...</td>\n      <td>...</td>\n      <td>...</td>\n    </tr>\n    <tr>\n      <th>270</th>\n      <td>639</td>\n      <td>Ремень Грубая Кожа</td>\n      <td>brown</td>\n      <td>NaN</td>\n      <td>L</td>\n      <td>100</td>\n      <td>10.39</td>\n    </tr>\n    <tr>\n      <th>271</th>\n      <td>641</td>\n      <td>Ремень Грубая Кожа</td>\n      <td>brown</td>\n      <td>NaN</td>\n      <td>XL</td>\n      <td>100</td>\n      <td>10.39</td>\n    </tr>\n    <tr>\n      <th>272</th>\n      <td>642</td>\n      <td>Ремень Грубая Кожа</td>\n      <td>brown</td>\n      <td>NaN</td>\n      <td>XS</td>\n      <td>100</td>\n      <td>10.39</td>\n    </tr>\n    <tr>\n      <th>273</th>\n      <td>643</td>\n      <td>Ремень Грубая Кожа</td>\n      <td>brown</td>\n      <td>NaN</td>\n      <td>M</td>\n      <td>100</td>\n      <td>10.39</td>\n    </tr>\n    <tr>\n      <th>274</th>\n      <td>644</td>\n      <td>Ремень Грубая Кожа</td>\n      <td>brown</td>\n      <td>NaN</td>\n      <td>S</td>\n      <td>100</td>\n      <td>10.39</td>\n    </tr>\n  </tbody>\n</table>\n<p>275 rows × 7 columns</p>\n</div>"
     },
     "metadata": {},
     "execution_count": 22
    }
   ],
   "source": [
    "0').sum().sort_values('CP_QUANTITY').groupby('CP_QUANTITY').head()"
   ]
  },
  {
   "cell_type": "code",
   "execution_count": 23,
   "metadata": {},
   "outputs": [
    {
     "output_type": "execute_result",
     "data": {
      "text/plain": [
       "           CP_QUANTITY\n",
       "IP_PROP32             \n",
       "M                 4198\n",
       "S                 4198\n",
       "XS                4299\n",
       "L                 4397\n",
       "XL                4399"
      ],
      "text/html": "<div>\n<style scoped>\n    .dataframe tbody tr th:only-of-type {\n        vertical-align: middle;\n    }\n\n    .dataframe tbody tr th {\n        vertical-align: top;\n    }\n\n    .dataframe thead th {\n        text-align: right;\n    }\n</style>\n<table border=\"1\" class=\"dataframe\">\n  <thead>\n    <tr style=\"text-align: right;\">\n      <th></th>\n      <th>CP_QUANTITY</th>\n    </tr>\n    <tr>\n      <th>IP_PROP32</th>\n      <th></th>\n    </tr>\n  </thead>\n  <tbody>\n    <tr>\n      <th>M</th>\n      <td>4198</td>\n    </tr>\n    <tr>\n      <th>S</th>\n      <td>4198</td>\n    </tr>\n    <tr>\n      <th>XS</th>\n      <td>4299</td>\n    </tr>\n    <tr>\n      <th>L</th>\n      <td>4397</td>\n    </tr>\n    <tr>\n      <th>XL</th>\n      <td>4399</td>\n    </tr>\n  </tbody>\n</table>\n</div>"
     },
     "metadata": {},
     "execution_count": 23
    }
   ],
   "source": [
    "'''\n",
    "В файле torg.csv представлена выгрузка со склада интернет-магазина.\n",
    "\n",
    "Сгруппируйте размеры представленных товаров по суммарному количеству единиц товара на складе.\n",
    "\n",
    "Учитывайте, что результат группировки (после применения итоговой функции) - обычный датафрейм, т.е. к нему применимы все обычные функции, например, https://pandas.pydata.org/pandas-docs/stable/reference/api/pandas.DataFrame.sort_values.html\n",
    "\n",
    "Отсортируйте размеры по увеличению остатков на складе.\n",
    "\n",
    "Если товаров одного размера одинаковое количество, то размеры сортируются \"лексикографически\" (да, мы не будем морочиться)\n",
    "'''\n",
    "\n",
    "df[['IP_PROP32', 'CP_QUANTITY']].groupby('IP_PROP32').sum().sort_values('CP_QUANTITY').groupby('CP_QUANTITY').head()"
   ]
  },
  {
   "cell_type": "code",
   "execution_count": null,
   "metadata": {},
   "outputs": [],
   "source": []
  }
 ]
}