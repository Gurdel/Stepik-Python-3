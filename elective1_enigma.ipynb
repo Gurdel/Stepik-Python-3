{
 "metadata": {
  "language_info": {
   "codemirror_mode": {
    "name": "ipython",
    "version": 3
   },
   "file_extension": ".py",
   "mimetype": "text/x-python",
   "name": "python",
   "nbconvert_exporter": "python",
   "pygments_lexer": "ipython3",
   "version": "3.8.5-final"
  },
  "orig_nbformat": 2,
  "kernelspec": {
   "name": "python3",
   "display_name": "Python 3",
   "language": "python"
  }
 },
 "nbformat": 4,
 "nbformat_minor": 2,
 "cells": [
  {
   "cell_type": "code",
   "execution_count": 31,
   "metadata": {},
   "outputs": [
    {
     "output_type": "execute_result",
     "data": {
      "text/plain": [
       "'E'"
      ]
     },
     "metadata": {},
     "execution_count": 31
    }
   ],
   "source": [
    "'''\n",
    "Реализуйте функцию с 4 роторами:\n",
    "\n",
    "0 - \"не шифрованный ротор\" - возвращает всегда тот же символ, что и принимает (в любом направлении)\n",
    "1-3 - роторы номер 1, 2 и 3 соответственно.\n",
    "Спецификация на роторы (и таблица соответствия символов) - http://www.codesandciphers.org.uk/enigma/rotorspec.htm\n",
    "\n",
    "Реализуйте функцию rotor(symbol, n, reverse=False)\n",
    "\n",
    "symbol - символ, поступающий для шифрования\n",
    "n - номер ротора\n",
    "reverse - признак обратного направления, если находится в значении True, это значит, что функцию надо использовать в обратном направлении. (по умолчанию False)\n",
    "Возвращает строку с зашифрованным символом\n",
    "'''\n",
    "\n",
    "rotors = {\n",
    "    0: 'ABCDEFGHIJKLMNOPQRSTUVWXYZ',\n",
    "    1: 'EKMFLGDQVZNTOWYHXUSPAIBRCJ',\n",
    "    2: 'AJDKSIRUXBLHWTMCQGZNPYFVOE',\n",
    "    3: 'BDFHJLCPRTXVZNYEIWGAKMUSQO'\n",
    "}\n",
    "\n",
    "L = len(rotors[0])\n",
    "\n",
    "def rotor(symbol, n, reverse=False):\n",
    "    if symbol.isalpha():\n",
    "        rot_from, rot_to = (rotors[0], rotors[n]) if not reverse else (rotors[n], rotors[0])\n",
    "        return rot_to[rot_from.index(symbol)]\n",
    "\n",
    "rotor('A', 1)"
   ]
  },
  {
   "cell_type": "code",
   "execution_count": 19,
   "metadata": {},
   "outputs": [
    {
     "output_type": "execute_result",
     "data": {
      "text/plain": [
       "'Y'"
      ]
     },
     "metadata": {},
     "execution_count": 19
    }
   ],
   "source": [
    "'''\n",
    "Реализуйте функцию \"отражатель\". Пока для нас она аналогична ротору, за 2 исключениями:\n",
    "\n",
    "Имеет только 1 направление\n",
    "Отражатель с функцией шифрования всегда соединяет символы парами\n",
    "Реализуйте 2 отражателя:\n",
    "\n",
    "0 - без шифрования\n",
    "1 - отражатель вида \"B\"\n",
    "Спецификация на Отражатели (и таблица соответствия символов) - http://www.codesandciphers.org.uk/enigma/rotorspec.htm\n",
    "\n",
    " \n",
    "\n",
    "Реализуйте функцию reflector(symbol, n):\n",
    "\n",
    "symbol - символ, поступающий для шифрования\n",
    "n - номер отражателя\n",
    "'''\n",
    "\n",
    "reflectors = {\n",
    "    0: 'ABCDEFGHIJKLMNOPQRSTUVWXYZ',\n",
    "    1: 'YRUHQSLDPXNGOKMIEBFZCWVJAT'\n",
    "}\n",
    "\n",
    "def reflector(symbol, n):\n",
    "    return reflectors[n][reflectors[0].index(symbol)] if symbol.isalpha() else ''\n",
    "\n",
    "reflector('A', 1)"
   ]
  },
  {
   "cell_type": "code",
   "execution_count": 20,
   "metadata": {},
   "outputs": [
    {
     "output_type": "execute_result",
     "data": {
      "text/plain": [
       "'LDRBBKJMWGFBOFBYF'"
      ]
     },
     "metadata": {},
     "execution_count": 20
    }
   ],
   "source": [
    "'''\n",
    "Смещения и движение роторов/отражателей отсутствуют. Фактически мы реализуем примеры 1 и 2 с предыдущего шага.\n",
    "Реализуйте функцию enigma(text, ref, rot1, rot2, rot3), где:\n",
    "\n",
    "text - исходный текст, который необходимо зашифровать\n",
    "ref - номер отражателя (согласно задаче https://stepik.org/lesson/283487/step/3)\n",
    "rot1, rot2, rot3 - номера роторов (согласно задаче https://stepik.org/lesson/283487/step/2)\n",
    "Функция возвращает зашифрованный текст.\n",
    "\n",
    "Сигнал распространяется по машине справа налево (и после отражения обратно)\n",
    "'''\n",
    "\n",
    "def enigma(text, ref, rot1, rot2, rot3):\n",
    "    res = ''\n",
    "    for letter in text.upper():\n",
    "        if not letter.isalpha():\n",
    "            continue\n",
    "        s = rotor(letter, rot3)\n",
    "        s = rotor(s, rot2)\n",
    "        s = rotor(s, rot1)\n",
    "        s = reflector(s, ref)\n",
    "        s = rotor(s, rot1, reverse=True)\n",
    "        s = rotor(s, rot2, reverse=True)\n",
    "        res += rotor(s, rot3, reverse=True)\n",
    "    return res\n",
    "\n",
    "enigma('Some encripted text', 1, 1, 2, 3)"
   ]
  },
  {
   "cell_type": "code",
   "execution_count": 42,
   "metadata": {},
   "outputs": [
    {
     "output_type": "execute_result",
     "data": {
      "text/plain": [
       "'D'"
      ]
     },
     "metadata": {},
     "execution_count": 42
    }
   ],
   "source": [
    "'''Реализуйте функцию enigma(text, ref, rot1, shift1, rot2, shift2, rot3, shift3) с поворачивающимися роторами, как они описаны на предыдущем шаге.\n",
    "\n",
    "text - исходный текст, который необходимо зашифровать\n",
    "ref - номер отражателя (согласно задаче https://stepik.org/lesson/283487/step/3)\n",
    "rot1, rot2, rot3 - номера роторов (согласно задаче https://stepik.org/lesson/283487/step/2)\n",
    "shift1, shift2, shift3 - сдвиги роторов (1, 2 и 3, соответственно)\n",
    "'''\n",
    "\n",
    "def shift(letter, step):\n",
    "    return rotors[0][(rotors[0].index(letter) + step) % L]\n",
    "\n",
    "def enigma(text, ref, rot1, shift1, rot2, shift2, rot3, shift3):\n",
    "    res = ''\n",
    "    for letter in text.upper():\n",
    "        if not letter.isalpha():\n",
    "            continue\n",
    "        s = rotor(shift(letter, shift3), rot3)\n",
    "        s = rotor(shift(s, shift2-shift3), rot2)\n",
    "        s = rotor(shift(s, shift1-shift2), rot1)\n",
    "        s = reflector(shift(s, -shift1), ref)\n",
    "        s = rotor(shift(s, shift1), rot1, reverse=True)\n",
    "        s = rotor(shift(s, shift2-shift1), rot2, reverse=True)\n",
    "        s = rotor(shift(s, shift3-shift2), rot3, reverse=True)\n",
    "        res += shift(s, -shift3)\n",
    "    return res\n",
    "\n",
    "enigma('A', 1, 2, 4, 2, 5, 2, 6)"
   ]
  },
  {
   "cell_type": "code",
   "execution_count": 44,
   "metadata": {},
   "outputs": [
    {
     "output_type": "execute_result",
     "data": {
      "text/plain": [
       "'BGDMBTZ'"
      ]
     },
     "metadata": {},
     "execution_count": 44
    }
   ],
   "source": [
    "'''\n",
    "Реализуйте функцию enigma(text, ref, rot1, shift1, rot2, shift2, rot3, shift3) с поворачивающимися и двигающимися роторами\n",
    "'''\n",
    "shifts = {\n",
    "    1: 17-1,\n",
    "    2: 5-1,\n",
    "    3: 22-1\n",
    "}\n",
    "\n",
    "def new_shift(rot1, shift1, rot2, shift2, rot3, shift3):\n",
    "    if shift2 == shifts[rot2]:\n",
    "        shift1 = (shift1 + 1) % L\n",
    "        shift2 = (shift2 + 1) % L\n",
    "    if shift3 == shifts[rot3]:\n",
    "        shift2 = (shift2 + 1) % L\n",
    "    shift3 = (shift3 + 1) % L\n",
    "    return (shift1, shift2, shift3)\n",
    "\n",
    "new_shift(2, 3, 2, 4, 2, 5)\n",
    "\n",
    "def enigma(text, ref, rot1, shift1, rot2, shift2, rot3, shift3):\n",
    "    res = ''\n",
    "    for letter in text.upper():\n",
    "        if not letter.isalpha():\n",
    "            continue\n",
    "        shift1, shift2, shift3 = new_shift(rot1, shift1, rot2, shift2, rot3, shift3)\n",
    "        s = rotor(shift(letter, shift3), rot3)\n",
    "        s = rotor(shift(s, shift2-shift3), rot2)\n",
    "        s = rotor(shift(s, shift1-shift2), rot1)\n",
    "        s = reflector(shift(s, -shift1), ref)\n",
    "        s = rotor(shift(s, shift1), rot1, reverse=True)\n",
    "        s = rotor(shift(s, shift2-shift1), rot2, reverse=True)\n",
    "        s = rotor(shift(s, shift3-shift2), rot3, reverse=True)\n",
    "        res += shift(s, -shift3)\n",
    "    return res\n",
    "\n",
    "enigma('AAAAAAA', 1, 2, 3, 2, 3, 2, 3)"
   ]
  },
  {
   "cell_type": "code",
   "execution_count": null,
   "metadata": {},
   "outputs": [],
   "source": []
  }
 ]
}