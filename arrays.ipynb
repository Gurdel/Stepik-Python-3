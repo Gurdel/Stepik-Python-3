{
 "metadata": {
  "language_info": {
   "codemirror_mode": {
    "name": "ipython",
    "version": 3
   },
   "file_extension": ".py",
   "mimetype": "text/x-python",
   "name": "python",
   "nbconvert_exporter": "python",
   "pygments_lexer": "ipython3",
   "version": "3.8.5-final"
  },
  "orig_nbformat": 2,
  "kernelspec": {
   "name": "python3",
   "display_name": "Python 3",
   "language": "python"
  }
 },
 "nbformat": 4,
 "nbformat_minor": 2,
 "cells": [
  {
   "cell_type": "code",
   "execution_count": 1,
   "metadata": {},
   "outputs": [
    {
     "output_type": "stream",
     "name": "stdout",
     "text": [
      "8\n"
     ]
    }
   ],
   "source": [
    "'''\n",
    "На вход подаётся строка из 3 целых чисел.\n",
    "\n",
    "Найдите сумму чисел.\n",
    "'''\n",
    "\n",
    "print(sum(map(int, input().split())))"
   ]
  },
  {
   "cell_type": "code",
   "execution_count": null,
   "metadata": {},
   "outputs": [],
   "source": [
    "'''\n",
    "Считайте 2 строки. Каждая строка содержит по 3 натуральных числа.\n",
    "\n",
    "Найдите сумму чисел в каждой строке и выведите на печать одной строкой.\n",
    "\n",
    "В качестве разделителя между двумя получившимися числами используйте символ \"#\"\n",
    "'''\n",
    "\n",
    "a, b = [map(int, input().split()) for _ in range(2)]\n",
    "print(sum(a), sum(b), sep='#')"
   ]
  },
  {
   "cell_type": "code",
   "execution_count": null,
   "metadata": {},
   "outputs": [],
   "source": [
    "'''\n",
    "На вход подаётся 1 строка, слова в которой разделены символом \"&\".\n",
    "\n",
    "Необходимо вывести все слова из строки (без дубликатов) с пробелом в качестве разделителя.\n",
    "'''\n",
    "\n",
    "print(*set(input().split('&')))"
   ]
  },
  {
   "cell_type": "code",
   "execution_count": null,
   "metadata": {},
   "outputs": [],
   "source": [
    "'''\n",
    "На вход подаётся строка, слова в которой разделены между собой пробелами.\n",
    "\n",
    "Напечатайте 2, 3 и предпоследнее слова из строки (через пробел)\n",
    "'''\n",
    "\n",
    "s = input().split()\n",
    "print(s[1], s[2], s[-2])"
   ]
  },
  {
   "cell_type": "code",
   "execution_count": null,
   "metadata": {},
   "outputs": [],
   "source": [
    "'''\n",
    "На вход подаётся 1 строка, слова в которой разделены пробелами.\n",
    "\n",
    "Напечатайте слова из этой строки в обратном порядке, используя в качестве разделителя \"-$-\"\n",
    "'''\n",
    "\n",
    "s = input().split()\n",
    "print(*s[::-1], sep='-$-')"
   ]
  },
  {
   "cell_type": "code",
   "execution_count": 4,
   "metadata": {},
   "outputs": [
    {
     "output_type": "stream",
     "name": "stdout",
     "text": [
      "[1, 2, 3] [1, 2, 3] [1, 2, 3]\n[1, 2, 3] [1, 2, 3] ['d', 2, 3]\n"
     ]
    }
   ],
   "source": [
    "L1 = [1, 2, 3]\n",
    "L2 = L1\n",
    "L3 = L1.copy()\n",
    "print(L1, L2, L3)\n",
    "L3[0] = 'd'\n",
    "print(L1, L2, L3)"
   ]
  },
  {
   "cell_type": "code",
   "execution_count": 5,
   "metadata": {},
   "outputs": [
    {
     "output_type": "stream",
     "name": "stdout",
     "text": [
      "[['', 2], [3, 4]]\n[['', 2], [3, 4]]\n"
     ]
    },
    {
     "output_type": "execute_result",
     "data": {
      "text/plain": [
       "[['', 2], [3, 4]]"
      ]
     },
     "metadata": {},
     "execution_count": 5
    }
   ],
   "source": [
    "L = [[1, 2], [3, 4]]\n",
    "L2 = L.copy()\n",
    "L2[0][0] = ''\n",
    "print(L)\n",
    "print(L2)\n",
    "\n",
    "[['', 2], [3, 4]]\n",
    "[['', 2], [3, 4]]"
   ]
  },
  {
   "cell_type": "code",
   "execution_count": null,
   "metadata": {},
   "outputs": [],
   "source": [
    "'''\n",
    "На вход подаётся 1 строка, слова в которой разделены пробелами.\n",
    "\n",
    "Напечатайте через пробел число слов в строке и число слов \"one\" в строке.\n",
    "\n",
    "\n",
    "\n",
    "Примечание1. Учитывайте вхождение только слова полностью в нижнем регистре - \"one\". \"One\", \"ONE\" и т.п. не учитывайте.\n",
    "\n",
    "Примечание2. Число элементов списка L можно получить с помощью конструкции len(L)\n",
    "'''\n",
    "\n",
    "s = input().split()\n",
    "print(len(s), s.count('one'))"
   ]
  },
  {
   "cell_type": "code",
   "execution_count": null,
   "metadata": {},
   "outputs": [],
   "source": [
    "'''\n",
    "Функция sum() принимает на вход массив(любого типа) чисел и находит их сумму:\n",
    "\n",
    "Считайте строку, содержащую произвольное количество целых чисел и найдите их сумму.\n",
    "'''\n",
    "\n",
    "s = input().split()\n",
    "print(sum(map(int, s)))"
   ]
  }
 ]
}