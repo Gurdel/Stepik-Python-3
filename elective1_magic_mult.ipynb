{
 "metadata": {
  "language_info": {
   "codemirror_mode": {
    "name": "ipython",
    "version": 3
   },
   "file_extension": ".py",
   "mimetype": "text/x-python",
   "name": "python",
   "nbconvert_exporter": "python",
   "pygments_lexer": "ipython3",
   "version": "3.8.5-final"
  },
  "orig_nbformat": 2,
  "kernelspec": {
   "name": "python3",
   "display_name": "Python 3",
   "language": "python"
  }
 },
 "nbformat": 4,
 "nbformat_minor": 2,
 "cells": [
  {
   "cell_type": "code",
   "execution_count": 1,
   "metadata": {},
   "outputs": [
    {
     "output_type": "execute_result",
     "data": {
      "text/plain": [
       "9312"
      ]
     },
     "metadata": {},
     "execution_count": 1
    }
   ],
   "source": [
    "'''\n",
    "Напишите функцию simple_multiplication(x, y), реализующую умножение по схеме мудреца с прошлого шага.\n",
    "'''\n",
    "\n",
    "def simple_multiplication(x, y):\n",
    "    a = 100 - x\n",
    "    b = 100 - y\n",
    "    return 100 * (100-a-b) + a*b\n",
    "\n",
    "simple_multiplication(96, 97)"
   ]
  },
  {
   "cell_type": "code",
   "execution_count": 2,
   "metadata": {},
   "outputs": [
    {
     "output_type": "execute_result",
     "data": {
      "text/plain": [
       "True"
      ]
     },
     "metadata": {},
     "execution_count": 2
    }
   ],
   "source": [
    "'''\n",
    "Напишите функцию multiplication_check(x, y), которая будет проверять корректность работы методом мудреца для умножения чисел x и y. Результат работы функции - логическое значение (True/False).\n",
    "'''\n",
    "\n",
    "def multiplication_check(x, y):\n",
    "    return simple_multiplication(x, y) == x*y\n",
    "\n",
    "multiplication_check(96, 97)"
   ]
  },
  {
   "cell_type": "code",
   "execution_count": 3,
   "metadata": {},
   "outputs": [
    {
     "output_type": "stream",
     "name": "stdout",
     "text": [
      "Правильных результатов: 8100\nНеправильных результатов: 0\n"
     ]
    }
   ],
   "source": [
    "'''\n",
    "Пришла пора убедиться в том работает или нет схема. Для этого рассмотрим все пары двузначных чисел (от 10 до 99).\n",
    "\n",
    "Чтобы задача была интереснее напишите универсальную функцию multiplication_check_list(start, stop), которая по умолчанию будет проверять весь интервал двузначных чисел (если никакие параметры не переданы), но так же позволит проверять и произвольные интервалы (например, от 15 до 20).\n",
    "\n",
    "Гарантируется, что start НЕ БОЛЬШЕ stop.\n",
    "'''\n",
    "\n",
    "def multiplication_check_list(start=10, stop=99):\n",
    "    stop += 1\n",
    "    res = [multiplication_check(x, y) for x in range(start, stop) for y in range(start, stop)]\n",
    "    print(f'Правильных результатов: {res.count(True)}')\n",
    "    print(f'Неправильных результатов: {res.count(False)}')\n",
    "\n",
    "multiplication_check_list()"
   ]
  },
  {
   "cell_type": "code",
   "execution_count": null,
   "metadata": {},
   "outputs": [],
   "source": []
  }
 ]
}