{
 "metadata": {
  "language_info": {
   "codemirror_mode": {
    "name": "ipython",
    "version": 3
   },
   "file_extension": ".py",
   "mimetype": "text/x-python",
   "name": "python",
   "nbconvert_exporter": "python",
   "pygments_lexer": "ipython3",
   "version": "3.8.5-final"
  },
  "orig_nbformat": 2,
  "kernelspec": {
   "name": "python3",
   "display_name": "Python 3",
   "language": "python"
  }
 },
 "nbformat": 4,
 "nbformat_minor": 2,
 "cells": [
  {
   "cell_type": "code",
   "execution_count": 1,
   "metadata": {},
   "outputs": [
    {
     "output_type": "execute_result",
     "data": {
      "text/plain": [
       "9312"
      ]
     },
     "metadata": {},
     "execution_count": 1
    }
   ],
   "source": [
    "'''\n",
    "Напишите функцию simple_multiplication(x, y), реализующую умножение по схеме мудреца с прошлого шага.\n",
    "'''\n",
    "\n",
    "def simple_multiplication(x, y):\n",
    "    a = 100 - x\n",
    "    b = 100 - y\n",
    "    return 100 * (100-a-b) + a*b\n",
    "\n",
    "simple_multiplication(96, 97)"
   ]
  },
  {
   "cell_type": "code",
   "execution_count": 2,
   "metadata": {},
   "outputs": [
    {
     "output_type": "execute_result",
     "data": {
      "text/plain": [
       "True"
      ]
     },
     "metadata": {},
     "execution_count": 2
    }
   ],
   "source": [
    "'''\n",
    "Напишите функцию multiplication_check(x, y), которая будет проверять корректность работы методом мудреца для умножения чисел x и y. Результат работы функции - логическое значение (True/False).\n",
    "'''\n",
    "\n",
    "def multiplication_check(x, y):\n",
    "    return simple_multiplication(x, y) == x*y\n",
    "\n",
    "multiplication_check(96, 97)"
   ]
  },
  {
   "cell_type": "code",
   "execution_count": 3,
   "metadata": {},
   "outputs": [
    {
     "output_type": "stream",
     "name": "stdout",
     "text": [
      "Правильных результатов: 8100\nНеправильных результатов: 0\n"
     ]
    }
   ],
   "source": [
    "'''\n",
    "Пришла пора убедиться в том работает или нет схема. Для этого рассмотрим все пары двузначных чисел (от 10 до 99).\n",
    "\n",
    "Чтобы задача была интереснее напишите универсальную функцию multiplication_check_list(start, stop), которая по умолчанию будет проверять весь интервал двузначных чисел (если никакие параметры не переданы), но так же позволит проверять и произвольные интервалы (например, от 15 до 20).\n",
    "\n",
    "Гарантируется, что start НЕ БОЛЬШЕ stop.\n",
    "'''\n",
    "\n",
    "def multiplication_check_list(start=10, stop=99):\n",
    "    stop += 1\n",
    "    res = [multiplication_check(x, y) for x in range(start, stop) for y in range(start, stop)]\n",
    "    print(f'Правильных результатов: {res.count(True)}')\n",
    "    print(f'Неправильных результатов: {res.count(False)}')\n",
    "\n",
    "multiplication_check_list()"
   ]
  },
  {
   "cell_type": "code",
   "execution_count": 4,
   "metadata": {},
   "outputs": [
    {
     "output_type": "execute_result",
     "data": {
      "text/plain": [
       "(9801, 981)"
      ]
     },
     "metadata": {},
     "execution_count": 4
    }
   ],
   "source": [
    "'''\n",
    "Напишите функцию wisdom_multiplication(x, y, length_check = True), реализующую умножение по схеме мудреца с прошлого шага.\n",
    "\n",
    "Вычитаем из 100 первое и второе число.\n",
    "Складываем результаты шага 1.\n",
    "Вычитаем из 100 результат шага 2.\n",
    "Перемножаем результаты шага 1.\n",
    "Результат шага 3 даёт первые цифры результата, а результат шага 4 даёт последние 2 цифры результата.\n",
    "В зависимости от значения аргумента length_check функция проверяет или нет длину результата шага 4 и при необходимости дописывает 0 перед ним (если результат всего 1 цифра).\n",
    "\n",
    "Функция должна возвращать целое число.\n",
    "'''\n",
    "\n",
    "def wisdom_multiplication(x, y, length_check=True):\n",
    "    a = 100 - x\n",
    "    b = 100 - y\n",
    "    first = 100 - a - b\n",
    "    second = a * b\n",
    "    if length_check and second < 10:\n",
    "        return int(str(first) + '0' + str(second))\n",
    "    return int(str(first) + str(second))\n",
    "\n",
    "wisdom_multiplication(99, 99), wisdom_multiplication(99, 99, False)"
   ]
  },
  {
   "cell_type": "code",
   "execution_count": null,
   "metadata": {},
   "outputs": [],
   "source": [
    "'''\n",
    "Напишите 2 функцию multiplication_check_list(start=10, stop=99, length_check = True)\n",
    "\n",
    "Для проверки всех пар в интервале.\n",
    "\n",
    "В зависимости от значения аргумента length_check добавляйте при необходимости 0 при конкатенации.\n",
    "\n",
    " \n",
    "\n",
    "multiplication_check_list должна уметь печатать:\n",
    "\n",
    "Правильных результатов: n\n",
    "Неправильных результатов: m\n",
    "'''\n",
    "\n",
    "def multiplication_check_list(start=10, stop=99, length_check=True):\n",
    "    stop += 1\n",
    "    res = [wisdom_multiplication(x, y, length_check)==x*y for x in range(start, stop) for y in range(start, stop)]\n",
    "    print(f'Правильных результатов: {res.count(True)}')\n",
    "    print(f'Неправильных результатов: {res.count(False)}')"
   ]
  }
 ]
}