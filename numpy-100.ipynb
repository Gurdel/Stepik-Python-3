{
 "metadata": {
  "language_info": {
   "codemirror_mode": {
    "name": "ipython",
    "version": 3
   },
   "file_extension": ".py",
   "mimetype": "text/x-python",
   "name": "python",
   "nbconvert_exporter": "python",
   "pygments_lexer": "ipython3",
   "version": "3.8.5-final"
  },
  "orig_nbformat": 2,
  "kernelspec": {
   "name": "python3",
   "display_name": "Python 3",
   "language": "python"
  }
 },
 "nbformat": 4,
 "nbformat_minor": 2,
 "cells": [
  {
   "cell_type": "code",
   "execution_count": 2,
   "metadata": {},
   "outputs": [],
   "source": [
    "'''\n",
    "Импортируйте модуль numpy как np\n",
    "'''\n",
    "\n",
    "import numpy as np"
   ]
  },
  {
   "cell_type": "code",
   "execution_count": 6,
   "metadata": {},
   "outputs": [
    {
     "output_type": "stream",
     "name": "stdout",
     "text": [
      "1.19.2\n1.19.2\n"
     ]
    }
   ],
   "source": [
    "'''\n",
    "Выведите на печать версию модуля numpy, используемую в текущий момент в песочнице Stepik.\n",
    "'''\n",
    "\n",
    "print(np.__version__)\n",
    "print(np.version.version)"
   ]
  },
  {
   "cell_type": "code",
   "execution_count": 10,
   "metadata": {},
   "outputs": [
    {
     "output_type": "execute_result",
     "data": {
      "text/plain": [
       "array([0., 0., 0., 0., 0.])"
      ]
     },
     "metadata": {},
     "execution_count": 10
    }
   ],
   "source": [
    "'''\n",
    "Считайте число n\n",
    "\n",
    "Создайте в переменной Z Numpy вектор из нулей длины n.\n",
    "'''\n",
    "\n",
    "Z = np.zeros(int(input()))\n",
    "Z"
   ]
  },
  {
   "cell_type": "code",
   "execution_count": 33,
   "metadata": {},
   "outputs": [
    {
     "output_type": "execute_result",
     "data": {
      "text/plain": [
       "array([[False, False, False, False, False],\n",
       "       [False, False, False, False, False]])"
      ]
     },
     "metadata": {},
     "execution_count": 33
    }
   ],
   "source": [
    "'''\n",
    "Считайте строку, где значения заданы через пробел shape и dtype\n",
    "\n",
    "Последнее значение в строке может быть либо числом (тогда это последнее значение кортежа shape, либо строкой dtype)\n",
    "\n",
    "shape - атрибут, задающий размеры матрицы нолей (позволяет вернуть вектор-строку, вектор-столбец, матрицу, куб и т.д.)\n",
    "dtype - тип данных, использующихся для значений матрицы. По-умолчанию используется numpy.float64.\n",
    "Создайте матрицу Z размера shape, со значениями типа dtype (если dtype не указан, используйте numpy.float64)\n",
    "'''\n",
    "\n",
    "shape = input().split()\n",
    "if shape[-1].isalpha():\n",
    "    Z = np.zeros(tuple(map(int, shape[:-1])), dtype=shape[-1])\n",
    "else:\n",
    "    Z = np.zeros(tuple(map(int, shape)))\n",
    "\n",
    "Z"
   ]
  },
  {
   "cell_type": "code",
   "execution_count": 37,
   "metadata": {},
   "outputs": [
    {
     "output_type": "stream",
     "name": "stdout",
     "text": [
      "24\n"
     ]
    }
   ],
   "source": [
    "'''\n",
    "Посчитайте размер матрицы Z в байтах и выведите его на печать.\n",
    "'''\n",
    "\n",
    "Z = np.array([1,2,3], dtype=np.float64)\n",
    "print(Z.itemsize * Z.size)"
   ]
  },
  {
   "cell_type": "code",
   "execution_count": 42,
   "metadata": {},
   "outputs": [
    {
     "output_type": "execute_result",
     "data": {
      "text/plain": [
       "'\\nВыведите на печать встроенную документацию для функции add numpy, а потом объекта numpy.array\\n'"
      ]
     },
     "metadata": {},
     "execution_count": 42
    }
   ],
   "source": [
    "'''\n",
    "Выведите на печать встроенную документацию для функции add numpy, а потом объекта numpy.array\n",
    "'''\n",
    "\n",
    "#np.info(np.add)\n",
    "#np.info(np.array)"
   ]
  },
  {
   "cell_type": "code",
   "execution_count": 44,
   "metadata": {},
   "outputs": [
    {
     "output_type": "execute_result",
     "data": {
      "text/plain": [
       "array([0., 1., 0., 0.])"
      ]
     },
     "metadata": {},
     "execution_count": 44
    }
   ],
   "source": [
    "'''\n",
    "Считайте 2 числа:\n",
    "\n",
    "n - размер Numpy вектора\n",
    "x - координата элемента вектора, который должен быть равен 1. Остальные элементы вектора должны быть равны 0.\n",
    "Сохраните вектор в переменную Z.\n",
    "'''\n",
    "\n",
    "n, x = int(input()), int(input())\n",
    "Z = np.zeros(n)\n",
    "Z[x] = 1\n",
    "Z"
   ]
  },
  {
   "cell_type": "code",
   "execution_count": 49,
   "metadata": {},
   "outputs": [
    {
     "output_type": "execute_result",
     "data": {
      "text/plain": [
       "array([ 5,  6,  7,  8,  9, 10])"
      ]
     },
     "metadata": {},
     "execution_count": 49
    }
   ],
   "source": [
    "'''\n",
    "Считайте 2 числа n, m.\n",
    "\n",
    "Создайте вектор Z состоящий из чисел от n до m с шагом 1.\n",
    "'''\n",
    "\n",
    "n, m = int(input()), int(input())\n",
    "Z = np.arange(n, m+1)\n",
    "Z"
   ]
  },
  {
   "cell_type": "code",
   "execution_count": 63,
   "metadata": {},
   "outputs": [
    {
     "output_type": "execute_result",
     "data": {
      "text/plain": [
       "array([4, 3, 2, 1])"
      ]
     },
     "metadata": {},
     "execution_count": 63
    }
   ],
   "source": [
    "'''\n",
    "Дан вектор Z\n",
    "\n",
    "\"Разверните\" его.\n",
    "'''\n",
    "\n",
    "Z = np.array([1, 2, 3, 4])\n",
    "Z = Z[::-1]\n",
    "Z"
   ]
  },
  {
   "cell_type": "code",
   "execution_count": 70,
   "metadata": {},
   "outputs": [
    {
     "output_type": "execute_result",
     "data": {
      "text/plain": [
       "array([[0, 1, 2],\n",
       "       [3, 4, 5]])"
      ]
     },
     "metadata": {},
     "execution_count": 70
    }
   ],
   "source": [
    "'''\n",
    "Считайте 3 числа:\n",
    "\n",
    "n - количество элементов матрицы\n",
    "m и k - размеры матрицы (число строк и столбцов соответственно)\n",
    "Заполните матрицу Z числами от 0 до n-1 по порядку (сперва строки, потом столбцы).\n",
    "\n",
    "Гарантируется, что m*k = n, т.е. все элементы \"влезут\" в матрицу и не останется пустых мест.\n",
    "'''\n",
    "\n",
    "n = int(input())\n",
    "m, k = map(int, input().split())\n",
    "Z = np.arange(n).reshape((m, k))\n",
    "Z"
   ]
  },
  {
   "cell_type": "code",
   "execution_count": 78,
   "metadata": {},
   "outputs": [
    {
     "output_type": "execute_result",
     "data": {
      "text/plain": [
       "(array([0, 2, 4, 6], dtype=int64),)"
      ]
     },
     "metadata": {},
     "execution_count": 78
    }
   ],
   "source": [
    "'''\n",
    "Дан вектор Z\n",
    "\n",
    "Запишите в переменную NonZerros индексы ненулевых элементов.\n",
    "'''\n",
    "\n",
    "Z = np.array([1, 0, 2, 0, 3, 0, 4])\n",
    "NonZerros = np.nonzero(Z)\n",
    "NonZerros"
   ]
  },
  {
   "cell_type": "code",
   "execution_count": 82,
   "metadata": {},
   "outputs": [
    {
     "output_type": "stream",
     "name": "stdout",
     "text": [
      "[4, 5, 6, 7, 8, 9, 9]\n"
     ]
    }
   ],
   "source": [
    "'''\n",
    "Дана матрица чисел Z (Z может быть 1, 2 или даже 3 мерной).\n",
    "\n",
    "Выведите на печать список чисел из этой матрицы, которые больше 3.\n",
    "'''\n",
    "\n",
    "Z = np.array([[1, 2, 3],\n",
    "          [4, 5, 6],\n",
    "          [7, 8, 9],\n",
    "          [0, 0, 9]])\n",
    "\n",
    "print(list(Z[Z>3]))"
   ]
  },
  {
   "cell_type": "code",
   "execution_count": 3,
   "metadata": {},
   "outputs": [
    {
     "output_type": "execute_result",
     "data": {
      "text/plain": [
       "array([[1., 0., 0.],\n",
       "       [0., 1., 0.],\n",
       "       [0., 0., 1.]])"
      ]
     },
     "metadata": {},
     "execution_count": 3
    }
   ],
   "source": [
    "'''\n",
    "Считайте число n\n",
    "\n",
    "Создайте единичную матрицу размера n, сохраните результат в переменную Z.\n",
    "'''\n",
    "\n",
    "n = int(input())\n",
    "Z = np.eye(n)\n",
    "Z"
   ]
  },
  {
   "cell_type": "code",
   "execution_count": 6,
   "metadata": {},
   "outputs": [
    {
     "output_type": "execute_result",
     "data": {
      "text/plain": [
       "array([[[0.37454012, 0.95071431],\n",
       "        [0.73199394, 0.59865848]],\n",
       "\n",
       "       [[0.15601864, 0.15599452],\n",
       "        [0.05808361, 0.86617615]]])"
      ]
     },
     "metadata": {},
     "execution_count": 6
    }
   ],
   "source": [
    "'''\n",
    "Считайте 3 числа: n, m, l.\n",
    "\n",
    "Зафиксируйте значение генератора случайных чисел Numpy с помощью numpy.random.seed(42)\n",
    "Создайте матрицу n*m*l из случайных чисел (от 0 до 1) и сохраните результат в переменную Z.\n",
    "'''\n",
    "\n",
    "n, m, l = map(int, input().split())\n",
    "np.random.seed(42)\n",
    "Z = np.random.random((n, m, l))\n",
    "Z"
   ]
  },
  {
   "cell_type": "code",
   "execution_count": 7,
   "metadata": {},
   "outputs": [
    {
     "output_type": "stream",
     "name": "stdout",
     "text": [
      "0.005522117123602399\n0.9868869366005173\n"
     ]
    }
   ],
   "source": [
    "'''\n",
    "Считайте 2 числа: n, m.\n",
    "\n",
    "Зафиксируйте значение генератора случайных чисел Numpy с помощью\n",
    "\n",
    "numpy.random.seed(42)\n",
    "Создайте матрицу n*m из случайных чисел (от 0 до 1).\n",
    "Выведите на печать значение минимального и максимального чисел в получившейся матрице (каждое с новой строки).\n",
    "'''\n",
    "\n",
    "n, m = map(int, input().split())\n",
    "np.random.seed(42)\n",
    "M = np.random.random((n, m))\n",
    "print(np.min(M), np.max(M), sep='\\n')"
   ]
  },
  {
   "cell_type": "code",
   "execution_count": 9,
   "metadata": {},
   "outputs": [
    {
     "output_type": "stream",
     "name": "stdout",
     "text": [
      "0.4923750160905882\n"
     ]
    }
   ],
   "source": [
    "'''\n",
    "Считайте 2 числа: n, m.\n",
    "\n",
    "Зафиксируйте значение генератора случайных чисел Numpy с помощью\n",
    "\n",
    "numpy.random.seed(42)\n",
    "Создайте матрицу n*m из случайных чисел (от 0 до 1).\n",
    "Выведите на печать значение среднего для всей матрицы.\n",
    "'''\n",
    "\n",
    "n, m = map(int, input().split())\n",
    "np.random.seed(42)\n",
    "M = np.random.random((n, m))\n",
    "print(np.mean(M))"
   ]
  },
  {
   "cell_type": "code",
   "execution_count": 15,
   "metadata": {},
   "outputs": [
    {
     "output_type": "stream",
     "name": "stdout",
     "text": [
      "0.270220682758469\n0.8115814940446553\n"
     ]
    }
   ],
   "source": [
    "'''\n",
    "Считайте 2 числа: n, m.\n",
    "\n",
    "Зафиксируйте значение генератора случайных чисел Numpy с помощью\n",
    "\n",
    "numpy.random.seed(42)\n",
    "Создайте матрицу n*m из случайных чисел (от 0 до 1).\n",
    "Найдите среднее значение для каждого из столбцов.\n",
    "Выведите на печать значение минимального и максимального среднего по столбцам (каждое с новой строки).\n",
    "'''\n",
    "\n",
    "n, m = map(int, input().split())\n",
    "np.random.seed(42)\n",
    "avg = np.random.random((n, m)).mean(axis=0)\n",
    "print(np.min(avg), np.max(M), sep='\\n')"
   ]
  },
  {
   "cell_type": "code",
   "execution_count": 20,
   "metadata": {},
   "outputs": [
    {
     "output_type": "execute_result",
     "data": {
      "text/plain": [
       "array([[1., 1., 1., 1., 1., 1., 1., 1., 1., 1.],\n",
       "       [1., 0., 0., 0., 0., 0., 0., 0., 0., 1.],\n",
       "       [1., 0., 0., 0., 0., 0., 0., 0., 0., 1.],\n",
       "       [1., 0., 0., 0., 0., 0., 0., 0., 0., 1.],\n",
       "       [1., 0., 0., 0., 0., 0., 0., 0., 0., 1.],\n",
       "       [1., 0., 0., 0., 0., 0., 0., 0., 0., 1.],\n",
       "       [1., 0., 0., 0., 0., 0., 0., 0., 0., 1.],\n",
       "       [1., 0., 0., 0., 0., 0., 0., 0., 0., 1.],\n",
       "       [1., 0., 0., 0., 0., 0., 0., 0., 0., 1.],\n",
       "       [1., 1., 1., 1., 1., 1., 1., 1., 1., 1.]])"
      ]
     },
     "metadata": {},
     "execution_count": 20
    }
   ],
   "source": [
    "'''\n",
    "Считайте 2 числа: n, m.\n",
    "\n",
    "Создайте матрицу размера n*m такую что:\n",
    "На границе матрицы будут стоять 1\n",
    "Внутри матрицы будут стоять 0\n",
    "Сохраните матрицу в переменную Z.\n",
    "'''\n",
    "\n",
    "n, m = map(int, input().split())\n",
    "Z = np.ones((n, m))\n",
    "Z[1:-1, 1:-1] = 0\n",
    "Z"
   ]
  },
  {
   "cell_type": "code",
   "execution_count": 33,
   "metadata": {},
   "outputs": [
    {
     "output_type": "execute_result",
     "data": {
      "text/plain": [
       "array([[0, 0, 0, 0, 0, 0, 0],\n",
       "       [0, 1, 1, 1, 1, 1, 0],\n",
       "       [0, 1, 1, 1, 1, 1, 0],\n",
       "       [0, 1, 1, 1, 1, 1, 0],\n",
       "       [0, 1, 1, 1, 1, 1, 0],\n",
       "       [0, 1, 1, 1, 1, 1, 0],\n",
       "       [0, 0, 0, 0, 0, 0, 0]])"
      ]
     },
     "metadata": {},
     "execution_count": 33
    }
   ],
   "source": [
    "'''\n",
    "Имеется матрица Z\n",
    "Добавьте вокруг имеющихся значений матрицы \"забор\" из 0.\n",
    "'''\n",
    "\n",
    "Z = np.ones((5, 5))\n",
    "M = np.zeros(np.array(Z.shape)+2, dtype=int)\n",
    "M[1:-1, 1:-1] = Z\n",
    "Z = M\n",
    "Z"
   ]
  },
  {
   "cell_type": "code",
   "execution_count": 34,
   "metadata": {},
   "outputs": [
    {
     "output_type": "execute_result",
     "data": {
      "text/plain": [
       "array([[0., 0., 0., 0., 0., 0., 0.],\n",
       "       [0., 1., 1., 1., 1., 1., 0.],\n",
       "       [0., 1., 1., 1., 1., 1., 0.],\n",
       "       [0., 1., 1., 1., 1., 1., 0.],\n",
       "       [0., 1., 1., 1., 1., 1., 0.],\n",
       "       [0., 1., 1., 1., 1., 1., 0.],\n",
       "       [0., 0., 0., 0., 0., 0., 0.]])"
      ]
     },
     "metadata": {},
     "execution_count": 34
    }
   ],
   "source": [
    "Z = np.ones((5, 5))\n",
    "Z = np.pad(Z, 1)\n",
    "Z"
   ]
  },
  {
   "cell_type": "code",
   "execution_count": 37,
   "metadata": {},
   "outputs": [
    {
     "output_type": "stream",
     "name": "stdout",
     "text": [
      "2820205712304\n2820205712304\nTrue\nFalse\n"
     ]
    }
   ],
   "source": [
    "n = np.nan\n",
    "m = np.nan\n",
    "print(id(n), id(m), sep='\\n')\n",
    "print(id(n) == id(m))\n",
    "print(n == m)"
   ]
  },
  {
   "cell_type": "code",
   "execution_count": 38,
   "metadata": {},
   "outputs": [
    {
     "output_type": "stream",
     "name": "stdout",
     "text": [
      "nan\nFalse\nFalse\nnan\nTrue\nFalse\nTrue\n"
     ]
    }
   ],
   "source": [
    "print(n - m)\n",
    "print(0.3 == 3 * 0.1)\n",
    "print(n == m)\n",
    "print(0 * n)\n",
    "print(np.isnan(n))\n",
    "print(np.inf > n)\n",
    "print(n in set([m]))"
   ]
  },
  {
   "cell_type": "code",
   "execution_count": 42,
   "metadata": {},
   "outputs": [
    {
     "output_type": "execute_result",
     "data": {
      "text/plain": [
       "(array([1, 2, 3, 4, 5]),\n",
       " array([[1, 0, 0, 0, 0],\n",
       "        [0, 2, 0, 0, 0],\n",
       "        [0, 0, 3, 0, 0],\n",
       "        [0, 0, 0, 4, 0],\n",
       "        [0, 0, 0, 0, 5]]))"
      ]
     },
     "metadata": {},
     "execution_count": 42
    }
   ],
   "source": [
    "'''\n",
    "Считайте число n.\n",
    "\n",
    "Создайте диагональную матрицу размера n*n. На главной диагонали должны быть числа от 1 до n.\n",
    "Сохраните матрицу в переменную Z.\n",
    "'''\n",
    "\n",
    "n = int(input())\n",
    "v = np.arange(n) + 1\n",
    "Z = np.diag(v)\n",
    "v, Z"
   ]
  },
  {
   "cell_type": "code",
   "execution_count": 48,
   "metadata": {},
   "outputs": [
    {
     "output_type": "execute_result",
     "data": {
      "text/plain": [
       "array([[0, 0, 0, 0, 1, 0, 0, 0, 0],\n",
       "       [0, 0, 0, 0, 0, 2, 0, 0, 0],\n",
       "       [0, 0, 0, 0, 0, 0, 3, 0, 0],\n",
       "       [0, 0, 0, 0, 0, 0, 0, 4, 0],\n",
       "       [0, 0, 0, 0, 0, 0, 0, 0, 5],\n",
       "       [0, 0, 0, 0, 0, 0, 0, 0, 0],\n",
       "       [0, 0, 0, 0, 0, 0, 0, 0, 0],\n",
       "       [0, 0, 0, 0, 0, 0, 0, 0, 0],\n",
       "       [0, 0, 0, 0, 0, 0, 0, 0, 0]])"
      ]
     },
     "metadata": {},
     "execution_count": 48
    }
   ],
   "source": [
    "'''\n",
    "Считайте 2 числа:\n",
    "\n",
    "x - сдвиг для единственной ненулевой диагонали в матрице.\n",
    "k - верхняя граница для интервала чисел на диагонали (т.е. если k = 5, то на диагонали будут стоять числа 1, 2, 3, 4 и 5)\n",
    "Договоримся о значениях x:\n",
    "\n",
    "x = 0 - это главная диагональ матрицы\n",
    "x<0 - диагональ сдвигается вниз на |x| ячеек (если x = -1, то первая не нулевая ячейка будет с координатами (1,0))\n",
    "x>0 - диагональ сдвигается вправо на |x| ячеек (если x = 1, то первая ненулевая ячейка будет с координатами (0,1))\n",
    "'''\n",
    "\n",
    "k, x = map(int, input().split())\n",
    "Z = np.diag(np.arange(1, x+1), k)\n",
    "Z"
   ]
  },
  {
   "cell_type": "code",
   "execution_count": 52,
   "metadata": {},
   "outputs": [
    {
     "output_type": "execute_result",
     "data": {
      "text/plain": [
       "array([[0., 1., 0., 1., 0.],\n",
       "       [1., 0., 1., 0., 1.],\n",
       "       [0., 1., 0., 1., 0.],\n",
       "       [1., 0., 1., 0., 1.],\n",
       "       [0., 1., 0., 1., 0.]])"
      ]
     },
     "metadata": {},
     "execution_count": 52
    }
   ],
   "source": [
    "'''\n",
    "Считайте 2 числа: n, m.\n",
    "Создайте матрицу размера n*m и \"раскрасьте\" её в шахматную раскраску.\n",
    "0 - \"чёрное\"\n",
    "1 - \"белое\"\n",
    "Ячейка с координатами (0, 0) всегда \"чёрная\" (т.е. элемент (0, 0) равен 0).\n",
    "Матрицу сохраните в переменную Z.\n",
    "'''\n",
    "\n",
    "n, m = map(int, input().split())\n",
    "Z = np.ones((n, m))\n",
    "Z[::2, ::2] = 0\n",
    "Z[1::2, 1::2] = 0\n",
    "Z\n"
   ]
  },
  {
   "cell_type": "code",
   "execution_count": 55,
   "metadata": {},
   "outputs": [
    {
     "output_type": "stream",
     "name": "stdout",
     "text": [
      "(1, 2)\n"
     ]
    }
   ],
   "source": [
    "'''\n",
    "Даны:\n",
    "\n",
    "индекс i\n",
    "numpy массив Z\n",
    "Определите \"координаты\" элемента с индексом i в Z и выведите кортеж с координатами на печать.\n",
    "'''\n",
    "i = 7\n",
    "print(np.unravel_index(i, Z.shape))"
   ]
  },
  {
   "cell_type": "code",
   "execution_count": null,
   "metadata": {},
   "outputs": [],
   "source": []
  }
 ]
}