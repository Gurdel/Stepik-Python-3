{
 "metadata": {
  "language_info": {
   "codemirror_mode": {
    "name": "ipython",
    "version": 3
   },
   "file_extension": ".py",
   "mimetype": "text/x-python",
   "name": "python",
   "nbconvert_exporter": "python",
   "pygments_lexer": "ipython3",
   "version": "3.8.5-final"
  },
  "orig_nbformat": 2,
  "kernelspec": {
   "name": "python3",
   "display_name": "Python 3",
   "language": "python"
  }
 },
 "nbformat": 4,
 "nbformat_minor": 2,
 "cells": [
  {
   "cell_type": "code",
   "execution_count": 1,
   "metadata": {},
   "outputs": [],
   "source": [
    "'''\n",
    "Импортируйте модуль numpy как np\n",
    "'''\n",
    "\n",
    "import numpy as np"
   ]
  },
  {
   "cell_type": "code",
   "execution_count": 6,
   "metadata": {},
   "outputs": [
    {
     "output_type": "stream",
     "name": "stdout",
     "text": [
      "1.19.2\n1.19.2\n"
     ]
    }
   ],
   "source": [
    "'''\n",
    "Выведите на печать версию модуля numpy, используемую в текущий момент в песочнице Stepik.\n",
    "'''\n",
    "\n",
    "print(np.__version__)\n",
    "print(np.version.version)"
   ]
  },
  {
   "cell_type": "code",
   "execution_count": 10,
   "metadata": {},
   "outputs": [
    {
     "output_type": "execute_result",
     "data": {
      "text/plain": [
       "array([0., 0., 0., 0., 0.])"
      ]
     },
     "metadata": {},
     "execution_count": 10
    }
   ],
   "source": [
    "'''\n",
    "Считайте число n\n",
    "\n",
    "Создайте в переменной Z Numpy вектор из нулей длины n.\n",
    "'''\n",
    "\n",
    "Z = np.zeros(int(input()))\n",
    "Z"
   ]
  },
  {
   "cell_type": "code",
   "execution_count": 33,
   "metadata": {},
   "outputs": [
    {
     "output_type": "execute_result",
     "data": {
      "text/plain": [
       "array([[False, False, False, False, False],\n",
       "       [False, False, False, False, False]])"
      ]
     },
     "metadata": {},
     "execution_count": 33
    }
   ],
   "source": [
    "'''\n",
    "Считайте строку, где значения заданы через пробел shape и dtype\n",
    "\n",
    "Последнее значение в строке может быть либо числом (тогда это последнее значение кортежа shape, либо строкой dtype)\n",
    "\n",
    "shape - атрибут, задающий размеры матрицы нолей (позволяет вернуть вектор-строку, вектор-столбец, матрицу, куб и т.д.)\n",
    "dtype - тип данных, использующихся для значений матрицы. По-умолчанию используется numpy.float64.\n",
    "Создайте матрицу Z размера shape, со значениями типа dtype (если dtype не указан, используйте numpy.float64)\n",
    "'''\n",
    "\n",
    "shape = input().split()\n",
    "if shape[-1].isalpha():\n",
    "    Z = np.zeros(tuple(map(int, shape[:-1])), dtype=shape[-1])\n",
    "else:\n",
    "    Z = np.zeros(tuple(map(int, shape)))\n",
    "\n",
    "Z"
   ]
  },
  {
   "cell_type": "code",
   "execution_count": 37,
   "metadata": {},
   "outputs": [
    {
     "output_type": "stream",
     "name": "stdout",
     "text": [
      "24\n"
     ]
    }
   ],
   "source": [
    "'''\n",
    "Посчитайте размер матрицы Z в байтах и выведите его на печать.\n",
    "'''\n",
    "\n",
    "Z = np.array([1,2,3], dtype=np.float64)\n",
    "print(Z.itemsize * Z.size)"
   ]
  },
  {
   "cell_type": "code",
   "execution_count": 42,
   "metadata": {},
   "outputs": [
    {
     "output_type": "execute_result",
     "data": {
      "text/plain": [
       "'\\nВыведите на печать встроенную документацию для функции add numpy, а потом объекта numpy.array\\n'"
      ]
     },
     "metadata": {},
     "execution_count": 42
    }
   ],
   "source": [
    "'''\n",
    "Выведите на печать встроенную документацию для функции add numpy, а потом объекта numpy.array\n",
    "'''\n",
    "\n",
    "#np.info(np.add)\n",
    "#np.info(np.array)"
   ]
  },
  {
   "cell_type": "code",
   "execution_count": 44,
   "metadata": {},
   "outputs": [
    {
     "output_type": "execute_result",
     "data": {
      "text/plain": [
       "array([0., 1., 0., 0.])"
      ]
     },
     "metadata": {},
     "execution_count": 44
    }
   ],
   "source": [
    "'''\n",
    "Считайте 2 числа:\n",
    "\n",
    "n - размер Numpy вектора\n",
    "x - координата элемента вектора, который должен быть равен 1. Остальные элементы вектора должны быть равны 0.\n",
    "Сохраните вектор в переменную Z.\n",
    "'''\n",
    "\n",
    "n, x = int(input()), int(input())\n",
    "Z = np.zeros(n)\n",
    "Z[x] = 1\n",
    "Z"
   ]
  },
  {
   "cell_type": "code",
   "execution_count": 49,
   "metadata": {},
   "outputs": [
    {
     "output_type": "execute_result",
     "data": {
      "text/plain": [
       "array([ 5,  6,  7,  8,  9, 10])"
      ]
     },
     "metadata": {},
     "execution_count": 49
    }
   ],
   "source": [
    "'''\n",
    "Считайте 2 числа n, m.\n",
    "\n",
    "Создайте вектор Z состоящий из чисел от n до m с шагом 1.\n",
    "'''\n",
    "\n",
    "n, m = int(input()), int(input())\n",
    "Z = np.arange(n, m+1)\n",
    "Z"
   ]
  },
  {
   "cell_type": "code",
   "execution_count": 63,
   "metadata": {},
   "outputs": [
    {
     "output_type": "execute_result",
     "data": {
      "text/plain": [
       "array([4, 3, 2, 1])"
      ]
     },
     "metadata": {},
     "execution_count": 63
    }
   ],
   "source": [
    "'''\n",
    "Дан вектор Z\n",
    "\n",
    "\"Разверните\" его.\n",
    "'''\n",
    "\n",
    "Z = np.array([1, 2, 3, 4])\n",
    "Z = Z[::-1]\n",
    "Z"
   ]
  },
  {
   "cell_type": "code",
   "execution_count": 70,
   "metadata": {},
   "outputs": [
    {
     "output_type": "execute_result",
     "data": {
      "text/plain": [
       "array([[0, 1, 2],\n",
       "       [3, 4, 5]])"
      ]
     },
     "metadata": {},
     "execution_count": 70
    }
   ],
   "source": [
    "'''\n",
    "Считайте 3 числа:\n",
    "\n",
    "n - количество элементов матрицы\n",
    "m и k - размеры матрицы (число строк и столбцов соответственно)\n",
    "Заполните матрицу Z числами от 0 до n-1 по порядку (сперва строки, потом столбцы).\n",
    "\n",
    "Гарантируется, что m*k = n, т.е. все элементы \"влезут\" в матрицу и не останется пустых мест.\n",
    "'''\n",
    "\n",
    "n = int(input())\n",
    "m, k = map(int, input().split())\n",
    "Z = np.arange(n).reshape((m, k))\n",
    "Z"
   ]
  },
  {
   "cell_type": "code",
   "execution_count": 78,
   "metadata": {},
   "outputs": [
    {
     "output_type": "execute_result",
     "data": {
      "text/plain": [
       "(array([0, 2, 4, 6], dtype=int64),)"
      ]
     },
     "metadata": {},
     "execution_count": 78
    }
   ],
   "source": [
    "'''\n",
    "Дан вектор Z\n",
    "\n",
    "Запишите в переменную NonZerros индексы ненулевых элементов.\n",
    "'''\n",
    "\n",
    "Z = np.array([1, 0, 2, 0, 3, 0, 4])\n",
    "NonZerros = np.nonzero(Z)\n",
    "NonZerros"
   ]
  },
  {
   "cell_type": "code",
   "execution_count": 82,
   "metadata": {},
   "outputs": [
    {
     "output_type": "stream",
     "name": "stdout",
     "text": [
      "[4, 5, 6, 7, 8, 9, 9]\n"
     ]
    }
   ],
   "source": [
    "'''\n",
    "Дана матрица чисел Z (Z может быть 1, 2 или даже 3 мерной).\n",
    "\n",
    "Выведите на печать список чисел из этой матрицы, которые больше 3.\n",
    "'''\n",
    "\n",
    "Z = np.array([[1, 2, 3],\n",
    "          [4, 5, 6],\n",
    "          [7, 8, 9],\n",
    "          [0, 0, 9]])\n",
    "\n",
    "print(list(Z[Z>3]))"
   ]
  },
  {
   "cell_type": "code",
   "execution_count": null,
   "metadata": {},
   "outputs": [],
   "source": []
  }
 ]
}