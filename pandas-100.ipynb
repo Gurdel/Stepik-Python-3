{
 "metadata": {
  "language_info": {
   "codemirror_mode": {
    "name": "ipython",
    "version": 3
   },
   "file_extension": ".py",
   "mimetype": "text/x-python",
   "name": "python",
   "nbconvert_exporter": "python",
   "pygments_lexer": "ipython3",
   "version": "3.8.5-final"
  },
  "orig_nbformat": 2,
  "kernelspec": {
   "name": "python3",
   "display_name": "Python 3",
   "language": "python"
  }
 },
 "nbformat": 4,
 "nbformat_minor": 2,
 "cells": [
  {
   "cell_type": "code",
   "execution_count": 1,
   "metadata": {},
   "outputs": [],
   "source": [
    "'''\n",
    "Импортируйте модуль pandas как pd\n",
    "'''\n",
    "\n",
    "import pandas as pd"
   ]
  },
  {
   "cell_type": "code",
   "execution_count": 2,
   "metadata": {},
   "outputs": [
    {
     "output_type": "execute_result",
     "data": {
      "text/plain": [
       "'1.1.3'"
      ]
     },
     "metadata": {},
     "execution_count": 2
    }
   ],
   "source": [
    "'''\n",
    "Выведите на печать версию модуля pandas, используемую в текущий момент в песочнице Stepik.\n",
    "'''\n",
    "\n",
    "print(pd.__version__)"
   ]
  },
  {
   "cell_type": "code",
   "execution_count": 5,
   "metadata": {},
   "outputs": [
    {
     "output_type": "execute_result",
     "data": {
      "text/plain": [
       "  animal  age  visits priority\n",
       "a    cat  2.5       1      yes\n",
       "b    cat  3.0       3      yes\n",
       "c  snake  0.5       2       no\n",
       "d    dog  NaN       3      yes\n",
       "e    dog  5.0       2       no\n",
       "f    cat  2.0       3       no\n",
       "g  snake  4.5       1       no\n",
       "h    cat  NaN       1      yes\n",
       "i    dog  7.0       2       no\n",
       "j    dog  3.0       1       no"
      ],
      "text/html": "<div>\n<style scoped>\n    .dataframe tbody tr th:only-of-type {\n        vertical-align: middle;\n    }\n\n    .dataframe tbody tr th {\n        vertical-align: top;\n    }\n\n    .dataframe thead th {\n        text-align: right;\n    }\n</style>\n<table border=\"1\" class=\"dataframe\">\n  <thead>\n    <tr style=\"text-align: right;\">\n      <th></th>\n      <th>animal</th>\n      <th>age</th>\n      <th>visits</th>\n      <th>priority</th>\n    </tr>\n  </thead>\n  <tbody>\n    <tr>\n      <th>a</th>\n      <td>cat</td>\n      <td>2.5</td>\n      <td>1</td>\n      <td>yes</td>\n    </tr>\n    <tr>\n      <th>b</th>\n      <td>cat</td>\n      <td>3.0</td>\n      <td>3</td>\n      <td>yes</td>\n    </tr>\n    <tr>\n      <th>c</th>\n      <td>snake</td>\n      <td>0.5</td>\n      <td>2</td>\n      <td>no</td>\n    </tr>\n    <tr>\n      <th>d</th>\n      <td>dog</td>\n      <td>NaN</td>\n      <td>3</td>\n      <td>yes</td>\n    </tr>\n    <tr>\n      <th>e</th>\n      <td>dog</td>\n      <td>5.0</td>\n      <td>2</td>\n      <td>no</td>\n    </tr>\n    <tr>\n      <th>f</th>\n      <td>cat</td>\n      <td>2.0</td>\n      <td>3</td>\n      <td>no</td>\n    </tr>\n    <tr>\n      <th>g</th>\n      <td>snake</td>\n      <td>4.5</td>\n      <td>1</td>\n      <td>no</td>\n    </tr>\n    <tr>\n      <th>h</th>\n      <td>cat</td>\n      <td>NaN</td>\n      <td>1</td>\n      <td>yes</td>\n    </tr>\n    <tr>\n      <th>i</th>\n      <td>dog</td>\n      <td>7.0</td>\n      <td>2</td>\n      <td>no</td>\n    </tr>\n    <tr>\n      <th>j</th>\n      <td>dog</td>\n      <td>3.0</td>\n      <td>1</td>\n      <td>no</td>\n    </tr>\n  </tbody>\n</table>\n</div>"
     },
     "metadata": {},
     "execution_count": 5
    }
   ],
   "source": [
    "'''\n",
    "Создайте Dataframe из словаря data. В качестве подписей строк используйте список labels.\n",
    "\n",
    "Результат сохраните в переменную df.\n",
    "'''\n",
    "\n",
    "import numpy as np\n",
    "data = {'animal': ['cat', 'cat', 'snake', 'dog', 'dog', 'cat', 'snake', 'cat', 'dog', 'dog'],\n",
    "        'age': [2.5, 3, 0.5, np.nan, 5, 2, 4.5, np.nan, 7, 3],\n",
    "        'visits': [1, 3, 2, 3, 2, 3, 1, 1, 2, 1],\n",
    "        'priority': ['yes', 'yes', 'no', 'yes', 'no', 'no', 'no', 'yes', 'no', 'no']}\n",
    "\n",
    "labels = ['a', 'b', 'c', 'd', 'e', 'f', 'g', 'h', 'i', 'j']\n",
    "\n",
    "df = pd.DataFrame(data, labels)\n",
    "df"
   ]
  },
  {
   "cell_type": "code",
   "execution_count": 10,
   "metadata": {},
   "outputs": [
    {
     "output_type": "stream",
     "name": "stdout",
     "text": [
      "dog\n"
     ]
    }
   ],
   "source": [
    "'''\n",
    "Переменная df содержит DataFrame.\n",
    "Переменная col содержит имя колонки\n",
    "Переменная row содержит имя ИЛИ индекс строки\n",
    "Выведите на печать содержимое ячейки\n",
    "'''\n",
    "\n",
    "col = \"animal\"\n",
    "row = \"e\"\n",
    "df = pd.DataFrame({'animal': ['cat', 'cat', 'snake', 'dog', 'dog', 'cat', 'snake', 'cat', 'dog', 'dog'],\n",
    "                   'age': [2.5, 3, 0.5, np.nan, 5, 2, 4.5, np.nan, 7, 3],\n",
    "                   'visits': [1, 3, 2, 3, 2, 3, 1, 1, 2, 1],\n",
    "                   'priority': ['yes', 'yes', 'no', 'yes', 'no', 'no', 'no', 'yes', 'no', 'no']},\n",
    "                 index = ['a', 'b', 'c', 'd', 'e', 'f', 'g', 'h', 'i', 'j'])\n",
    "\n",
    "print(df[col][row])"
   ]
  },
  {
   "cell_type": "code",
   "execution_count": 17,
   "metadata": {},
   "outputs": [
    {
     "output_type": "stream",
     "name": "stdout",
     "text": [
      "8.0\n4.625\n"
     ]
    }
   ],
   "source": [
    "'''\n",
    "Переменная df содержит DataFrame.\n",
    "\n",
    "Выведите на печать:\n",
    "\n",
    "число непустых (не null) значений в колонке 'age'\n",
    "75% квантиль для значений в колонке 'age'\n",
    "'''\n",
    "\n",
    "df = pd.DataFrame({'animal': ['cat', 'cat', 'snake', 'dog', 'dog', 'cat', 'snake', 'cat', 'dog', 'dog'],\n",
    "                   'age': [2.5, 3, 0.5, np.nan, 5, 2, 4.5, np.nan, 7, 3],\n",
    "                   'visits': [1, 3, 2, 3, 2, 3, 1, 1, 2, 1],\n",
    "                   'priority': ['yes', 'yes', 'no', 'yes', 'no', 'no', 'no', 'yes', 'no', 'no']},\n",
    "                 index = ['a', 'b', 'c', 'd', 'e', 'f', 'g', 'h', 'i', 'j'])\n",
    "\n",
    "print(df.describe().age['count'])\n",
    "print(df.describe().age['75%'])"
   ]
  },
  {
   "cell_type": "code",
   "execution_count": 19,
   "metadata": {},
   "outputs": [
    {
     "output_type": "stream",
     "name": "stdout",
     "text": [
      "  animal  age  visits priority\na    cat  2.5       1      yes\nb    cat  3.0       3      yes\nc  snake  0.5       2       no\n"
     ]
    }
   ],
   "source": [
    "'''\n",
    "Переменная df содержит DataFrame.\n",
    "\n",
    "Выведите на печать 3 первых строки.\n",
    "'''\n",
    "\n",
    "print(df[:3])"
   ]
  },
  {
   "cell_type": "code",
   "execution_count": 21,
   "metadata": {},
   "outputs": [
    {
     "output_type": "stream",
     "name": "stdout",
     "text": [
      "  animal  age  visits priority\na    cat  2.5       1      yes\nb    cat  3.0       3      yes\nc  snake  0.5       2       no\n"
     ]
    }
   ],
   "source": [
    "print(df.head(3))"
   ]
  },
  {
   "cell_type": "code",
   "execution_count": 40,
   "metadata": {},
   "outputs": [
    {
     "output_type": "stream",
     "name": "stdout",
     "text": [
      "     name  age designation\n0    Alex   20          VP\n2  Carmen   35         CFO\n3    Diaz   55          VP\n"
     ]
    }
   ],
   "source": [
    "'''\n",
    "Переменная df содержит DataFrame.\n",
    "\n",
    "Выведите на печать строки с индексами 0, 2, 3.\n",
    "'''\n",
    "\n",
    "df = pd.DataFrame({'name' : [\"Alex\", \"Bob\", \"Carmen\", \"Diaz\", \"Ella\",\"Forman\", \"Glen\"],\n",
    "                   'age' : [20, 27, 35, 55, 18, 21, 35],\n",
    "                   'designation': [\"VP\", \"CEO\", \"CFO\", \"VP\", \"VP\", \"CEO\", \"MD\"]})\n",
    "\n",
    "print(df.iloc[[0, 2, 3]])"
   ]
  },
  {
   "cell_type": "code",
   "execution_count": 45,
   "metadata": {},
   "outputs": [
    {
     "output_type": "stream",
     "name": "stdout",
     "text": [
      "      name  age\na   Murzik  2.5\nb   Pushok  3.0\nc      Kaa  0.5\nd    Bobik  NaN\ne  Strelka  5.0\nf    Vaska  2.0\ng     Kaa2  4.5\nh    Murka  NaN\ni     Graf  7.0\nj   Muhtar  3.0\n"
     ]
    }
   ],
   "source": [
    "'''\n",
    "Переменная df содержит DataFrame.\n",
    "\n",
    "Выведите на печать только столбцы 'name' и 'age' (гарантируется, что они есть)\n",
    "'''\n",
    "\n",
    "df = pd.DataFrame({'animal': ['cat', 'cat', 'snake', 'dog', 'dog', 'cat', 'snake', 'cat', 'dog', 'dog'],\n",
    "                   'age': [2.5, 3, 0.5, np.nan, 5, 2, 4.5, np.nan, 7, 3],\n",
    "                   'name': ['Murzik', 'Pushok', 'Kaa', 'Bobik', 'Strelka', 'Vaska', 'Kaa2', 'Murka', 'Graf', 'Muhtar'],\n",
    "                   'visits': [1, 3, 2, 3, 2, 3, 1, 1, 2, 1],\n",
    "                   'priority': ['yes', 'yes', 'no', 'yes', 'no', 'no', 'no', 'yes', 'no', 'no']},\n",
    "                 index = ['a', 'b', 'c', 'd', 'e', 'f', 'g', 'h', 'i', 'j'])\n",
    "\n",
    "print(df[['name', 'age']])"
   ]
  },
  {
   "cell_type": "code",
   "execution_count": 56,
   "metadata": {},
   "outputs": [
    {
     "output_type": "stream",
     "name": "stdout",
     "text": [
      "     name  age\na  Murzik  2.5\nc     Kaa  0.5\nd   Bobik  NaN\n"
     ]
    }
   ],
   "source": [
    "'''\n",
    "Переменная df содержит DataFrame.\n",
    "\n",
    "Выведите на печать только столбцы 'name' и 'age' И строки 0, 2, 3 (гарантируется, что они есть)\n",
    "'''\n",
    "\n",
    "df = pd.DataFrame({'animal': ['cat', 'cat', 'snake', 'dog', 'dog', 'cat', 'snake', 'cat', 'dog', 'dog'],\n",
    "                   'age': [2.5, 3, 0.5, np.nan, 5, 2, 4.5, np.nan, 7, 3],\n",
    "                   'name': ['Murzik', 'Pushok', 'Kaa', 'Bobik', 'Strelka', 'Vaska', 'Kaa2', 'Murka', 'Graf', 'Muhtar'],\n",
    "                   'visits': [1, 3, 2, 3, 2, 3, 1, 1, 2, 1],\n",
    "                   'priority': ['yes', 'yes', 'no', 'yes', 'no', 'no', 'no', 'yes', 'no', 'no']},\n",
    "                 index = ['a', 'b', 'c', 'd', 'e', 'f', 'g', 'h', 'i', 'j'])\n",
    "\n",
    "print(df[['name', 'age']].iloc[[0, 2, 3]])"
   ]
  },
  {
   "cell_type": "code",
   "execution_count": 58,
   "metadata": {},
   "outputs": [
    {
     "output_type": "stream",
     "name": "stdout",
     "text": [
      "     name  age designation\n2  Carmen   35         CFO\n3    Diaz   55          VP\n6    Glen   35          MD\n"
     ]
    }
   ],
   "source": [
    "'''\n",
    "Переменная df содержит DataFrame.\n",
    "\n",
    "Выведите на печать только данные, относящиеся к записям, возраст которых больше, указанного в переменное critical_age.\n",
    "'''\n",
    "\n",
    "df = pd.DataFrame({'name' : [\"Alex\", \"Bob\", \"Carmen\", \"Diaz\", \"Ella\",\"Forman\", \"Glen\"],\n",
    "                   'age' : [20, 27, 35, 55, 18, 21, 35],\n",
    "                   'designation': [\"VP\", \"CEO\", \"CFO\", \"VP\", \"VP\", \"CEO\", \"MD\"]})\n",
    "\n",
    "critical_age = 30\n",
    "\n",
    "print(df[df['age'] > critical_age])"
   ]
  },
  {
   "cell_type": "code",
   "execution_count": 60,
   "metadata": {},
   "outputs": [
    {
     "output_type": "stream",
     "name": "stdout",
     "text": [
      "  animal  age   name  visits priority\nd    dog  NaN  Bobik       3      yes\nh    cat  NaN  Murka       1      yes\n"
     ]
    }
   ],
   "source": [
    "'''\n",
    "Переменная df содержит DataFrame.\n",
    "\n",
    "Выведите на печать только данные, в которых не заполнен возраст (в графе 'age' стоит null).\n",
    "'''\n",
    "\n",
    "df = pd.DataFrame({'animal': ['cat', 'cat', 'snake', 'dog', 'dog', 'cat', 'snake', 'cat', 'dog', 'dog'],\n",
    "                   'age': [2.5, 3, 0.5, np.nan, 5, 2, 4.5, np.nan, 7, 3],\n",
    "                   'name': ['Murzik', 'Pushok', 'Kaa', 'Bobik', 'Strelka', 'Vaska', 'Kaa2', 'Murka', 'Graf', 'Muhtar'],\n",
    "                   'visits': [1, 3, 2, 3, 2, 3, 1, 1, 2, 1],\n",
    "                   'priority': ['yes', 'yes', 'no', 'yes', 'no', 'no', 'no', 'yes', 'no', 'no']},\n",
    "                 index = ['a', 'b', 'c', 'd', 'e', 'f', 'g', 'h', 'i', 'j'])\n",
    "\n",
    "print(df[df['age'].isnull()])"
   ]
  },
  {
   "cell_type": "code",
   "execution_count": null,
   "metadata": {},
   "outputs": [],
   "source": []
  }
 ]
}