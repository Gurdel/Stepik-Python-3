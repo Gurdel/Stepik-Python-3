{
 "metadata": {
  "language_info": {
   "codemirror_mode": {
    "name": "ipython",
    "version": 3
   },
   "file_extension": ".py",
   "mimetype": "text/x-python",
   "name": "python",
   "nbconvert_exporter": "python",
   "pygments_lexer": "ipython3",
   "version": "3.8.5-final"
  },
  "orig_nbformat": 2,
  "kernelspec": {
   "name": "python3",
   "display_name": "Python 3",
   "language": "python"
  }
 },
 "nbformat": 4,
 "nbformat_minor": 2,
 "cells": [
  {
   "cell_type": "code",
   "execution_count": 2,
   "metadata": {},
   "outputs": [],
   "source": [
    "'''\n",
    "Импортируйте модуль pandas как pd\n",
    "'''\n",
    "\n",
    "import pandas as pd"
   ]
  },
  {
   "cell_type": "code",
   "execution_count": 2,
   "metadata": {},
   "outputs": [
    {
     "output_type": "execute_result",
     "data": {
      "text/plain": [
       "'1.1.3'"
      ]
     },
     "metadata": {},
     "execution_count": 2
    }
   ],
   "source": [
    "'''\n",
    "Выведите на печать версию модуля pandas, используемую в текущий момент в песочнице Stepik.\n",
    "'''\n",
    "\n",
    "print(pd.__version__)"
   ]
  },
  {
   "cell_type": "code",
   "execution_count": 5,
   "metadata": {},
   "outputs": [
    {
     "output_type": "execute_result",
     "data": {
      "text/plain": [
       "  animal  age  visits priority\n",
       "a    cat  2.5       1      yes\n",
       "b    cat  3.0       3      yes\n",
       "c  snake  0.5       2       no\n",
       "d    dog  NaN       3      yes\n",
       "e    dog  5.0       2       no\n",
       "f    cat  2.0       3       no\n",
       "g  snake  4.5       1       no\n",
       "h    cat  NaN       1      yes\n",
       "i    dog  7.0       2       no\n",
       "j    dog  3.0       1       no"
      ],
      "text/html": "<div>\n<style scoped>\n    .dataframe tbody tr th:only-of-type {\n        vertical-align: middle;\n    }\n\n    .dataframe tbody tr th {\n        vertical-align: top;\n    }\n\n    .dataframe thead th {\n        text-align: right;\n    }\n</style>\n<table border=\"1\" class=\"dataframe\">\n  <thead>\n    <tr style=\"text-align: right;\">\n      <th></th>\n      <th>animal</th>\n      <th>age</th>\n      <th>visits</th>\n      <th>priority</th>\n    </tr>\n  </thead>\n  <tbody>\n    <tr>\n      <th>a</th>\n      <td>cat</td>\n      <td>2.5</td>\n      <td>1</td>\n      <td>yes</td>\n    </tr>\n    <tr>\n      <th>b</th>\n      <td>cat</td>\n      <td>3.0</td>\n      <td>3</td>\n      <td>yes</td>\n    </tr>\n    <tr>\n      <th>c</th>\n      <td>snake</td>\n      <td>0.5</td>\n      <td>2</td>\n      <td>no</td>\n    </tr>\n    <tr>\n      <th>d</th>\n      <td>dog</td>\n      <td>NaN</td>\n      <td>3</td>\n      <td>yes</td>\n    </tr>\n    <tr>\n      <th>e</th>\n      <td>dog</td>\n      <td>5.0</td>\n      <td>2</td>\n      <td>no</td>\n    </tr>\n    <tr>\n      <th>f</th>\n      <td>cat</td>\n      <td>2.0</td>\n      <td>3</td>\n      <td>no</td>\n    </tr>\n    <tr>\n      <th>g</th>\n      <td>snake</td>\n      <td>4.5</td>\n      <td>1</td>\n      <td>no</td>\n    </tr>\n    <tr>\n      <th>h</th>\n      <td>cat</td>\n      <td>NaN</td>\n      <td>1</td>\n      <td>yes</td>\n    </tr>\n    <tr>\n      <th>i</th>\n      <td>dog</td>\n      <td>7.0</td>\n      <td>2</td>\n      <td>no</td>\n    </tr>\n    <tr>\n      <th>j</th>\n      <td>dog</td>\n      <td>3.0</td>\n      <td>1</td>\n      <td>no</td>\n    </tr>\n  </tbody>\n</table>\n</div>"
     },
     "metadata": {},
     "execution_count": 5
    }
   ],
   "source": [
    "'''\n",
    "Создайте Dataframe из словаря data. В качестве подписей строк используйте список labels.\n",
    "\n",
    "Результат сохраните в переменную df.\n",
    "'''\n",
    "\n",
    "import numpy as np\n",
    "data = {'animal': ['cat', 'cat', 'snake', 'dog', 'dog', 'cat', 'snake', 'cat', 'dog', 'dog'],\n",
    "        'age': [2.5, 3, 0.5, np.nan, 5, 2, 4.5, np.nan, 7, 3],\n",
    "        'visits': [1, 3, 2, 3, 2, 3, 1, 1, 2, 1],\n",
    "        'priority': ['yes', 'yes', 'no', 'yes', 'no', 'no', 'no', 'yes', 'no', 'no']}\n",
    "\n",
    "labels = ['a', 'b', 'c', 'd', 'e', 'f', 'g', 'h', 'i', 'j']\n",
    "\n",
    "df = pd.DataFrame(data, labels)\n",
    "df"
   ]
  },
  {
   "cell_type": "code",
   "execution_count": 10,
   "metadata": {},
   "outputs": [
    {
     "output_type": "stream",
     "name": "stdout",
     "text": [
      "dog\n"
     ]
    }
   ],
   "source": [
    "'''\n",
    "Переменная df содержит DataFrame.\n",
    "Переменная col содержит имя колонки\n",
    "Переменная row содержит имя ИЛИ индекс строки\n",
    "Выведите на печать содержимое ячейки\n",
    "'''\n",
    "\n",
    "col = \"animal\"\n",
    "row = \"e\"\n",
    "df = pd.DataFrame({'animal': ['cat', 'cat', 'snake', 'dog', 'dog', 'cat', 'snake', 'cat', 'dog', 'dog'],\n",
    "                   'age': [2.5, 3, 0.5, np.nan, 5, 2, 4.5, np.nan, 7, 3],\n",
    "                   'visits': [1, 3, 2, 3, 2, 3, 1, 1, 2, 1],\n",
    "                   'priority': ['yes', 'yes', 'no', 'yes', 'no', 'no', 'no', 'yes', 'no', 'no']},\n",
    "                 index = ['a', 'b', 'c', 'd', 'e', 'f', 'g', 'h', 'i', 'j'])\n",
    "\n",
    "print(df[col][row])"
   ]
  },
  {
   "cell_type": "code",
   "execution_count": 17,
   "metadata": {},
   "outputs": [
    {
     "output_type": "stream",
     "name": "stdout",
     "text": [
      "8.0\n4.625\n"
     ]
    }
   ],
   "source": [
    "'''\n",
    "Переменная df содержит DataFrame.\n",
    "\n",
    "Выведите на печать:\n",
    "\n",
    "число непустых (не null) значений в колонке 'age'\n",
    "75% квантиль для значений в колонке 'age'\n",
    "'''\n",
    "\n",
    "df = pd.DataFrame({'animal': ['cat', 'cat', 'snake', 'dog', 'dog', 'cat', 'snake', 'cat', 'dog', 'dog'],\n",
    "                   'age': [2.5, 3, 0.5, np.nan, 5, 2, 4.5, np.nan, 7, 3],\n",
    "                   'visits': [1, 3, 2, 3, 2, 3, 1, 1, 2, 1],\n",
    "                   'priority': ['yes', 'yes', 'no', 'yes', 'no', 'no', 'no', 'yes', 'no', 'no']},\n",
    "                 index = ['a', 'b', 'c', 'd', 'e', 'f', 'g', 'h', 'i', 'j'])\n",
    "\n",
    "print(df.describe().age['count'])\n",
    "print(df.describe().age['75%'])"
   ]
  },
  {
   "cell_type": "code",
   "execution_count": 19,
   "metadata": {},
   "outputs": [
    {
     "output_type": "stream",
     "name": "stdout",
     "text": [
      "  animal  age  visits priority\na    cat  2.5       1      yes\nb    cat  3.0       3      yes\nc  snake  0.5       2       no\n"
     ]
    }
   ],
   "source": [
    "'''\n",
    "Переменная df содержит DataFrame.\n",
    "\n",
    "Выведите на печать 3 первых строки.\n",
    "'''\n",
    "\n",
    "print(df[:3])"
   ]
  },
  {
   "cell_type": "code",
   "execution_count": 21,
   "metadata": {},
   "outputs": [
    {
     "output_type": "stream",
     "name": "stdout",
     "text": [
      "  animal  age  visits priority\na    cat  2.5       1      yes\nb    cat  3.0       3      yes\nc  snake  0.5       2       no\n"
     ]
    }
   ],
   "source": [
    "print(df.head(3))"
   ]
  },
  {
   "cell_type": "code",
   "execution_count": 40,
   "metadata": {},
   "outputs": [
    {
     "output_type": "stream",
     "name": "stdout",
     "text": [
      "     name  age designation\n0    Alex   20          VP\n2  Carmen   35         CFO\n3    Diaz   55          VP\n"
     ]
    }
   ],
   "source": [
    "'''\n",
    "Переменная df содержит DataFrame.\n",
    "\n",
    "Выведите на печать строки с индексами 0, 2, 3.\n",
    "'''\n",
    "\n",
    "df = pd.DataFrame({'name' : [\"Alex\", \"Bob\", \"Carmen\", \"Diaz\", \"Ella\",\"Forman\", \"Glen\"],\n",
    "                   'age' : [20, 27, 35, 55, 18, 21, 35],\n",
    "                   'designation': [\"VP\", \"CEO\", \"CFO\", \"VP\", \"VP\", \"CEO\", \"MD\"]})\n",
    "\n",
    "print(df.iloc[[0, 2, 3]])"
   ]
  },
  {
   "cell_type": "code",
   "execution_count": 45,
   "metadata": {},
   "outputs": [
    {
     "output_type": "stream",
     "name": "stdout",
     "text": [
      "      name  age\na   Murzik  2.5\nb   Pushok  3.0\nc      Kaa  0.5\nd    Bobik  NaN\ne  Strelka  5.0\nf    Vaska  2.0\ng     Kaa2  4.5\nh    Murka  NaN\ni     Graf  7.0\nj   Muhtar  3.0\n"
     ]
    }
   ],
   "source": [
    "'''\n",
    "Переменная df содержит DataFrame.\n",
    "\n",
    "Выведите на печать только столбцы 'name' и 'age' (гарантируется, что они есть)\n",
    "'''\n",
    "\n",
    "df = pd.DataFrame({'animal': ['cat', 'cat', 'snake', 'dog', 'dog', 'cat', 'snake', 'cat', 'dog', 'dog'],\n",
    "                   'age': [2.5, 3, 0.5, np.nan, 5, 2, 4.5, np.nan, 7, 3],\n",
    "                   'name': ['Murzik', 'Pushok', 'Kaa', 'Bobik', 'Strelka', 'Vaska', 'Kaa2', 'Murka', 'Graf', 'Muhtar'],\n",
    "                   'visits': [1, 3, 2, 3, 2, 3, 1, 1, 2, 1],\n",
    "                   'priority': ['yes', 'yes', 'no', 'yes', 'no', 'no', 'no', 'yes', 'no', 'no']},\n",
    "                 index = ['a', 'b', 'c', 'd', 'e', 'f', 'g', 'h', 'i', 'j'])\n",
    "\n",
    "print(df[['name', 'age']])"
   ]
  },
  {
   "cell_type": "code",
   "execution_count": 56,
   "metadata": {},
   "outputs": [
    {
     "output_type": "stream",
     "name": "stdout",
     "text": [
      "     name  age\na  Murzik  2.5\nc     Kaa  0.5\nd   Bobik  NaN\n"
     ]
    }
   ],
   "source": [
    "'''\n",
    "Переменная df содержит DataFrame.\n",
    "\n",
    "Выведите на печать только столбцы 'name' и 'age' И строки 0, 2, 3 (гарантируется, что они есть)\n",
    "'''\n",
    "\n",
    "df = pd.DataFrame({'animal': ['cat', 'cat', 'snake', 'dog', 'dog', 'cat', 'snake', 'cat', 'dog', 'dog'],\n",
    "                   'age': [2.5, 3, 0.5, np.nan, 5, 2, 4.5, np.nan, 7, 3],\n",
    "                   'name': ['Murzik', 'Pushok', 'Kaa', 'Bobik', 'Strelka', 'Vaska', 'Kaa2', 'Murka', 'Graf', 'Muhtar'],\n",
    "                   'visits': [1, 3, 2, 3, 2, 3, 1, 1, 2, 1],\n",
    "                   'priority': ['yes', 'yes', 'no', 'yes', 'no', 'no', 'no', 'yes', 'no', 'no']},\n",
    "                 index = ['a', 'b', 'c', 'd', 'e', 'f', 'g', 'h', 'i', 'j'])\n",
    "\n",
    "print(df[['name', 'age']].iloc[[0, 2, 3]])"
   ]
  },
  {
   "cell_type": "code",
   "execution_count": 58,
   "metadata": {},
   "outputs": [
    {
     "output_type": "stream",
     "name": "stdout",
     "text": [
      "     name  age designation\n2  Carmen   35         CFO\n3    Diaz   55          VP\n6    Glen   35          MD\n"
     ]
    }
   ],
   "source": [
    "'''\n",
    "Переменная df содержит DataFrame.\n",
    "\n",
    "Выведите на печать только данные, относящиеся к записям, возраст которых больше, указанного в переменное critical_age.\n",
    "'''\n",
    "\n",
    "df = pd.DataFrame({'name' : [\"Alex\", \"Bob\", \"Carmen\", \"Diaz\", \"Ella\",\"Forman\", \"Glen\"],\n",
    "                   'age' : [20, 27, 35, 55, 18, 21, 35],\n",
    "                   'designation': [\"VP\", \"CEO\", \"CFO\", \"VP\", \"VP\", \"CEO\", \"MD\"]})\n",
    "\n",
    "critical_age = 30\n",
    "\n",
    "print(df[df['age'] > critical_age])"
   ]
  },
  {
   "cell_type": "code",
   "execution_count": 60,
   "metadata": {},
   "outputs": [
    {
     "output_type": "stream",
     "name": "stdout",
     "text": [
      "  animal  age   name  visits priority\nd    dog  NaN  Bobik       3      yes\nh    cat  NaN  Murka       1      yes\n"
     ]
    }
   ],
   "source": [
    "'''\n",
    "Переменная df содержит DataFrame.\n",
    "\n",
    "Выведите на печать только данные, в которых не заполнен возраст (в графе 'age' стоит null).\n",
    "'''\n",
    "\n",
    "df = pd.DataFrame({'animal': ['cat', 'cat', 'snake', 'dog', 'dog', 'cat', 'snake', 'cat', 'dog', 'dog'],\n",
    "                   'age': [2.5, 3, 0.5, np.nan, 5, 2, 4.5, np.nan, 7, 3],\n",
    "                   'name': ['Murzik', 'Pushok', 'Kaa', 'Bobik', 'Strelka', 'Vaska', 'Kaa2', 'Murka', 'Graf', 'Muhtar'],\n",
    "                   'visits': [1, 3, 2, 3, 2, 3, 1, 1, 2, 1],\n",
    "                   'priority': ['yes', 'yes', 'no', 'yes', 'no', 'no', 'no', 'yes', 'no', 'no']},\n",
    "                 index = ['a', 'b', 'c', 'd', 'e', 'f', 'g', 'h', 'i', 'j'])\n",
    "\n",
    "print(df[df['age'].isnull()])"
   ]
  },
  {
   "cell_type": "code",
   "execution_count": 8,
   "metadata": {},
   "outputs": [
    {
     "output_type": "stream",
     "name": "stdout",
     "text": [
      "   name  age designation\n0  Alex   20          VP\n4  Ella   18          VP\n"
     ]
    }
   ],
   "source": [
    "'''\n",
    "Переменная filter_names содержит список имён столбцов по которым происходит фильтрация\n",
    "\n",
    "Переменная filter_values содержит список из 2 значений по которым происходит фильтрация. 1 значение проверяется на равенство. 2 значение должно быть меньше указанного в фильтре.\n",
    "\n",
    "Выведите только те строки датафрейма, которые удовлетворяют условиям обоих фильтров.\n",
    "'''\n",
    "\n",
    "df = pd.DataFrame({'name' : [\"Alex\", \"Bob\", \"Carmen\", \"Diaz\", \"Ella\",\"Forman\", \"Glen\"],\n",
    "                   'age' : [20, 27, 35, 55, 18, 21, 35],\n",
    "                   'designation': [\"VP\", \"CEO\", \"CFO\", \"VP\", \"VP\", \"CEO\", \"MD\"]})\n",
    "filter_names = [\"designation\", \"age\"]\n",
    "filter_values = [\"VP\", 40]\n",
    "\n",
    "print(df[df[filter_names[0]]==filter_values[0]][df[filter_names[1]]<filter_values[1]])"
   ]
  },
  {
   "cell_type": "code",
   "execution_count": 14,
   "metadata": {},
   "outputs": [
    {
     "output_type": "stream",
     "name": "stdout",
     "text": [
      "     name  age designation\n1     Bob   27         CEO\n2  Carmen   35         CFO\n3    Diaz   55          VP\n5  Forman   21         CEO\n6    Glen   35          MD\n"
     ]
    }
   ],
   "source": [
    "'''\n",
    "Переменная age_between содержит 2 числа\n",
    "\n",
    "Выведите только те строки датафрейма, возраст в которых находится в интервале между числами age_between (включая границы)\n",
    "'''\n",
    "\n",
    "df = pd.DataFrame({'name' : [\"Alex\", \"Bob\", \"Carmen\", \"Diaz\", \"Ella\",\"Forman\", \"Glen\"],\n",
    "                   'age' : [20, 27, 35, 55, 18, 21, 35],\n",
    "                   'designation': [\"VP\", \"CEO\", \"CFO\", \"VP\", \"VP\", \"CEO\", \"MD\"]})\n",
    "age_between = [21, 55]\n",
    "\n",
    "print(df[(df['age'] >= age_between[0]) & (df['age'] <= age_between[1])])"
   ]
  },
  {
   "cell_type": "code",
   "execution_count": 15,
   "metadata": {},
   "outputs": [
    {
     "output_type": "stream",
     "name": "stdout",
     "text": [
      "     name  age designation\n1     Bob   27         CEO\n2  Carmen   35         CFO\n3    Diaz   55          VP\n5  Forman   21         CEO\n6    Glen   35          MD\n"
     ]
    }
   ],
   "source": [
    "print(df[df.age.between(*age_between)])"
   ]
  },
  {
   "cell_type": "code",
   "execution_count": 16,
   "metadata": {},
   "outputs": [
    {
     "output_type": "stream",
     "name": "stdout",
     "text": [
      "     name  age designation\n0    Alex   20          VP\n1     Bob   27         CEO\n2  Carmen   36         CFO\n3    Diaz   55          VP\n4    Ella   18          VP\n5  Forman   21         CEO\n6    Glen   35          MD\n"
     ]
    }
   ],
   "source": [
    "'''\n",
    "Переменная index содержит строку ИЛИ число (индекс)\n",
    "\n",
    "Увеличьте значение возраста в строке индексом равным index на 1.\n",
    "\n",
    "Выведите df на печать.\n",
    "'''\n",
    "\n",
    "df = pd.DataFrame({'name' : [\"Alex\", \"Bob\", \"Carmen\", \"Diaz\", \"Ella\",\"Forman\", \"Glen\"],\n",
    "                   'age' : [20, 27, 35, 55, 18, 21, 35],\n",
    "                   'designation': [\"VP\", \"CEO\", \"CFO\", \"VP\", \"VP\", \"CEO\", \"MD\"]})\n",
    "index = 2\n",
    "\n",
    "df.age[index] += 1\n",
    "print(df)"
   ]
  },
  {
   "cell_type": "code",
   "execution_count": 17,
   "metadata": {},
   "outputs": [
    {
     "output_type": "stream",
     "name": "stdout",
     "text": [
      "     name  age designation\n0    Alex   21          VP\n1     Bob   28         CEO\n2  Carmen   36         CFO\n3    Diaz   56          VP\n4    Ella   19          VP\n5  Forman   22         CEO\n6    Glen   36          MD\n"
     ]
    }
   ],
   "source": [
    "'''\n",
    "Увеличьте значение возраста во всех строках на 1.\n",
    "'''\n",
    "\n",
    "df = pd.DataFrame({'name' : [\"Alex\", \"Bob\", \"Carmen\", \"Diaz\", \"Ella\",\"Forman\", \"Glen\"],\n",
    "                   'age' : [20, 27, 35, 55, 18, 21, 35],\n",
    "                   'designation': [\"VP\", \"CEO\", \"CFO\", \"VP\", \"VP\", \"CEO\", \"MD\"]})\n",
    "\n",
    "df.age += 1\n",
    "print(df)"
   ]
  },
  {
   "cell_type": "code",
   "execution_count": 21,
   "metadata": {},
   "outputs": [
    {
     "output_type": "stream",
     "name": "stdout",
     "text": [
      "211\n"
     ]
    }
   ],
   "source": [
    "'''\n",
    "Выведите на печать сумму всех возрастов в df.\n",
    "'''\n",
    "\n",
    "df = pd.DataFrame({'name' : [\"Alex\", \"Bob\", \"Carmen\", \"Diaz\", \"Ella\",\"Forman\", \"Glen\"],\n",
    "                   'age' : [20, 27, 35, 55, 18, 21, 35],\n",
    "                   'designation': [\"VP\", \"CEO\", \"CFO\", \"VP\", \"VP\", \"CEO\", \"MD\"]})\n",
    "\n",
    "print(np.sum(df.age))"
   ]
  },
  {
   "cell_type": "code",
   "execution_count": 32,
   "metadata": {},
   "outputs": [
    {
     "output_type": "stream",
     "name": "stdout",
     "text": [
      "age:27.5\nvisits:19\n"
     ]
    }
   ],
   "source": [
    "'''\n",
    "Выведите на печать для каждого столбца, содержащего числа его имя и сумму через двоеточие.\n",
    "\n",
    " \n",
    "\n",
    "В рамках этой задачи мы гарантируем, что числами являются int64 и float64 https://docs.scipy.org/doc/numpy-1.10.4/user/basics.types.html, однако в общем виде имеет смысл использовать проверку на принадлежность к классу.\n",
    "'''\n",
    "\n",
    "df = pd.DataFrame({'animal': ['cat', 'cat', 'snake', 'dog', 'dog', 'cat', 'snake', 'cat', 'dog', 'dog'],\n",
    "                   'age': [2.5, 3, 0.5, np.nan, 5, 2, 4.5, np.nan, 7, 3],\n",
    "                   'name': ['Murzik', 'Pushok', 'Kaa', 'Bobik', 'Strelka', 'Vaska', 'Kaa2', 'Murka', 'Graf', 'Muhtar'],\n",
    "                   'visits': [1, 3, 2, 3, 2, 3, 1, 1, 2, 1],\n",
    "                   'priority': ['yes', 'yes', 'no', 'yes', 'no', 'no', 'no', 'yes', 'no', 'no']},\n",
    "                 index = ['a', 'b', 'c', 'd', 'e', 'f', 'g', 'h', 'i', 'j'])\n",
    "import numpy as np\n",
    "headers = list(df)\n",
    "print(*[f'{h}:{np.sum(df[h])}' for h in headers if df[h].dtype==np.int64 or df[h].dtype==np.float64], sep='\\n')"
   ]
  },
  {
   "cell_type": "code",
   "execution_count": 37,
   "metadata": {},
   "outputs": [
    {
     "output_type": "stream",
     "name": "stdout",
     "text": [
      "designation\nCEO    24\nCFO    35\nMD     35\nVP     31\nName: age, dtype: int64\n"
     ]
    }
   ],
   "source": [
    "'''\n",
    "Переменная group_by содержит имя колонки по которой производится группировка.\n",
    "\n",
    "Найдите средние значение возраста по всем записям, сгруппированным по значению в колонке group_by и выведите на печать.\n",
    "'''\n",
    "\n",
    "df = pd.DataFrame({'name' : [\"Alex\", \"Bob\", \"Carmen\", \"Diaz\", \"Ella\",\"Forman\", \"Glen\"],\n",
    "                   'age' : [20, 27, 35, 55, 18, 21, 35],\n",
    "                   'designation': [\"VP\", \"CEO\", \"CFO\", \"VP\", \"VP\", \"CEO\", \"MD\"]})\n",
    "group_by = \"designation\"\n",
    "\n",
    "print(df.groupby(group_by).age.mean())"
   ]
  },
  {
   "cell_type": "code",
   "execution_count": 50,
   "metadata": {},
   "outputs": [
    {
     "output_type": "stream",
     "name": "stdout",
     "text": [
      "      name age designation\n0     Alex  20          VP\n1      Bob  27         CEO\n2   Carmen  35         CFO\n4     Ella  18          VP\n5   Forman  21         CEO\n6     Glen  35          MD\n42      33  MD     Aleksey\n"
     ]
    }
   ],
   "source": [
    "'''\n",
    "new_index - индекс для строки, которую надо добавить\n",
    "new_data - значения для строки, которую надо добавить\n",
    "del_index - индекс строки, которую надо удалить\n",
    "Добавьте новую строку (с индексом new_index и значениями new_data) и удалите одну из старых (del_index)\n",
    "'''\n",
    "\n",
    "df = pd.DataFrame({'name' : [\"Alex\", \"Bob\", \"Carmen\", \"Diaz\", \"Ella\",\"Forman\", \"Glen\"],\n",
    "                   'age' : [20, 27, 35, 55, 18, 21, 35],\n",
    "                   'designation': [\"VP\", \"CEO\", \"CFO\", \"VP\", \"VP\", \"CEO\", \"MD\"]})\n",
    "new_index = 42\n",
    "new_data = [33, \"MD\", \"Aleksey\"]\n",
    "del_index = 3\n",
    "\n",
    "df.loc[new_index] = new_data\n",
    "df.drop(del_index, inplace=True)\n",
    "print(df)"
   ]
  },
  {
   "cell_type": "code",
   "execution_count": 64,
   "metadata": {},
   "outputs": [
    {
     "output_type": "stream",
     "name": "stdout",
     "text": [
      "VP     3\nCEO    2\nCFO    1\nName: designation, dtype: int64\n"
     ]
    }
   ],
   "source": [
    "'''\n",
    "Переменная group_by содержит имя колонки по которой производится группировка.\n",
    "\n",
    "Найдите количество записей каждого типа, сгруппированным по значению в колонке group_by.\n",
    "'''\n",
    "\n",
    "df = pd.DataFrame({'name' : [\"Alex\", \"Bob\", \"Carmen\", \"Diaz\", \"Ella\",\"Forman\"],\n",
    "                   'age' : [20, 27, 35, 55, 18, 21],\n",
    "                   'designation': [\"VP\", \"CEO\", \"CFO\", \"VP\", \"VP\", \"CEO\"]})\n",
    "group_by = \"designation\"\n",
    "\n",
    "print(df[group_by].value_counts())"
   ]
  },
  {
   "cell_type": "code",
   "execution_count": 67,
   "metadata": {},
   "outputs": [
    {
     "output_type": "stream",
     "name": "stdout",
     "text": [
      "     name  age  experience designation\n3    Diaz   55           4          VP\n2  Carmen   35           3         CFO\n6    Glen   35           7          MD\n1     Bob   27           2         CEO\n5  Forman   21           6         CEO\n0    Alex   20           1          VP\n4    Ella   18           5          VP\n"
     ]
    }
   ],
   "source": [
    "'''\n",
    "Переменная sort_by содержит список из 2 строк - имён столбцов по которым необходимо провести сортировку.\n",
    "\n",
    "Отсортируйте сперва по уменьшению 1 поля из списка sort_by, а при равенстве значений по увеличению 2.\n",
    "'''\n",
    "\n",
    "df = pd.DataFrame({'name' : [\"Alex\", \"Bob\", \"Carmen\", \"Diaz\", \"Ella\",\"Forman\", \"Glen\"],\n",
    "                   'age' : [20, 27, 35, 55, 18, 21, 35],\n",
    "                   'experience': [1, 2, 3, 4, 5, 6, 7],\n",
    "                   'designation': [\"VP\", \"CEO\", \"CFO\", \"VP\", \"VP\", \"CEO\", \"MD\"]})\n",
    "sort_by = [\"age\", \"experience\"]\n",
    "\n",
    "print(df.sort_values(sort_by, ascending=[False, True]))"
   ]
  },
  {
   "cell_type": "code",
   "execution_count": 70,
   "metadata": {},
   "outputs": [
    {
     "output_type": "stream",
     "name": "stdout",
     "text": [
      "     name  age  on vacation designation\n0    Alex   20         True          VP\n1     Bob   27         True         CEO\n2  Carmen   35        False         CFO\n3    Diaz   55        False          VP\n4    Ella   18        False          VP\n5  Forman   21         True         CEO\n6    Glen   35        False          MD\n"
     ]
    }
   ],
   "source": [
    "'''\n",
    "Переменная column содержит имя колонки, содержащей строковые значения \"yes\", \"no\", либо числовые 1 или 0.\n",
    "\n",
    "Замените в column:\n",
    "\n",
    "\"yes\" и 1 на True\n",
    "\"no\" и 0 на False\n",
    "Выведите df на печать\n",
    "'''\n",
    "\n",
    "df = pd.DataFrame({'name' : [\"Alex\", \"Bob\", \"Carmen\", \"Diaz\", \"Ella\",\"Forman\", \"Glen\"],\n",
    "                   'age' : [20, 27, 35, 55, 18, 21, 35],\n",
    "                   'on vacation': [1, 1, 0, 0, 0, 1, 0],\n",
    "                   'designation': [\"VP\", \"CEO\", \"CFO\", \"VP\", \"VP\", \"CEO\", \"MD\"]})\n",
    "column = \"on vacation\"\n",
    "\n",
    "df[column] = df[column].map({1:True, 'yes':True, 0:False, 'no':False})\n",
    "print(df)"
   ]
  },
  {
   "cell_type": "code",
   "execution_count": 73,
   "metadata": {},
   "outputs": [
    {
     "output_type": "stream",
     "name": "stdout",
     "text": [
      "     name  age designation\n0    Alex   20          VP\n1     Bob   27         CEO\n2  Carmen   33         CFO\n3    Diaz   55          VP\n4    Ella   18          VP\n5  Forman   21         CEO\n6    Glen   33          MD\n"
     ]
    }
   ],
   "source": [
    "'''\n",
    "Переменная column содержит имя колонки, значения в которой надо модифицировать.\n",
    "\n",
    "Переменные old_value и new_value содержат старое и новое значения, соответственно.\n",
    "\n",
    "Замените все старые значения на новые в соответсвующей колонке.\n",
    "'''\n",
    "\n",
    "df = pd.DataFrame({'name' : [\"Alex\", \"Bob\", \"Carmen\", \"Diaz\", \"Ella\",\"Forman\", \"Glen\"],\n",
    "                   'age' : [20, 27, 35, 55, 18, 21, 35],\n",
    "                   'designation': [\"VP\", \"CEO\", \"CFO\", \"VP\", \"VP\", \"CEO\", \"MD\"]})\n",
    "column = 'age'\n",
    "old_value = 35\n",
    "new_value = 33\n",
    "\n",
    "df[column].replace(old_value, new_value, inplace=True)\n",
    "print(df)"
   ]
  },
  {
   "cell_type": "code",
   "execution_count": null,
   "metadata": {},
   "outputs": [],
   "source": []
  }
 ]
}