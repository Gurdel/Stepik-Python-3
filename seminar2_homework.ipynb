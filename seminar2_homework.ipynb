{
 "metadata": {
  "language_info": {
   "codemirror_mode": {
    "name": "ipython",
    "version": 3
   },
   "file_extension": ".py",
   "mimetype": "text/x-python",
   "name": "python",
   "nbconvert_exporter": "python",
   "pygments_lexer": "ipython3",
   "version": "3.8.5-final"
  },
  "orig_nbformat": 2,
  "kernelspec": {
   "name": "python3",
   "display_name": "Python 3",
   "language": "python"
  }
 },
 "nbformat": 4,
 "nbformat_minor": 2,
 "cells": [
  {
   "cell_type": "code",
   "execution_count": 5,
   "metadata": {},
   "outputs": [
    {
     "output_type": "stream",
     "name": "stdout",
     "text": [
      "0.667\n0.667\n"
     ]
    }
   ],
   "source": [
    "'''\n",
    "Найдите предел функции f(x) =\n",
    "при\n",
    "x→+∞\n",
    "x→−∞\n",
    "Ответ округлите до 3 знака после запятой.\n",
    "Каждый ответ выведите на печать с новой строки\n",
    "'''\n",
    "\n",
    "def f(x):\n",
    "    return (2 * x**2 - 3*x - 5) / (3 * x**2 + x + 1)\n",
    "\n",
    "x = 99999999\n",
    "print(round(f(x), 3), round(f(-x), 3), sep='\\n')"
   ]
  },
  {
   "cell_type": "code",
   "execution_count": 7,
   "metadata": {},
   "outputs": [
    {
     "output_type": "stream",
     "name": "stdout",
     "text": [
      "-0.0\n"
     ]
    }
   ],
   "source": [
    "'''\n",
    "Найдите предел функции\n",
    "f(x)\n",
    "при x→+∞\n",
    "Ответ округлите до 3 знака после запятой.\n",
    "'''\n",
    "from math import sin, pi\n",
    "\n",
    "def f(x):\n",
    "    return sin(pi * x / 2) / x\n",
    "    \n",
    "x = 999999999\n",
    "print(round(f(x), 3))"
   ]
  },
  {
   "cell_type": "code",
   "execution_count": 10,
   "metadata": {},
   "outputs": [
    {
     "output_type": "stream",
     "name": "stdout",
     "text": [
      "1.0\n"
     ]
    }
   ],
   "source": [
    "'''\n",
    "Напишите функцию derivative(f, x0=0), находящую производную функции f(x)f(x) в точке x = x_0x=x \n",
    "0\n",
    "​\t\n",
    " \n",
    "\n",
    "Функция должна принимать 2 параметра:\n",
    "\n",
    "обязательный - f - имя функции (без скобочек)\n",
    "необязательный - x0 - значение аргумента точки в которой вычисляется производная. Если не задан, то значение будет равно 0.\n",
    "'''\n",
    "\n",
    "def derivative(f, x0=0):\n",
    "    dx = 0.00000001\n",
    "    return round((f(x0+dx) - f(x0)) / dx, 3)\n",
    "    \n",
    "import math\n",
    "print(derivative(math.sin))"
   ]
  },
  {
   "cell_type": "code",
   "execution_count": 18,
   "metadata": {},
   "outputs": [
    {
     "output_type": "execute_result",
     "data": {
      "text/plain": [
       "['one', 343, 2, 9, 9, 9, 666, 666, 42]"
      ]
     },
     "metadata": {},
     "execution_count": 18
    }
   ],
   "source": [
    "'''\n",
    "Напишите функцию list_pull(L), принимающую на вход многомерный список (список списков) вида:\n",
    "\n",
    "[['one'], [343, 2], [[9, 9, 9], [[666, 666], [[[[42]]]]]]]\n",
    "и возвращающую \"вытянутый\" список только значений вида:\n",
    "['one', 343, 2, 9, 9, 9, 666, 666, 42]\n",
    "Принимаем список может иметь произвольное число дочерних списков\n",
    "Длинны дочерних списков могут быть произвольными (дочерний список может не содержать элементов) и не равны друг другу\n",
    "Элементы дочерних списков могут повторяться\n",
    "Порядок в получившемся списке не важен\n",
    "'''\n",
    "\n",
    "def list_pull(L):\n",
    "    res = []\n",
    "    for el in L:\n",
    "        if type(el) is list:\n",
    "            res += list_pull(el)\n",
    "        else:\n",
    "            res.append(el)\n",
    "    return res\n",
    "\n",
    "list_pull([['one'], [343, 2], [[9, 9, 9], [[666, 666], [[[[42]]]]]]])"
   ]
  },
  {
   "cell_type": "code",
   "execution_count": 24,
   "metadata": {},
   "outputs": [
    {
     "output_type": "stream",
     "name": "stdout",
     "text": [
      "[['one'], [343, 2], [[9, 9, 9], [[666, 666], [[[[42]]]]]]]\n[['one'], [343, 2], [[9, 9, 9], [[666, 666], [[[[42]]]]]]]\n[['one'], ['dssssfergerg', 2], [[9, 9, 9], [[666, 666], [[[[42]]]]]]]\n[['one'], [343, 2], [[9, 9, 9], [[666, 666], [[[[42]]]]]]]\n"
     ]
    }
   ],
   "source": [
    "'''\n",
    "На вход подаётся многоуровневый список L1 вида:\n",
    "\n",
    "L1 = [['one'], [343, 2], [[9, 9, 9], [[666, 666], [[[[42]]]]]]]\n",
    "Не используя метод deepcopy скопируйте всё содержимое списка L1 в L2.\n",
    "Учтите, что элементы дочерних элементов L1 после этого будут изменены и эти изменения не должны отразиться на L2. Т.е. сделайте по настоящему глубокую копию.\n",
    "\n",
    "Принимаем список может иметь произвольное число дочерних списков\n",
    "Длины дочерних списков могут быть произвольными (дочерний список может не содержать элементов) и не равны друг другу\n",
    "Элементы дочерних списков могут повторяться\n",
    "Порядок в получившемся списке не важен\n",
    "'''\n",
    "\n",
    "def my_copy(L):\n",
    "    return [my_copy(el) if type(el) is list else el for el in L]\n",
    "\n",
    "L1 = [['one'], [343, 2], [[9, 9, 9], [[666, 666], [[[[42]]]]]]]\n",
    "L2 = my_copy(L1)\n",
    "\n",
    "print(L1, L2, sep='\\n')\n",
    "L1[1][0] = 'dssssfergerg'\n",
    "print(L1, L2, sep='\\n')"
   ]
  },
  {
   "cell_type": "code",
   "execution_count": null,
   "metadata": {},
   "outputs": [],
   "source": []
  }
 ]
}