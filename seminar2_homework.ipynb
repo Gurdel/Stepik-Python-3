{
 "metadata": {
  "language_info": {
   "codemirror_mode": {
    "name": "ipython",
    "version": 3
   },
   "file_extension": ".py",
   "mimetype": "text/x-python",
   "name": "python",
   "nbconvert_exporter": "python",
   "pygments_lexer": "ipython3",
   "version": "3.8.5-final"
  },
  "orig_nbformat": 2,
  "kernelspec": {
   "name": "python3",
   "display_name": "Python 3",
   "language": "python"
  }
 },
 "nbformat": 4,
 "nbformat_minor": 2,
 "cells": [
  {
   "cell_type": "code",
   "execution_count": 5,
   "metadata": {},
   "outputs": [
    {
     "output_type": "stream",
     "name": "stdout",
     "text": [
      "0.667\n0.667\n"
     ]
    }
   ],
   "source": [
    "'''\n",
    "Найдите предел функции f(x) =\n",
    "при\n",
    "x→+∞\n",
    "x→−∞\n",
    "Ответ округлите до 3 знака после запятой.\n",
    "Каждый ответ выведите на печать с новой строки\n",
    "'''\n",
    "\n",
    "def f(x):\n",
    "    return (2 * x**2 - 3*x - 5) / (3 * x**2 + x + 1)\n",
    "\n",
    "x = 99999999\n",
    "print(round(f(x), 3), round(f(-x), 3), sep='\\n')"
   ]
  },
  {
   "cell_type": "code",
   "execution_count": 7,
   "metadata": {},
   "outputs": [
    {
     "output_type": "stream",
     "name": "stdout",
     "text": [
      "-0.0\n"
     ]
    }
   ],
   "source": [
    "'''\n",
    "Найдите предел функции\n",
    "f(x)\n",
    "при x→+∞\n",
    "Ответ округлите до 3 знака после запятой.\n",
    "'''\n",
    "from math import sin, pi\n",
    "\n",
    "def f(x):\n",
    "    return sin(pi * x / 2) / x\n",
    "    \n",
    "x = 999999999\n",
    "print(round(f(x), 3))"
   ]
  },
  {
   "cell_type": "code",
   "execution_count": 10,
   "metadata": {},
   "outputs": [
    {
     "output_type": "stream",
     "name": "stdout",
     "text": [
      "1.0\n"
     ]
    }
   ],
   "source": [
    "'''\n",
    "Напишите функцию derivative(f, x0=0), находящую производную функции f(x)f(x) в точке x = x_0x=x \n",
    "0\n",
    "​\t\n",
    " \n",
    "\n",
    "Функция должна принимать 2 параметра:\n",
    "\n",
    "обязательный - f - имя функции (без скобочек)\n",
    "необязательный - x0 - значение аргумента точки в которой вычисляется производная. Если не задан, то значение будет равно 0.\n",
    "'''\n",
    "\n",
    "def derivative(f, x0=0):\n",
    "    dx = 0.00000001\n",
    "    return round((f(x0+dx) - f(x0)) / dx, 3)\n",
    "    \n",
    "import math\n",
    "print(derivative(math.sin))"
   ]
  },
  {
   "cell_type": "code",
   "execution_count": 18,
   "metadata": {},
   "outputs": [
    {
     "output_type": "execute_result",
     "data": {
      "text/plain": [
       "['one', 343, 2, 9, 9, 9, 666, 666, 42]"
      ]
     },
     "metadata": {},
     "execution_count": 18
    }
   ],
   "source": [
    "'''\n",
    "Напишите функцию list_pull(L), принимающую на вход многомерный список (список списков) вида:\n",
    "\n",
    "[['one'], [343, 2], [[9, 9, 9], [[666, 666], [[[[42]]]]]]]\n",
    "и возвращающую \"вытянутый\" список только значений вида:\n",
    "['one', 343, 2, 9, 9, 9, 666, 666, 42]\n",
    "Принимаем список может иметь произвольное число дочерних списков\n",
    "Длинны дочерних списков могут быть произвольными (дочерний список может не содержать элементов) и не равны друг другу\n",
    "Элементы дочерних списков могут повторяться\n",
    "Порядок в получившемся списке не важен\n",
    "'''\n",
    "\n",
    "def list_pull(L):\n",
    "    res = []\n",
    "    for el in L:\n",
    "        if type(el) is list:\n",
    "            res += list_pull(el)\n",
    "        else:\n",
    "            res.append(el)\n",
    "    return res\n",
    "\n",
    "list_pull([['one'], [343, 2], [[9, 9, 9], [[666, 666], [[[[42]]]]]]])"
   ]
  },
  {
   "cell_type": "code",
   "execution_count": 24,
   "metadata": {},
   "outputs": [
    {
     "output_type": "stream",
     "name": "stdout",
     "text": [
      "[['one'], [343, 2], [[9, 9, 9], [[666, 666], [[[[42]]]]]]]\n[['one'], [343, 2], [[9, 9, 9], [[666, 666], [[[[42]]]]]]]\n[['one'], ['dssssfergerg', 2], [[9, 9, 9], [[666, 666], [[[[42]]]]]]]\n[['one'], [343, 2], [[9, 9, 9], [[666, 666], [[[[42]]]]]]]\n"
     ]
    }
   ],
   "source": [
    "'''\n",
    "На вход подаётся многоуровневый список L1 вида:\n",
    "\n",
    "L1 = [['one'], [343, 2], [[9, 9, 9], [[666, 666], [[[[42]]]]]]]\n",
    "Не используя метод deepcopy скопируйте всё содержимое списка L1 в L2.\n",
    "Учтите, что элементы дочерних элементов L1 после этого будут изменены и эти изменения не должны отразиться на L2. Т.е. сделайте по настоящему глубокую копию.\n",
    "\n",
    "Принимаем список может иметь произвольное число дочерних списков\n",
    "Длины дочерних списков могут быть произвольными (дочерний список может не содержать элементов) и не равны друг другу\n",
    "Элементы дочерних списков могут повторяться\n",
    "Порядок в получившемся списке не важен\n",
    "'''\n",
    "\n",
    "def my_copy(L):\n",
    "    return [my_copy(el) if type(el) is list else el for el in L]\n",
    "\n",
    "L1 = [['one'], [343, 2], [[9, 9, 9], [[666, 666], [[[[42]]]]]]]\n",
    "L2 = my_copy(L1)\n",
    "\n",
    "print(L1, L2, sep='\\n')\n",
    "L1[1][0] = 'dssssfergerg'\n",
    "print(L1, L2, sep='\\n')"
   ]
  },
  {
   "cell_type": "code",
   "execution_count": 25,
   "metadata": {},
   "outputs": [
    {
     "output_type": "execute_result",
     "data": {
      "text/plain": [
       "'playing'"
      ]
     },
     "metadata": {},
     "execution_count": 25
    }
   ],
   "source": [
    "'''\n",
    "Напишите функцию verbing(s), принимающую на вход строку.\n",
    "\n",
    "Если длина строки 3 и больше, то добавьте к ней 'ing' в конце\n",
    "Если строка уже содержит 'ing', добавьте 'ly'\n",
    "Если длина строки меньше 3, верните строку как есть\n",
    "'''\n",
    "\n",
    "def verbing(s):\n",
    "    return s if len(s) < 3 else s+'ly' if s.endswith('ing') else s+'ing'\n",
    "\n",
    "verbing('play')"
   ]
  },
  {
   "cell_type": "code",
   "execution_count": 29,
   "metadata": {},
   "outputs": [
    {
     "output_type": "execute_result",
     "data": {
      "text/plain": [
       "'abcxydez'"
      ]
     },
     "metadata": {},
     "execution_count": 29
    }
   ],
   "source": [
    "'''\n",
    "Рассмотрим разделение строки на две половины.\n",
    "Если длина четная, 1я и 2я части имеют одинаковую длину\n",
    "Если длина нечетная, мы скажем, что дополнительный символ идет в передней половине\n",
    "например, «abcde»: 1я часть - «abc», 2я часть «de».\n",
    "\n",
    "Напишите функцию front_back(a, b), принимающую 2 строки, a и b, и возвращающую строку формы\n",
    "# a-front + b-front + a-back + b-back\n",
    "'''\n",
    "def front_back(a, b):\n",
    "    La = (len(a) + 1) // 2\n",
    "    Lb = (len(b) + 1) // 2\n",
    "    return a[:La] + b[:Lb] + a[La:] + b[Lb:]\n",
    "\n",
    "front_back('abcde', 'xyz')"
   ]
  },
  {
   "cell_type": "code",
   "execution_count": 38,
   "metadata": {},
   "outputs": [
    {
     "output_type": "execute_result",
     "data": {
      "text/plain": [
       "{'Uno': ['dos'],\n",
       " 'dos': ['tres'],\n",
       " 'tres': ['cuatro'],\n",
       " 'cuatro': ['cinco'],\n",
       " '': ['Uno']}"
      ]
     },
     "metadata": {},
     "execution_count": 38
    }
   ],
   "source": [
    "'''\n",
    "Напишите функцию mimic_dict(string), которая принимает на вход строковую переменную (может содержать пробелы, табуляцию, переносы строк), возвращающую «имитирующий» словарь, который соотносит каждое появившееся слово, со списком всех слов, которые следуют за этим словом.\n",
    "\n",
    "Для \"входа\" в словарь используйте в качестве ключа пустую строку, в соответствие которой будет поставлено 1 слово.\n",
    "'''\n",
    "\n",
    "def mimic_dict(s):\n",
    "    s = s.split()\n",
    "    res = {s[i]: set() for i in range(len(s)-1)}\n",
    "    res[''] = set([s[0]])\n",
    "    for i in range(len(s)-1):\n",
    "        res[s[i]].add(s[i+1])\n",
    "    return {key:list(res[key]) for key in res}\n",
    "\n",
    "\n",
    "mimic_dict('''Uno dos tres cuatro cinco''')"
   ]
  },
  {
   "cell_type": "code",
   "execution_count": 42,
   "metadata": {},
   "outputs": [
    {
     "output_type": "execute_result",
     "data": {
      "text/plain": [
       "'We are not what we need to be But at least we need to be We are not what we need to be -- Football Coach We are not what we should be But at least we need to be -- Football Coach We are not what we used to be -- Football Coach We are not what we are not what we need to be -- Football Coach We are not what we need to be We are not what we used to be But at least we need to be We are not what we need to be -- Football Coach We are not what we need to be We are not what we need to be But at least we used to be -- Football Coach We are not what we should be We are not what we are not what we should be -- Football Coach We are not what we need to be We are not what we used to be But at least we used to be -- Football Coach We are not what we used to be -- Football Coach We are not what we are not what we used to be We'"
      ]
     },
     "metadata": {},
     "execution_count": 42
    }
   ],
   "source": [
    "'''\n",
    "Напишите функцию print_mimic(mimic_dict, word), которая принимает на вход 2 параметра:\n",
    "\n",
    "1) словарь, идентичный тому который возвращает mimic_dict(string) из задачи А:\n",
    "\n",
    "{\"\": [\"a\"], \"a\": [\"cat\", \"dog\", \"fly\"], \"cat\": [\"and\"], \"and\": [\"a\"], \"dog\": [\"a\"]}\n",
    "\n",
    "2) строку (1-е слово, с которого надо начать текст)\n",
    "\n",
    "\n",
    "\n",
    "С помощью mimic dict довольно легко вернуть случайные текст, который имитирует оригинал. Выберите слово, затем посмотрите какие слова могут появиться дальше, и выберите одно из них наугад, после чего повторите процедуру.\n",
    "\n",
    "Верните строку длиной 200 слов через пробел.\n",
    "\n",
    "Используйте пустую строку в качестве первого слова для простых примеров.\n",
    "\n",
    "Если вы застряли со словом, которое не находится в словаре (например, оно было последним в исходном тексте, преобразованном с помощью mimic_dict(string)), вернитесь к пустой строке, чтобы продолжить.\n",
    "\n",
    "'''\n",
    "\n",
    "from random import choice\n",
    "\n",
    "def print_mimic(mimic_dict, word):\n",
    "    res = ''\n",
    "    for i in range(200):\n",
    "        res += word + ' '\n",
    "        word = choice(mimic_dict[word]) if word in mimic_dict else choice(mimic_dict[''])\n",
    "    return res.strip()\n",
    "\n",
    "print_mimic(mimic_dict('''We are not what we should be\n",
    "We are not what we need to be\n",
    "But at least we are not what we used to be\n",
    "  -- Football Coach'''), 'We')"
   ]
  },
  {
   "cell_type": "code",
   "execution_count": null,
   "metadata": {},
   "outputs": [],
   "source": []
  }
 ]
}