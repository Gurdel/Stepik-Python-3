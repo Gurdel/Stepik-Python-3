{
 "metadata": {
  "language_info": {
   "codemirror_mode": {
    "name": "ipython",
    "version": 3
   },
   "file_extension": ".py",
   "mimetype": "text/x-python",
   "name": "python",
   "nbconvert_exporter": "python",
   "pygments_lexer": "ipython3",
   "version": "3.8.5-final"
  },
  "orig_nbformat": 2,
  "kernelspec": {
   "name": "python3",
   "display_name": "Python 3",
   "language": "python"
  }
 },
 "nbformat": 4,
 "nbformat_minor": 2,
 "cells": [
  {
   "cell_type": "code",
   "execution_count": null,
   "metadata": {},
   "outputs": [],
   "source": [
    "'''\n",
    "Считайте текст с клавиатуры (из стандартного потока ввода) и выведите его на печать.\n",
    "'''\n",
    "\n",
    "print(input())"
   ]
  },
  {
   "cell_type": "code",
   "execution_count": null,
   "metadata": {},
   "outputs": [],
   "source": [
    "'''\n",
    "Считайте 2 строки и выведите их на печать, разделив символом $.\n",
    "'''\n",
    "\n",
    "print(input(), input(), sep='$')"
   ]
  },
  {
   "cell_type": "code",
   "execution_count": null,
   "metadata": {},
   "outputs": [],
   "source": [
    "'''\n",
    "Примечание. В этой задаче не нужно ничего считывать и никуда выводить. Вся работа производится с переменными.\n",
    "\n",
    "Переменная B1 - строка.\n",
    "\n",
    "Запишите в переменную B2 строку, состоящую только из символов строки B1 с нечётными индексами\n",
    "'''\n",
    "\n",
    "B1 = '0123456789' # for example\n",
    "\n",
    "B2 = B1[1::2]"
   ]
  },
  {
   "cell_type": "code",
   "execution_count": null,
   "metadata": {},
   "outputs": [],
   "source": [
    "'''\n",
    "Примечание. В этой задаче не нужно ничего считывать и никуда выводить. Вся работа производится с переменными.\n",
    "\n",
    "Переменная C1 - строка.\n",
    "\n",
    "Запишите в переменную C2 предпоследний символ переменной C1\n",
    "'''\n",
    "\n",
    "C1 = '0123456789' # for example\n",
    "\n",
    "C2 = C1[-2]"
   ]
  },
  {
   "cell_type": "code",
   "execution_count": 5,
   "metadata": {},
   "outputs": [
    {
     "output_type": "stream",
     "name": "stdout",
     "text": [
      "[\"'mix'\", \"'extra'\", \"''\", \"'x-files'\", \"'xyz'\", \"'xapple'\", \"'apple'\"]\n['mix', 'extra', '', 'x-files', 'xyz', 'xapple', 'apple']\n"
     ]
    }
   ],
   "source": [
    "'''\n",
    "На вход даётся текстовое отображение списка, т.е. строка вида:\n",
    "\n",
    "['mix', 'extra', '', 'x-files', 'xyz', 'xapple', 'apple']\n",
    "\n",
    "Необходимо превратить её в настоящий список (с сохранением порядка, а также не потерять пустую строку) и сохранить в переменную L.\n",
    "Примечание. В этой задаче не требуется выводить ничего на печать - проверка осуществляется содержимого переменной L!\n",
    "'''\n",
    "\n",
    "s = input()[1:-1].split(', ')\n",
    "print(s)\n",
    "L = [word[1:-1] for word in s]\n",
    "print(L)"
   ]
  },
  {
   "cell_type": "code",
   "execution_count": 8,
   "metadata": {},
   "outputs": [
    {
     "output_type": "stream",
     "name": "stdout",
     "text": [
      "['mix', 'extra', '', 'x-files', 'xyz', 'xapple', 'apple']\n"
     ]
    }
   ],
   "source": [
    "L = input()[2:-2].split(\"', '\")\n",
    "print(L)"
   ]
  },
  {
   "cell_type": "code",
   "execution_count": 9,
   "metadata": {},
   "outputs": [
    {
     "output_type": "stream",
     "name": "stdout",
     "text": [
      "['mix', 'extra', '', 'x-files', 'xyz', 'xapple', 'apple']\n"
     ]
    }
   ],
   "source": [
    "L = input()[2:-2].split('\\', \\'')\n",
    "print(L)"
   ]
  }
 ]
}