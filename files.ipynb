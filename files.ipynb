{
 "metadata": {
  "language_info": {
   "codemirror_mode": {
    "name": "ipython",
    "version": 3
   },
   "file_extension": ".py",
   "mimetype": "text/x-python",
   "name": "python",
   "nbconvert_exporter": "python",
   "pygments_lexer": "ipython3",
   "version": "3.8.5-final"
  },
  "orig_nbformat": 2,
  "kernelspec": {
   "name": "python3",
   "display_name": "Python 3",
   "language": "python"
  }
 },
 "nbformat": 4,
 "nbformat_minor": 2,
 "cells": [
  {
   "cell_type": "code",
   "execution_count": 1,
   "metadata": {},
   "outputs": [
    {
     "output_type": "stream",
     "name": "stdout",
     "text": [
      "{\n \"metadata\": {\n  \"language_info\": {\n   \"codemirror_mode\": {\n    \"name\": \"ipython\",\n    \"version\": 3\n   },\n   \"file_extension\": \".py\",\n   \"mimetype\": \"text/x-python\",\n   \"name\": \"python\",\n   \"nbconvert_exporter\": \"python\",\n   \"pygments_lexer\": \"ipython3\",\n   \"version\": \"3.8.5-final\"\n  },\n  \"orig_nbformat\": 2,\n  \"kernelspec\": {\n   \"name\": \"python3\",\n   \"display_name\": \"Python 3\",\n   \"language\": \"python\"\n  }\n },\n \"nbformat\": 4,\n \"nbformat_minor\": 2,\n \"cells\": [\n  {\n   \"cell_type\": \"code\",\n   \"execution_count\": 1,\n   \"metadata\": {},\n   \"outputs\": [\n    {\n     \"output_type\": \"stream\",\n     \"name\": \"stdout\",\n     \"text\": [\n      \"8\\n\"\n     ]\n    }\n   ],\n   \"source\": [\n    \"'''\\n\",\n    \"На вход подаётся строка из 3 целых чисел.\\n\",\n    \"\\n\",\n    \"Найдите сумму чисел.\\n\",\n    \"'''\\n\",\n    \"\\n\",\n    \"print(sum(map(int, input().split())))\"\n   ]\n  },\n  {\n   \"cell_type\": \"code\",\n   \"execution_count\": null,\n   \"metadata\": {},\n   \"outputs\": [],\n   \"source\": [\n    \"'''\\n\",\n    \"Считайте 2 строки. Каждая строка содержит по 3 натуральных числа.\\n\",\n    \"\\n\",\n    \"Найдите сумму чисел в каждой строке и выведите на печать одной строкой.\\n\",\n    \"\\n\",\n    \"В качестве разделителя между двумя получившимися числами используйте символ \\\"#\\\"\\n\",\n    \"'''\\n\",\n    \"\\n\",\n    \"a, b = [map(int, input().split()) for _ in range(2)]\\n\",\n    \"print(sum(a), sum(b), sep='#')\"\n   ]\n  },\n  {\n   \"cell_type\": \"code\",\n   \"execution_count\": null,\n   \"metadata\": {},\n   \"outputs\": [],\n   \"source\": [\n    \"'''\\n\",\n    \"На вход подаётся 1 строка, слова в которой разделены символом \\\"&\\\".\\n\",\n    \"\\n\",\n    \"Необходимо вывести все слова из строки (без дубликатов) с пробелом в качестве разделителя.\\n\",\n    \"'''\\n\",\n    \"\\n\",\n    \"print(*set(input().split('&')))\"\n   ]\n  },\n  {\n   \"cell_type\": \"code\",\n   \"execution_count\": null,\n   \"metadata\": {},\n   \"outputs\": [],\n   \"source\": [\n    \"'''\\n\",\n    \"На вход подаётся строка, слова в которой разделены между собой пробелами.\\n\",\n    \"\\n\",\n    \"Напечатайте 2, 3 и предпоследнее слова из строки (через пробел)\\n\",\n    \"'''\\n\",\n    \"\\n\",\n    \"s = input().split()\\n\",\n    \"print(s[1], s[2], s[-2])\"\n   ]\n  },\n  {\n   \"cell_type\": \"code\",\n   \"execution_count\": null,\n   \"metadata\": {},\n   \"outputs\": [],\n   \"source\": [\n    \"'''\\n\",\n    \"На вход подаётся 1 строка, слова в которой разделены пробелами.\\n\",\n    \"\\n\",\n    \"Напечатайте слова из этой строки в обратном порядке, используя в качестве разделителя \\\"-$-\\\"\\n\",\n    \"'''\\n\",\n    \"\\n\",\n    \"s = input().split()\\n\",\n    \"print(*s[::-1], sep='-$-')\"\n   ]\n  },\n  {\n   \"cell_type\": \"code\",\n   \"execution_count\": 4,\n   \"metadata\": {},\n   \"outputs\": [\n    {\n     \"output_type\": \"stream\",\n     \"name\": \"stdout\",\n     \"text\": [\n      \"[1, 2, 3] [1, 2, 3] [1, 2, 3]\\n[1, 2, 3] [1, 2, 3] ['d', 2, 3]\\n\"\n     ]\n    }\n   ],\n   \"source\": [\n    \"L1 = [1, 2, 3]\\n\",\n    \"L2 = L1\\n\",\n    \"L3 = L1.copy()\\n\",\n    \"print(L1, L2, L3)\\n\",\n    \"L3[0] = 'd'\\n\",\n    \"print(L1, L2, L3)\"\n   ]\n  },\n  {\n   \"cell_type\": \"code\",\n   \"execution_count\": 5,\n   \"metadata\": {},\n   \"outputs\": [\n    {\n     \"output_type\": \"stream\",\n     \"name\": \"stdout\",\n     \"text\": [\n      \"[['', 2], [3, 4]]\\n[['', 2], [3, 4]]\\n\"\n     ]\n    },\n    {\n     \"output_type\": \"execute_result\",\n     \"data\": {\n      \"text/plain\": [\n       \"[['', 2], [3, 4]]\"\n      ]\n     },\n     \"metadata\": {},\n     \"execution_count\": 5\n    }\n   ],\n   \"source\": [\n    \"L = [[1, 2], [3, 4]]\\n\",\n    \"L2 = L.copy()\\n\",\n    \"L2[0][0] = ''\\n\",\n    \"print(L)\\n\",\n    \"print(L2)\\n\",\n    \"\\n\",\n    \"[['', 2], [3, 4]]\\n\",\n    \"[['', 2], [3, 4]]\"\n   ]\n  },\n  {\n   \"cell_type\": \"code\",\n   \"execution_count\": null,\n   \"metadata\": {},\n   \"outputs\": [],\n   \"source\": [\n    \"'''\\n\",\n    \"На вход подаётся 1 строка, слова в которой разделены пробелами.\\n\",\n    \"\\n\",\n    \"Напечатайте через пробел число слов в строке и число слов \\\"one\\\" в строке.\\n\",\n    \"\\n\",\n    \"\\n\",\n    \"\\n\",\n    \"Примечание1. Учитывайте вхождение только слова полностью в нижнем регистре - \\\"one\\\". \\\"One\\\", \\\"ONE\\\" и т.п. не учитывайте.\\n\",\n    \"\\n\",\n    \"Примечание2. Число элементов списка L можно получить с помощью конструкции len(L)\\n\",\n    \"'''\\n\",\n    \"\\n\",\n    \"s = input().split()\\n\",\n    \"print(len(s), s.count('one'))\"\n   ]\n  },\n  {\n   \"cell_type\": \"code\",\n   \"execution_count\": null,\n   \"metadata\": {},\n   \"outputs\": [],\n   \"source\": [\n    \"'''\\n\",\n    \"Функция sum() принимает на вход массив(любого типа) чисел и находит их сумму:\\n\",\n    \"\\n\",\n    \"Считайте строку, содержащую произвольное количество целых чисел и найдите их сумму.\\n\",\n    \"'''\\n\",\n    \"\\n\",\n    \"s = input().split()\\n\",\n    \"print(sum(map(int, s)))\"\n   ]\n  }\n ]\n}\n"
     ]
    }
   ],
   "source": [
    "'''\n",
    "Откройте файл, имя которого передаётся на вход, и выведите содержимое на печать.\n",
    "'''\n",
    "\n",
    "with open(input(), encoding='utf-8') as f:\n",
    "    print(f.read())"
   ]
  },
  {
   "cell_type": "code",
   "execution_count": null,
   "metadata": {},
   "outputs": [],
   "source": [
    "'''\n",
    "Откройте файл, имя которого передаётся на вход.\n",
    "\n",
    "Файл содержит произвольное количество целых чисел, каждое с новой строки.\n",
    "\n",
    "Выведите на печать сумму всех целых чисел, записанных в файле.\n",
    "'''\n",
    "\n",
    "with open(input()) as f:\n",
    "    print(sum(map(int, f.read().splitlines())))"
   ]
  },
  {
   "cell_type": "code",
   "execution_count": null,
   "metadata": {},
   "outputs": [],
   "source": [
    "'''\n",
    "Откройте файл, имя которого передаётся на вход.\n",
    "\n",
    "Выведите на печать предпоследнюю строку.\n",
    "'''\n",
    "\n",
    "with open(input(), encoding='utf-8') as f:\n",
    "    print(f.readlines()[-2])"
   ]
  },
  {
   "cell_type": "code",
   "execution_count": null,
   "metadata": {},
   "outputs": [],
   "source": [
    "'''\n",
    "Представьте себя сотрудником деканата. Преподаватели предоставляют вам по 2 файла, имена которых находятся в переменных:\n",
    "\n",
    "sheet - экзаменационную ведомость с фамилиями, именами и отчествами (если есть), оценками и статусами\n",
    "mean - среднюю оценку по группе\n",
    "Ведомость может выглядеть следующим образом:\n",
    "\n",
    "Аттила 2 (экзамен)\n",
    "Бонапарт Наполеон (неявка)\n",
    "Гассан Абдуррахман ибн Хоттаб 5 (автомат)\n",
    "Задойный Алексей Владимирович 5 (экзамен)\n",
    "Колонна-Валевский Александр Флориан Жозеф (недопуск)\n",
    "Цезарь Гай Юлий 4 (экзамен)\n",
    "Последнее значение (в скобках) - статус:\n",
    "\n",
    "экзамен - человек пришёл на экзамен и получил там оценку\n",
    "автомат - человек хорошо учился и получил оценку \"автоматом\" до экзамена\n",
    "неявка - человек не пришёл на экзамен и у него нет оценки\n",
    "недопуск - человек не сдал зачёт по физкультуре, а потому его не допустили к нашему экзамену\n",
    "Средняя оценка вычисляется только для тех, кто сдавал экзамен очно или получил автомат\n",
    "\n",
    "Ваша задача считать данные по всем студентам из файла, вычислить средний балл и сравнить его с тем, что указал преподаватель в mean.\n",
    "\n",
    "Если средний балл верен - напечатать \"OK\"\n",
    "\n",
    "Если средний балл рассчитан с ошибкой - напечатать \"ERROR\"\n",
    "'''\n",
    "\n",
    "#sheet = \"sheet1.txt\"\n",
    "#mean = \"mean1.txt\"\n",
    "\n",
    "with open(sheet, encoding='utf-8') as s, open(mean) as m:\n",
    "    scores = [int(line.split()[-2]) for line in s if 'экзамен' in line or 'автомат' in line]\n",
    "    avg = sum(scores) / len(scores)\n",
    "    print('OK' if float(m.read().strip()) == avg else 'ERROR')"
   ]
  },
  {
   "cell_type": "code",
   "execution_count": null,
   "metadata": {},
   "outputs": [],
   "source": [
    "'''\n",
    "На вход подаётся полный путь к файлу относительно текущего каталога.\n",
    "\n",
    "Проверьте есть ли такой файл (и файл ли это) и если он есть - выведите содержимое. Иначе выведите одну из 2 ошибок.\n",
    "'''\n",
    "\n",
    "import os.path\n",
    "\n",
    "path = input()\n",
    "if os.path.exists(path):\n",
    "    if os.path.isfile(path):\n",
    "        with open(path, encoding='utf-8') as f:\n",
    "            print('CONTENT:\\n', f.read(), sep='')\n",
    "    else:\n",
    "        print('ERROR:\\nЭто каталог, а не файл')\n",
    "else:\n",
    "    print('ERROR:\\nФайл не существует')"
   ]
  },
  {
   "cell_type": "code",
   "execution_count": null,
   "metadata": {},
   "outputs": [],
   "source": [
    "'''\n",
    "Считайте строку, подаваемую на вход и запишите её в файл \"output.txt\".\n",
    "'''\n",
    "\n",
    "with open('output.txt', 'w', encoding='utf-8') as f:\n",
    "    f.write(input())"
   ]
  },
  {
   "cell_type": "code",
   "execution_count": null,
   "metadata": {},
   "outputs": [],
   "source": [
    "'''\n",
    "event - переменная с текстом события\n",
    "file_name - имя файла с логом\n",
    "Файл с логом содержит записи о некоторых событиях вида:\n",
    "\n",
    "event 3 - 'git log -2'\n",
    "event 2 - 'git log'\n",
    "event 1 - 'git status'\n",
    "Пример нового события:\n",
    "\n",
    "git fetch origin\n",
    "Дополните лог в файле так, чтобы новое событие было записано вверху. Не забудьте указать порядковый номер события.\n",
    "\n",
    "event 4 - 'git fetch origin'\n",
    "event 3 - 'git log -2'\n",
    "event 2 - 'git log'\n",
    "event 1 - 'git status'\n",
    "Если файл отсутствует или не содержит записей, начните нумеровать события с 1.\n",
    "\n",
    "Не забывайте про переносы строк!\n",
    "\n",
    " \n",
    "\n",
    "Примечание. Гарантируется, что путь не указывает на каталог. Т.е. ситуация когда файла нет и его невозможно создать исключена.\n",
    "\n",
    "Примечание. В логе могут быть пустые строки\n",
    "\n",
    "Sample Input 1:\n",
    "\n",
    "event = \"git fetch origin\"\n",
    "file_name = \"tmp/git.log\"\n",
    "Sample Output 1:\n",
    "\n",
    "event 4 - 'git fetch origin'\n",
    "event 3 - 'git log -2'\n",
    "event 2 - 'git log'\n",
    "event 1 - 'git status'\n",
    "'''\n",
    "\n",
    "import os.path\n",
    "\n",
    "lines, ind = [], 0\n",
    "try:\n",
    "    with open(file_name) as f:\n",
    "        lines = f.readlines()\n",
    "    ind = int(lines[0].split()[1])\n",
    "except:\n",
    "    pass\n",
    "\n",
    "with open(file_name, 'w') as f:\n",
    "    f.write(f\"event {ind+1} - '{event}'\\n\")\n",
    "    f.writelines(lines)"
   ]
  }
 ]
}