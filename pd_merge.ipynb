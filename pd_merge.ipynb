{
 "metadata": {
  "language_info": {
   "codemirror_mode": {
    "name": "ipython",
    "version": 3
   },
   "file_extension": ".py",
   "mimetype": "text/x-python",
   "name": "python",
   "nbconvert_exporter": "python",
   "pygments_lexer": "ipython3",
   "version": "3.8.5-final"
  },
  "orig_nbformat": 2,
  "kernelspec": {
   "name": "python3",
   "display_name": "Python 3",
   "language": "python"
  }
 },
 "nbformat": 4,
 "nbformat_minor": 2,
 "cells": [
  {
   "cell_type": "code",
   "execution_count": 28,
   "metadata": {},
   "outputs": [],
   "source": [
    "#На какую сумму купили и оплатили носков любых видов (как мужских, так и женских)?"
   ]
  },
  {
   "cell_type": "code",
   "execution_count": 29,
   "metadata": {},
   "outputs": [],
   "source": [
    "import pandas as pd"
   ]
  },
  {
   "cell_type": "code",
   "execution_count": 30,
   "metadata": {},
   "outputs": [
    {
     "output_type": "execute_result",
     "data": {
      "text/plain": [
       "         Дата создания  Order ID  ID Покупателя                    Статус  \\\n",
       "0  09.11.2019 21:55:51         9             10  Принят, ожидается оплата   \n",
       "1  09.11.2019 15:05:57         8              9  Принят, ожидается оплата   \n",
       "2  09.11.2019 15:05:57         8              9  Принят, ожидается оплата   \n",
       "3  09.11.2019 12:50:07         7              8  Принят, ожидается оплата   \n",
       "4  09.11.2019 12:00:00         6              1  Принят, ожидается оплата   \n",
       "\n",
       "  Оплачен Отменен Отгружен  ID товара  Количество  \n",
       "0     Нет     Нет      Нет        103           5  \n",
       "1     Нет     Нет      Нет         86         100  \n",
       "2     Нет     Нет      Нет        104          10  \n",
       "3     Нет     Нет      Нет        104           7  \n",
       "4     Нет     Нет      Нет        104           5  "
      ],
      "text/html": "<div>\n<style scoped>\n    .dataframe tbody tr th:only-of-type {\n        vertical-align: middle;\n    }\n\n    .dataframe tbody tr th {\n        vertical-align: top;\n    }\n\n    .dataframe thead th {\n        text-align: right;\n    }\n</style>\n<table border=\"1\" class=\"dataframe\">\n  <thead>\n    <tr style=\"text-align: right;\">\n      <th></th>\n      <th>Дата создания</th>\n      <th>Order ID</th>\n      <th>ID Покупателя</th>\n      <th>Статус</th>\n      <th>Оплачен</th>\n      <th>Отменен</th>\n      <th>Отгружен</th>\n      <th>ID товара</th>\n      <th>Количество</th>\n    </tr>\n  </thead>\n  <tbody>\n    <tr>\n      <th>0</th>\n      <td>09.11.2019 21:55:51</td>\n      <td>9</td>\n      <td>10</td>\n      <td>Принят, ожидается оплата</td>\n      <td>Нет</td>\n      <td>Нет</td>\n      <td>Нет</td>\n      <td>103</td>\n      <td>5</td>\n    </tr>\n    <tr>\n      <th>1</th>\n      <td>09.11.2019 15:05:57</td>\n      <td>8</td>\n      <td>9</td>\n      <td>Принят, ожидается оплата</td>\n      <td>Нет</td>\n      <td>Нет</td>\n      <td>Нет</td>\n      <td>86</td>\n      <td>100</td>\n    </tr>\n    <tr>\n      <th>2</th>\n      <td>09.11.2019 15:05:57</td>\n      <td>8</td>\n      <td>9</td>\n      <td>Принят, ожидается оплата</td>\n      <td>Нет</td>\n      <td>Нет</td>\n      <td>Нет</td>\n      <td>104</td>\n      <td>10</td>\n    </tr>\n    <tr>\n      <th>3</th>\n      <td>09.11.2019 12:50:07</td>\n      <td>7</td>\n      <td>8</td>\n      <td>Принят, ожидается оплата</td>\n      <td>Нет</td>\n      <td>Нет</td>\n      <td>Нет</td>\n      <td>104</td>\n      <td>7</td>\n    </tr>\n    <tr>\n      <th>4</th>\n      <td>09.11.2019 12:00:00</td>\n      <td>6</td>\n      <td>1</td>\n      <td>Принят, ожидается оплата</td>\n      <td>Нет</td>\n      <td>Нет</td>\n      <td>Нет</td>\n      <td>104</td>\n      <td>5</td>\n    </tr>\n  </tbody>\n</table>\n</div>"
     },
     "metadata": {},
     "execution_count": 30
    }
   ],
   "source": [
    "order = pd.read_csv('orders.csv', sep=';')\n",
    "order.head()"
   ]
  },
  {
   "cell_type": "code",
   "execution_count": 31,
   "metadata": {},
   "outputs": [
    {
     "output_type": "execute_result",
     "data": {
      "text/plain": [
       "   Product_ID                      Name  Price CURRENCY\n",
       "0          47      Шатны Полосатый рейс   2999      RUR\n",
       "1          51  Платье Аленький цветочек   4999      RUR\n",
       "2          53    Штаны Цветочная Поляна   4999      RUR\n",
       "3          71       Платье Ночная Жизнь   7999      RUR\n",
       "4          74  Платье Ночная Жизнь XXXL   8999      RUR"
      ],
      "text/html": "<div>\n<style scoped>\n    .dataframe tbody tr th:only-of-type {\n        vertical-align: middle;\n    }\n\n    .dataframe tbody tr th {\n        vertical-align: top;\n    }\n\n    .dataframe thead th {\n        text-align: right;\n    }\n</style>\n<table border=\"1\" class=\"dataframe\">\n  <thead>\n    <tr style=\"text-align: right;\">\n      <th></th>\n      <th>Product_ID</th>\n      <th>Name</th>\n      <th>Price</th>\n      <th>CURRENCY</th>\n    </tr>\n  </thead>\n  <tbody>\n    <tr>\n      <th>0</th>\n      <td>47</td>\n      <td>Шатны Полосатый рейс</td>\n      <td>2999</td>\n      <td>RUR</td>\n    </tr>\n    <tr>\n      <th>1</th>\n      <td>51</td>\n      <td>Платье Аленький цветочек</td>\n      <td>4999</td>\n      <td>RUR</td>\n    </tr>\n    <tr>\n      <th>2</th>\n      <td>53</td>\n      <td>Штаны Цветочная Поляна</td>\n      <td>4999</td>\n      <td>RUR</td>\n    </tr>\n    <tr>\n      <th>3</th>\n      <td>71</td>\n      <td>Платье Ночная Жизнь</td>\n      <td>7999</td>\n      <td>RUR</td>\n    </tr>\n    <tr>\n      <th>4</th>\n      <td>74</td>\n      <td>Платье Ночная Жизнь XXXL</td>\n      <td>8999</td>\n      <td>RUR</td>\n    </tr>\n  </tbody>\n</table>\n</div>"
     },
     "metadata": {},
     "execution_count": 31
    }
   ],
   "source": [
    "product = pd.read_csv('Products.csv', sep=';')\n",
    "product.head()"
   ]
  },
  {
   "cell_type": "code",
   "execution_count": 32,
   "metadata": {},
   "outputs": [
    {
     "output_type": "execute_result",
     "data": {
      "text/plain": [
       "         Дата создания  Order ID  ID Покупателя  \\\n",
       "0  09.11.2019 21:55:51         9             10   \n",
       "1  09.11.2019 12:00:00         6              1   \n",
       "2  08.11.2019 08:36:22         3              8   \n",
       "3  09.11.2019 15:05:57         8              9   \n",
       "4  08.11.2019 08:36:20         1              5   \n",
       "\n",
       "                            Статус Оплачен Отменен Отгружен  ID товара  \\\n",
       "0         Принят, ожидается оплата     Нет     Нет      Нет        103   \n",
       "1         Принят, ожидается оплата     Нет     Нет      Нет        103   \n",
       "2  Оплачен, формируется к отправке      Да     Нет      Нет        103   \n",
       "3         Принят, ожидается оплата     Нет     Нет      Нет         86   \n",
       "4  Оплачен, формируется к отправке      Да     Нет      Нет         86   \n",
       "\n",
       "   Количество  Product_ID                   Name  Price CURRENCY  \n",
       "0           5         103  Носки Подарочные, муж    199      RUR  \n",
       "1           5         103  Носки Подарочные, муж    199      RUR  \n",
       "2           3         103  Носки Подарочные, муж    199      RUR  \n",
       "3         100          86     Носки Простые, муж     45      RUR  \n",
       "4           1          86     Носки Простые, муж     45      RUR  "
      ],
      "text/html": "<div>\n<style scoped>\n    .dataframe tbody tr th:only-of-type {\n        vertical-align: middle;\n    }\n\n    .dataframe tbody tr th {\n        vertical-align: top;\n    }\n\n    .dataframe thead th {\n        text-align: right;\n    }\n</style>\n<table border=\"1\" class=\"dataframe\">\n  <thead>\n    <tr style=\"text-align: right;\">\n      <th></th>\n      <th>Дата создания</th>\n      <th>Order ID</th>\n      <th>ID Покупателя</th>\n      <th>Статус</th>\n      <th>Оплачен</th>\n      <th>Отменен</th>\n      <th>Отгружен</th>\n      <th>ID товара</th>\n      <th>Количество</th>\n      <th>Product_ID</th>\n      <th>Name</th>\n      <th>Price</th>\n      <th>CURRENCY</th>\n    </tr>\n  </thead>\n  <tbody>\n    <tr>\n      <th>0</th>\n      <td>09.11.2019 21:55:51</td>\n      <td>9</td>\n      <td>10</td>\n      <td>Принят, ожидается оплата</td>\n      <td>Нет</td>\n      <td>Нет</td>\n      <td>Нет</td>\n      <td>103</td>\n      <td>5</td>\n      <td>103</td>\n      <td>Носки Подарочные, муж</td>\n      <td>199</td>\n      <td>RUR</td>\n    </tr>\n    <tr>\n      <th>1</th>\n      <td>09.11.2019 12:00:00</td>\n      <td>6</td>\n      <td>1</td>\n      <td>Принят, ожидается оплата</td>\n      <td>Нет</td>\n      <td>Нет</td>\n      <td>Нет</td>\n      <td>103</td>\n      <td>5</td>\n      <td>103</td>\n      <td>Носки Подарочные, муж</td>\n      <td>199</td>\n      <td>RUR</td>\n    </tr>\n    <tr>\n      <th>2</th>\n      <td>08.11.2019 08:36:22</td>\n      <td>3</td>\n      <td>8</td>\n      <td>Оплачен, формируется к отправке</td>\n      <td>Да</td>\n      <td>Нет</td>\n      <td>Нет</td>\n      <td>103</td>\n      <td>3</td>\n      <td>103</td>\n      <td>Носки Подарочные, муж</td>\n      <td>199</td>\n      <td>RUR</td>\n    </tr>\n    <tr>\n      <th>3</th>\n      <td>09.11.2019 15:05:57</td>\n      <td>8</td>\n      <td>9</td>\n      <td>Принят, ожидается оплата</td>\n      <td>Нет</td>\n      <td>Нет</td>\n      <td>Нет</td>\n      <td>86</td>\n      <td>100</td>\n      <td>86</td>\n      <td>Носки Простые, муж</td>\n      <td>45</td>\n      <td>RUR</td>\n    </tr>\n    <tr>\n      <th>4</th>\n      <td>08.11.2019 08:36:20</td>\n      <td>1</td>\n      <td>5</td>\n      <td>Оплачен, формируется к отправке</td>\n      <td>Да</td>\n      <td>Нет</td>\n      <td>Нет</td>\n      <td>86</td>\n      <td>1</td>\n      <td>86</td>\n      <td>Носки Простые, муж</td>\n      <td>45</td>\n      <td>RUR</td>\n    </tr>\n  </tbody>\n</table>\n</div>"
     },
     "metadata": {},
     "execution_count": 32
    }
   ],
   "source": [
    "df = pd.merge(order, product, left_on='ID товара', right_on='Product_ID')\n",
    "df.head()"
   ]
  },
  {
   "cell_type": "code",
   "execution_count": 33,
   "metadata": {},
   "outputs": [
    {
     "output_type": "execute_result",
     "data": {
      "text/plain": [
       "         Дата создания  Order ID  ID Покупателя  \\\n",
       "0  09.11.2019 21:55:51         9             10   \n",
       "1  09.11.2019 12:00:00         6              1   \n",
       "2  08.11.2019 08:36:22         3              8   \n",
       "3  09.11.2019 15:05:57         8              9   \n",
       "4  08.11.2019 08:36:20         1              5   \n",
       "\n",
       "                            Статус Оплачен Отменен Отгружен  ID товара  \\\n",
       "0         Принят, ожидается оплата     Нет     Нет      Нет        103   \n",
       "1         Принят, ожидается оплата     Нет     Нет      Нет        103   \n",
       "2  Оплачен, формируется к отправке      Да     Нет      Нет        103   \n",
       "3         Принят, ожидается оплата     Нет     Нет      Нет         86   \n",
       "4  Оплачен, формируется к отправке      Да     Нет      Нет         86   \n",
       "\n",
       "   Количество  Product_ID                   Name  Price CURRENCY   sum  \n",
       "0           5         103  Носки Подарочные, муж    199      RUR   995  \n",
       "1           5         103  Носки Подарочные, муж    199      RUR   995  \n",
       "2           3         103  Носки Подарочные, муж    199      RUR   597  \n",
       "3         100          86     Носки Простые, муж     45      RUR  4500  \n",
       "4           1          86     Носки Простые, муж     45      RUR    45  "
      ],
      "text/html": "<div>\n<style scoped>\n    .dataframe tbody tr th:only-of-type {\n        vertical-align: middle;\n    }\n\n    .dataframe tbody tr th {\n        vertical-align: top;\n    }\n\n    .dataframe thead th {\n        text-align: right;\n    }\n</style>\n<table border=\"1\" class=\"dataframe\">\n  <thead>\n    <tr style=\"text-align: right;\">\n      <th></th>\n      <th>Дата создания</th>\n      <th>Order ID</th>\n      <th>ID Покупателя</th>\n      <th>Статус</th>\n      <th>Оплачен</th>\n      <th>Отменен</th>\n      <th>Отгружен</th>\n      <th>ID товара</th>\n      <th>Количество</th>\n      <th>Product_ID</th>\n      <th>Name</th>\n      <th>Price</th>\n      <th>CURRENCY</th>\n      <th>sum</th>\n    </tr>\n  </thead>\n  <tbody>\n    <tr>\n      <th>0</th>\n      <td>09.11.2019 21:55:51</td>\n      <td>9</td>\n      <td>10</td>\n      <td>Принят, ожидается оплата</td>\n      <td>Нет</td>\n      <td>Нет</td>\n      <td>Нет</td>\n      <td>103</td>\n      <td>5</td>\n      <td>103</td>\n      <td>Носки Подарочные, муж</td>\n      <td>199</td>\n      <td>RUR</td>\n      <td>995</td>\n    </tr>\n    <tr>\n      <th>1</th>\n      <td>09.11.2019 12:00:00</td>\n      <td>6</td>\n      <td>1</td>\n      <td>Принят, ожидается оплата</td>\n      <td>Нет</td>\n      <td>Нет</td>\n      <td>Нет</td>\n      <td>103</td>\n      <td>5</td>\n      <td>103</td>\n      <td>Носки Подарочные, муж</td>\n      <td>199</td>\n      <td>RUR</td>\n      <td>995</td>\n    </tr>\n    <tr>\n      <th>2</th>\n      <td>08.11.2019 08:36:22</td>\n      <td>3</td>\n      <td>8</td>\n      <td>Оплачен, формируется к отправке</td>\n      <td>Да</td>\n      <td>Нет</td>\n      <td>Нет</td>\n      <td>103</td>\n      <td>3</td>\n      <td>103</td>\n      <td>Носки Подарочные, муж</td>\n      <td>199</td>\n      <td>RUR</td>\n      <td>597</td>\n    </tr>\n    <tr>\n      <th>3</th>\n      <td>09.11.2019 15:05:57</td>\n      <td>8</td>\n      <td>9</td>\n      <td>Принят, ожидается оплата</td>\n      <td>Нет</td>\n      <td>Нет</td>\n      <td>Нет</td>\n      <td>86</td>\n      <td>100</td>\n      <td>86</td>\n      <td>Носки Простые, муж</td>\n      <td>45</td>\n      <td>RUR</td>\n      <td>4500</td>\n    </tr>\n    <tr>\n      <th>4</th>\n      <td>08.11.2019 08:36:20</td>\n      <td>1</td>\n      <td>5</td>\n      <td>Оплачен, формируется к отправке</td>\n      <td>Да</td>\n      <td>Нет</td>\n      <td>Нет</td>\n      <td>86</td>\n      <td>1</td>\n      <td>86</td>\n      <td>Носки Простые, муж</td>\n      <td>45</td>\n      <td>RUR</td>\n      <td>45</td>\n    </tr>\n  </tbody>\n</table>\n</div>"
     },
     "metadata": {},
     "execution_count": 33
    }
   ],
   "source": [
    "df['sum'] = df['Количество'] * df['Price']\n",
    "df.head()"
   ]
  },
  {
   "cell_type": "code",
   "execution_count": 34,
   "metadata": {},
   "outputs": [
    {
     "output_type": "execute_result",
     "data": {
      "text/plain": [
       "          Дата создания  Order ID  ID Покупателя  \\\n",
       "2   08.11.2019 08:36:22         3              8   \n",
       "4   08.11.2019 08:36:20         1              5   \n",
       "8   08.11.2019 08:36:22         3              8   \n",
       "11  08.11.2019 08:36:21         2              7   \n",
       "12  08.11.2019 08:36:21         2              7   \n",
       "13  08.11.2019 08:36:21         2              7   \n",
       "14  08.11.2019 08:36:21         2              7   \n",
       "15  08.11.2019 08:36:20         1              5   \n",
       "16  08.11.2019 08:36:20         1              5   \n",
       "\n",
       "                             Статус Оплачен Отменен Отгружен  ID товара  \\\n",
       "2   Оплачен, формируется к отправке      Да     Нет      Нет        103   \n",
       "4   Оплачен, формируется к отправке      Да     Нет      Нет         86   \n",
       "8   Оплачен, формируется к отправке      Да     Нет      Нет        104   \n",
       "11                         Выполнен      Да     Нет       Да         74   \n",
       "12                         Выполнен      Да     Нет       Да         53   \n",
       "13                         Выполнен      Да     Нет       Да        137   \n",
       "14                         Выполнен      Да     Нет       Да         47   \n",
       "15  Оплачен, формируется к отправке      Да     Нет      Нет         71   \n",
       "16  Оплачен, формируется к отправке      Да     Нет      Нет         51   \n",
       "\n",
       "    Количество  Product_ID                       Name  Price CURRENCY   sum  \n",
       "2            3         103      Носки Подарочные, муж    199      RUR   597  \n",
       "4            1          86         Носки Простые, муж     45      RUR    45  \n",
       "8            3         104      Носки Подарочные, жен    249      RUR   747  \n",
       "11           1          74   Платье Ночная Жизнь XXXL   8999      RUR  8999  \n",
       "12           1          53     Штаны Цветочная Поляна   4999      RUR  4999  \n",
       "13           1         137  Гольфы детские Снегурочка     99      RUR    99  \n",
       "14           1          47       Шатны Полосатый рейс   2999      RUR  2999  \n",
       "15           1          71        Платье Ночная Жизнь   7999      RUR  7999  \n",
       "16           1          51   Платье Аленький цветочек   4999      RUR  4999  "
      ],
      "text/html": "<div>\n<style scoped>\n    .dataframe tbody tr th:only-of-type {\n        vertical-align: middle;\n    }\n\n    .dataframe tbody tr th {\n        vertical-align: top;\n    }\n\n    .dataframe thead th {\n        text-align: right;\n    }\n</style>\n<table border=\"1\" class=\"dataframe\">\n  <thead>\n    <tr style=\"text-align: right;\">\n      <th></th>\n      <th>Дата создания</th>\n      <th>Order ID</th>\n      <th>ID Покупателя</th>\n      <th>Статус</th>\n      <th>Оплачен</th>\n      <th>Отменен</th>\n      <th>Отгружен</th>\n      <th>ID товара</th>\n      <th>Количество</th>\n      <th>Product_ID</th>\n      <th>Name</th>\n      <th>Price</th>\n      <th>CURRENCY</th>\n      <th>sum</th>\n    </tr>\n  </thead>\n  <tbody>\n    <tr>\n      <th>2</th>\n      <td>08.11.2019 08:36:22</td>\n      <td>3</td>\n      <td>8</td>\n      <td>Оплачен, формируется к отправке</td>\n      <td>Да</td>\n      <td>Нет</td>\n      <td>Нет</td>\n      <td>103</td>\n      <td>3</td>\n      <td>103</td>\n      <td>Носки Подарочные, муж</td>\n      <td>199</td>\n      <td>RUR</td>\n      <td>597</td>\n    </tr>\n    <tr>\n      <th>4</th>\n      <td>08.11.2019 08:36:20</td>\n      <td>1</td>\n      <td>5</td>\n      <td>Оплачен, формируется к отправке</td>\n      <td>Да</td>\n      <td>Нет</td>\n      <td>Нет</td>\n      <td>86</td>\n      <td>1</td>\n      <td>86</td>\n      <td>Носки Простые, муж</td>\n      <td>45</td>\n      <td>RUR</td>\n      <td>45</td>\n    </tr>\n    <tr>\n      <th>8</th>\n      <td>08.11.2019 08:36:22</td>\n      <td>3</td>\n      <td>8</td>\n      <td>Оплачен, формируется к отправке</td>\n      <td>Да</td>\n      <td>Нет</td>\n      <td>Нет</td>\n      <td>104</td>\n      <td>3</td>\n      <td>104</td>\n      <td>Носки Подарочные, жен</td>\n      <td>249</td>\n      <td>RUR</td>\n      <td>747</td>\n    </tr>\n    <tr>\n      <th>11</th>\n      <td>08.11.2019 08:36:21</td>\n      <td>2</td>\n      <td>7</td>\n      <td>Выполнен</td>\n      <td>Да</td>\n      <td>Нет</td>\n      <td>Да</td>\n      <td>74</td>\n      <td>1</td>\n      <td>74</td>\n      <td>Платье Ночная Жизнь XXXL</td>\n      <td>8999</td>\n      <td>RUR</td>\n      <td>8999</td>\n    </tr>\n    <tr>\n      <th>12</th>\n      <td>08.11.2019 08:36:21</td>\n      <td>2</td>\n      <td>7</td>\n      <td>Выполнен</td>\n      <td>Да</td>\n      <td>Нет</td>\n      <td>Да</td>\n      <td>53</td>\n      <td>1</td>\n      <td>53</td>\n      <td>Штаны Цветочная Поляна</td>\n      <td>4999</td>\n      <td>RUR</td>\n      <td>4999</td>\n    </tr>\n    <tr>\n      <th>13</th>\n      <td>08.11.2019 08:36:21</td>\n      <td>2</td>\n      <td>7</td>\n      <td>Выполнен</td>\n      <td>Да</td>\n      <td>Нет</td>\n      <td>Да</td>\n      <td>137</td>\n      <td>1</td>\n      <td>137</td>\n      <td>Гольфы детские Снегурочка</td>\n      <td>99</td>\n      <td>RUR</td>\n      <td>99</td>\n    </tr>\n    <tr>\n      <th>14</th>\n      <td>08.11.2019 08:36:21</td>\n      <td>2</td>\n      <td>7</td>\n      <td>Выполнен</td>\n      <td>Да</td>\n      <td>Нет</td>\n      <td>Да</td>\n      <td>47</td>\n      <td>1</td>\n      <td>47</td>\n      <td>Шатны Полосатый рейс</td>\n      <td>2999</td>\n      <td>RUR</td>\n      <td>2999</td>\n    </tr>\n    <tr>\n      <th>15</th>\n      <td>08.11.2019 08:36:20</td>\n      <td>1</td>\n      <td>5</td>\n      <td>Оплачен, формируется к отправке</td>\n      <td>Да</td>\n      <td>Нет</td>\n      <td>Нет</td>\n      <td>71</td>\n      <td>1</td>\n      <td>71</td>\n      <td>Платье Ночная Жизнь</td>\n      <td>7999</td>\n      <td>RUR</td>\n      <td>7999</td>\n    </tr>\n    <tr>\n      <th>16</th>\n      <td>08.11.2019 08:36:20</td>\n      <td>1</td>\n      <td>5</td>\n      <td>Оплачен, формируется к отправке</td>\n      <td>Да</td>\n      <td>Нет</td>\n      <td>Нет</td>\n      <td>51</td>\n      <td>1</td>\n      <td>51</td>\n      <td>Платье Аленький цветочек</td>\n      <td>4999</td>\n      <td>RUR</td>\n      <td>4999</td>\n    </tr>\n  </tbody>\n</table>\n</div>"
     },
     "metadata": {},
     "execution_count": 34
    }
   ],
   "source": [
    "df[(df['Оплачен']=='Да')]"
   ]
  },
  {
   "cell_type": "code",
   "execution_count": 35,
   "metadata": {},
   "outputs": [
    {
     "output_type": "execute_result",
     "data": {
      "text/plain": [
       "         Дата создания  Order ID  ID Покупателя  \\\n",
       "2  08.11.2019 08:36:22         3              8   \n",
       "4  08.11.2019 08:36:20         1              5   \n",
       "8  08.11.2019 08:36:22         3              8   \n",
       "\n",
       "                            Статус Оплачен Отменен Отгружен  ID товара  \\\n",
       "2  Оплачен, формируется к отправке      Да     Нет      Нет        103   \n",
       "4  Оплачен, формируется к отправке      Да     Нет      Нет         86   \n",
       "8  Оплачен, формируется к отправке      Да     Нет      Нет        104   \n",
       "\n",
       "   Количество  Product_ID                   Name  Price CURRENCY  sum  \n",
       "2           3         103  Носки Подарочные, муж    199      RUR  597  \n",
       "4           1          86     Носки Простые, муж     45      RUR   45  \n",
       "8           3         104  Носки Подарочные, жен    249      RUR  747  "
      ],
      "text/html": "<div>\n<style scoped>\n    .dataframe tbody tr th:only-of-type {\n        vertical-align: middle;\n    }\n\n    .dataframe tbody tr th {\n        vertical-align: top;\n    }\n\n    .dataframe thead th {\n        text-align: right;\n    }\n</style>\n<table border=\"1\" class=\"dataframe\">\n  <thead>\n    <tr style=\"text-align: right;\">\n      <th></th>\n      <th>Дата создания</th>\n      <th>Order ID</th>\n      <th>ID Покупателя</th>\n      <th>Статус</th>\n      <th>Оплачен</th>\n      <th>Отменен</th>\n      <th>Отгружен</th>\n      <th>ID товара</th>\n      <th>Количество</th>\n      <th>Product_ID</th>\n      <th>Name</th>\n      <th>Price</th>\n      <th>CURRENCY</th>\n      <th>sum</th>\n    </tr>\n  </thead>\n  <tbody>\n    <tr>\n      <th>2</th>\n      <td>08.11.2019 08:36:22</td>\n      <td>3</td>\n      <td>8</td>\n      <td>Оплачен, формируется к отправке</td>\n      <td>Да</td>\n      <td>Нет</td>\n      <td>Нет</td>\n      <td>103</td>\n      <td>3</td>\n      <td>103</td>\n      <td>Носки Подарочные, муж</td>\n      <td>199</td>\n      <td>RUR</td>\n      <td>597</td>\n    </tr>\n    <tr>\n      <th>4</th>\n      <td>08.11.2019 08:36:20</td>\n      <td>1</td>\n      <td>5</td>\n      <td>Оплачен, формируется к отправке</td>\n      <td>Да</td>\n      <td>Нет</td>\n      <td>Нет</td>\n      <td>86</td>\n      <td>1</td>\n      <td>86</td>\n      <td>Носки Простые, муж</td>\n      <td>45</td>\n      <td>RUR</td>\n      <td>45</td>\n    </tr>\n    <tr>\n      <th>8</th>\n      <td>08.11.2019 08:36:22</td>\n      <td>3</td>\n      <td>8</td>\n      <td>Оплачен, формируется к отправке</td>\n      <td>Да</td>\n      <td>Нет</td>\n      <td>Нет</td>\n      <td>104</td>\n      <td>3</td>\n      <td>104</td>\n      <td>Носки Подарочные, жен</td>\n      <td>249</td>\n      <td>RUR</td>\n      <td>747</td>\n    </tr>\n  </tbody>\n</table>\n</div>"
     },
     "metadata": {},
     "execution_count": 35
    }
   ],
   "source": [
    "socks = df[(df['Оплачен']=='Да')&(df['Name'].str.contains('Носки', regex=False))]\n",
    "socks"
   ]
  },
  {
   "cell_type": "code",
   "execution_count": 36,
   "metadata": {},
   "outputs": [
    {
     "output_type": "execute_result",
     "data": {
      "text/plain": [
       "1389"
      ]
     },
     "metadata": {},
     "execution_count": 36
    }
   ],
   "source": [
    "socks['sum'].sum()"
   ]
  },
  {
   "cell_type": "code",
   "execution_count": null,
   "metadata": {},
   "outputs": [],
   "source": []
  }
 ]
}