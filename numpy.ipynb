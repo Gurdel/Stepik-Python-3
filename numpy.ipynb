{
 "metadata": {
  "language_info": {
   "codemirror_mode": {
    "name": "ipython",
    "version": 3
   },
   "file_extension": ".py",
   "mimetype": "text/x-python",
   "name": "python",
   "nbconvert_exporter": "python",
   "pygments_lexer": "ipython3",
   "version": "3.8.5-final"
  },
  "orig_nbformat": 2,
  "kernelspec": {
   "name": "python3",
   "display_name": "Python 3",
   "language": "python"
  }
 },
 "nbformat": 4,
 "nbformat_minor": 2,
 "cells": [
  {
   "cell_type": "code",
   "execution_count": 1,
   "metadata": {},
   "outputs": [],
   "source": [
    "'''\n",
    "На вход подаётся список чисел (строка, где числа разделены запятой).\n",
    "\n",
    "Создайте и сохраните:\n",
    "\n",
    "в переменную V1 Numpy вектор из этих чисел в том же порядке\n",
    "в переменную V2 Numpy вектор, содержащий только предпоследнее число (это должен быть именно вектор!)\n",
    "в переменную V3 Numpy вектор из этих чисел в обратном порядке\n",
    "в переменную V4 Numpy вектор из этих чисел, начиная с 0-ого, через 2 (т.е. каждое третье число)\n",
    "в переменную V5 Numpy вектор, созданный из генератора Range, содержащий столько элементов, сколько было передано чисел на вход\n",
    "'''\n",
    "\n",
    "import numpy as np\n",
    "\n",
    "V = list(map(float, input().split(', ')))\n",
    "\n",
    "V1 = np.array(V)\n",
    "V2 = np.array(V[-2])\n",
    "V3 = np.array(V[::-1])\n",
    "V4 = np.array(V[::3])\n",
    "V5 = np.array(range(len(V)))"
   ]
  },
  {
   "cell_type": "code",
   "execution_count": 5,
   "metadata": {},
   "outputs": [
    {
     "output_type": "execute_result",
     "data": {
      "text/plain": [
       "(array([1, 2, 3, 4]),\n",
       " array([10, 20, 30, 40]),\n",
       " array([11, 22, 33, 44]),\n",
       " array([40, 60]))"
      ]
     },
     "metadata": {},
     "execution_count": 5
    }
   ],
   "source": [
    "'''\n",
    "На вход подаётся 2 списка целых чисел (они представляют из себя вектора равной длины, т.е. с одинаковым количеством элементов).\n",
    "\n",
    "Используя векторные операции создайте и сохраните:\n",
    "\n",
    "в переменную V1 Numpy вектор с числами из 1 строки\n",
    "в переменную V2 Numpy вектор с числами из 2 строки\n",
    "в переменную V3 Numpy вектор с покоординатными суммами V1 и V2\n",
    "в переменную V4 Numpy вектор с покоординатными произведениями каждого второго числа V1 на каждое второе число V2, развёрнутого в обратном порядке\n",
    "'''\n",
    "\n",
    "import numpy as np\n",
    "\n",
    "V1, V2 = (np.array(list(map(int, input().split(', ')))) for _ in range(2))\n",
    "V3 = V1 + V2\n",
    "V4 = V1[::2] * V2[::-2]\n",
    "\n",
    "V1, V2, V3, V4"
   ]
  },
  {
   "cell_type": "code",
   "execution_count": 7,
   "metadata": {},
   "outputs": [
    {
     "output_type": "execute_result",
     "data": {
      "text/plain": [
       "(array([1, 2, 3]), array([50, 20, 40]), array([51, 22, 43]), array([ 40, 150]))"
      ]
     },
     "metadata": {},
     "execution_count": 7
    }
   ],
   "source": [
    "import numpy as np\n",
    "\n",
    "V1, V2 = (np.fromstring(input(), dtype=np.int, sep=', ') for _ in range(2))\n",
    "V3 = V1 + V2\n",
    "V4 = V1[::2] * V2[::-1][::2]\n",
    "\n",
    "V1, V2, V3, V4"
   ]
  },
  {
   "cell_type": "code",
   "execution_count": 11,
   "metadata": {},
   "outputs": [
    {
     "output_type": "execute_result",
     "data": {
      "text/plain": [
       "(array([1, 2, 3, 4, 5, 6]), array([2, 8]), array([1., 2., 3.]))"
      ]
     },
     "metadata": {},
     "execution_count": 11
    }
   ],
   "source": [
    "'''\n",
    "На вход подаётся 2 набора целых чисел.\n",
    "\n",
    "Создайте вектор V такой, что он будет содержать числа из 1 набора, делящиеся нацело на предпоследнее число из 2 набора и разделённые на это число.\n",
    "\n",
    "Если таких чисел не найдётся, то вектор V будет пустым (т.е. не будет содержать элементов).\n",
    "'''\n",
    "\n",
    "import numpy as np\n",
    "\n",
    "a, b = (np.fromstring(input(), dtype=np.int, sep=', ') for _ in range(2))\n",
    "V = a[a % b[-2] == 0] / b[-2]\n",
    "a, b, V"
   ]
  },
  {
   "cell_type": "code",
   "execution_count": 20,
   "metadata": {},
   "outputs": [
    {
     "output_type": "stream",
     "name": "stdout",
     "text": [
      "17.999999999999993\n"
     ]
    },
    {
     "output_type": "execute_result",
     "data": {
      "text/plain": [
       "(5.0, 8.54400374531753, 7.211102550927978, 10.377553148122754)"
      ]
     },
     "metadata": {},
     "execution_count": 20
    }
   ],
   "source": [
    "'''\n",
    "\n",
    "'''\n",
    "\n",
    "import numpy as np\n",
    "\n",
    "A1 = np.array((-1, 1))\n",
    "A2 = np.array((2, 5))\n",
    "A3 = np.array((5, -3))\n",
    "\n",
    "a = np.sum((A1-A2)**2) ** 0.5\n",
    "b = np.sum((A2-A3)**2) ** 0.5\n",
    "c = np.sum((A3-A1)**2) ** 0.5\n",
    "p = (a + b + c) / 2\n",
    "\n",
    "print((p * (p-a) * (p-b) * (p-c))**0.5)\n",
    "a, b, c, p"
   ]
  },
  {
   "cell_type": "code",
   "execution_count": 23,
   "metadata": {},
   "outputs": [
    {
     "output_type": "execute_result",
     "data": {
      "text/plain": [
       "(array([[1., 2., 3., 0.],\n",
       "        [4., 5., 6., 0.],\n",
       "        [0., 1., 1., 6.],\n",
       "        [7., 8., 9., 0.]]),\n",
       " array([[1.00000000e+00, 2.00000000e+00, 2.00855369e+01, 0.00000000e+00],\n",
       "        [4.00000000e+00, 5.00000000e+00, 4.03428793e+02, 0.00000000e+00],\n",
       "        [0.00000000e+00, 5.00000000e-01, 2.71828183e+00, 1.22464680e-16],\n",
       "        [7.00000000e+00, 8.00000000e+00, 8.10308393e+03, 0.00000000e+00]]))"
      ]
     },
     "metadata": {},
     "execution_count": 23
    }
   ],
   "source": [
    "'''\n",
    "Переменная M1 содержит Numpy матрицу.\n",
    "\n",
    "Произведите операции последовательно:\n",
    "\n",
    "1. Замените значения в предпоследней строке на значения по формуле:\n",
    "\n",
    "\\LARGE sin(\\frac{x \\cdot \\pi}{6})sin(6x⋅π), где x - старое значение\n",
    "2. Замените значения в предпоследнем столбце на значения по формуле:\n",
    "\\LARGE e^xe \n",
    "Результат запишите в переменную M2\n",
    "'''\n",
    "\n",
    "import numpy as np\n",
    "\n",
    "M1 = np.array((\n",
    "    (1., 2., 3., 0.),\n",
    "    (4., 5., 6., 0.),\n",
    "    (0., 1., 1., 6.),\n",
    "    (7., 8., 9., 0.)\n",
    "))\n",
    "\n",
    "M2 = M1.copy()\n",
    "M2[-2] = np.sin(M1[-2] * np.pi / 6)\n",
    "M2[:, -2] = np.exp(M1[:, -2])\n",
    "M1, M2"
   ]
  },
  {
   "cell_type": "code",
   "execution_count": null,
   "metadata": {},
   "outputs": [],
   "source": []
  }
 ]
}