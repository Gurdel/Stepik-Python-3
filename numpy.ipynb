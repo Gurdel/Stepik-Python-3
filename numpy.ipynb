{
 "metadata": {
  "language_info": {
   "codemirror_mode": {
    "name": "ipython",
    "version": 3
   },
   "file_extension": ".py",
   "mimetype": "text/x-python",
   "name": "python",
   "nbconvert_exporter": "python",
   "pygments_lexer": "ipython3",
   "version": "3.8.5-final"
  },
  "orig_nbformat": 2,
  "kernelspec": {
   "name": "python3",
   "display_name": "Python 3",
   "language": "python"
  }
 },
 "nbformat": 4,
 "nbformat_minor": 2,
 "cells": [
  {
   "cell_type": "code",
   "execution_count": 1,
   "metadata": {},
   "outputs": [],
   "source": [
    "'''\n",
    "На вход подаётся список чисел (строка, где числа разделены запятой).\n",
    "\n",
    "Создайте и сохраните:\n",
    "\n",
    "в переменную V1 Numpy вектор из этих чисел в том же порядке\n",
    "в переменную V2 Numpy вектор, содержащий только предпоследнее число (это должен быть именно вектор!)\n",
    "в переменную V3 Numpy вектор из этих чисел в обратном порядке\n",
    "в переменную V4 Numpy вектор из этих чисел, начиная с 0-ого, через 2 (т.е. каждое третье число)\n",
    "в переменную V5 Numpy вектор, созданный из генератора Range, содержащий столько элементов, сколько было передано чисел на вход\n",
    "'''\n",
    "\n",
    "import numpy as np\n",
    "\n",
    "V = list(map(float, input().split(', ')))\n",
    "\n",
    "V1 = np.array(V)\n",
    "V2 = np.array(V[-2])\n",
    "V3 = np.array(V[::-1])\n",
    "V4 = np.array(V[::3])\n",
    "V5 = np.array(range(len(V)))"
   ]
  },
  {
   "cell_type": "code",
   "execution_count": null,
   "metadata": {},
   "outputs": [],
   "source": [
    "'''\n",
    "На вход подаётся 2 списка целых чисел (они представляют из себя вектора равной длины, т.е. с одинаковым количеством элементов).\n",
    "\n",
    "Используя векторные операции создайте и сохраните:\n",
    "\n",
    "в переменную V1 Numpy вектор с числами из 1 строки\n",
    "в переменную V2 Numpy вектор с числами из 2 строки\n",
    "в переменную V3 Numpy вектор с покоординатными суммами V1 и V2\n",
    "в переменную V4 Numpy вектор с покоординатными произведениями каждого второго числа V1 на каждое второе число V2, развёрнутого в обратном порядке\n",
    "'''\n"
   ]
  }
 ]
}