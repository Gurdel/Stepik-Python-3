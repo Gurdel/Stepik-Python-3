{
 "metadata": {
  "language_info": {
   "codemirror_mode": {
    "name": "ipython",
    "version": 3
   },
   "file_extension": ".py",
   "mimetype": "text/x-python",
   "name": "python",
   "nbconvert_exporter": "python",
   "pygments_lexer": "ipython3",
   "version": "3.8.5-final"
  },
  "orig_nbformat": 2,
  "kernelspec": {
   "name": "python3",
   "display_name": "Python 3",
   "language": "python"
  }
 },
 "nbformat": 4,
 "nbformat_minor": 2,
 "cells": [
  {
   "cell_type": "code",
   "execution_count": 14,
   "metadata": {},
   "outputs": [
    {
     "output_type": "execute_result",
     "data": {
      "text/plain": [
       "'DYHFDHVDU'"
      ]
     },
     "metadata": {},
     "execution_count": 14
    }
   ],
   "source": [
    "'''\n",
    "Реализуйте функцию caesar(text, key), возвращающую зашифрованный текст, работающую только с латинским алфавитом.\n",
    "\n",
    "text - исходных текст, который надо зашифровать (или расшифровать)\n",
    "key - ключ (сдвиг)\n",
    "Ключ может быть отрицательным или больше 26\n",
    "\n",
    "Из преобразуемого текста удаляются все пробелы и знаки препинания. Зашифрованный текст пишется в верхнем регистре 1 строкой.\n",
    "'''\n",
    "import re\n",
    "\n",
    "def caesar(text, key):\n",
    "    alphabet = 'ABCDEFGHIJKLMNOPQRSTUVWXYZ'\n",
    "    text = text.upper()\n",
    "    text = re.sub(r'[^A-Z]', '', text)\n",
    "    return ''.join([alphabet[(alphabet.index(s)+key) % 26] for s in text])\n",
    "\n",
    "caesar('Ave, Caesar!', 3)"
   ]
  },
  {
   "cell_type": "code",
   "execution_count": 51,
   "metadata": {},
   "outputs": [
    {
     "output_type": "execute_result",
     "data": {
      "text/plain": [
       "'DYHFDHVDU'"
      ]
     },
     "metadata": {},
     "execution_count": 51
    }
   ],
   "source": [
    "'''\n",
    "Реализуйте функцию caesar(text, key, alphabet = 'ABCDEFGHIJKLMNOPQRSTUVWXYZ'), расширяющую возможности функции с предыдущего шага.\n",
    "\n",
    "Ваша функция должна корректно работать с любым переданным алфавитом, а если алфавит не передан, то использовать английский.\n",
    "'''\n",
    "\n",
    "def caesar(text, key, alphabet='ABCDEFGHIJKLMNOPQRSTUVWXYZ'):\n",
    "    text = text.upper()\n",
    "    L = len(alphabet)\n",
    "    return ''.join([alphabet[(alphabet.index(s)+key) % L] for s in text if s.isalpha() or s.isdigit()])\n",
    "\n",
    "caesar('Ave, Caesar!', 3)"
   ]
  },
  {
   "cell_type": "code",
   "execution_count": 23,
   "metadata": {},
   "outputs": [
    {
     "output_type": "stream",
     "name": "stdout",
     "text": [
      "APPLE\nZOOKD\nYNNJC\nXMMIB\nWLLHA\nVKKGZ\nUJJFY\nTIIEX\nSHHDW\nRGGCV\nQFFBU\nPEEAT\nODDZS\nNCCYR\nMBBXQ\nLAAWP\nKZZVO\nJYYUN\nIXXTM\nHWWSL\nGVVRK\nFUUQJ\nETTPI\nDSSOH\nCRRNG\n"
     ]
    }
   ],
   "source": [
    "'''\n",
    "Шифр Цезаря довольно легко поддаётся взлому с помощью грубой силы. Достаточно перебрать все варианты расшифровки текста (их столько, каковой длины будет словарь).\n",
    "\n",
    "Реализуйте функцию bruteforce(text, alphabet = 'ABCDEFGHIJKLMNOPQRSTUVWXYZ'), которая выводит на печать все возможные \"расшифровки\" исходного текста.\n",
    "\n",
    "Если алфавит не передан на вход функции, то считается, что текст на английском (считаем, что определение алфавита производит оператор-человек\n",
    "Порядок вывода расшифровок от сдвига \"-1\" по убыванию (-1, -2, -3...).\n",
    "Расшифровку текста в \"самого себя\" выводить не нужно.\n",
    "'''\n",
    "\n",
    "def bruteforce(text, alphabet='ABCDEFGHIJKLMNOPQRSTUVWXYZ'):\n",
    "    print(*[caesar(text, key, alphabet) for key in range(-1, -len(alphabet), -1)], sep='\\n')\n",
    "\n",
    "bruteforce('BQQMF')"
   ]
  },
  {
   "cell_type": "code",
   "execution_count": 52,
   "metadata": {},
   "outputs": [
    {
     "output_type": "execute_result",
     "data": {
      "text/plain": [
       "'УСУДЬИЖАРРИКЕСАПРОНИЦАТЕЛЬНЫЙУМ'"
      ]
     },
     "metadata": {},
     "execution_count": 52
    }
   ],
   "source": [
    "'''\n",
    "Реализуйте функцию jarriquez_encryption(text, key, alphabet='ABCDEFGHIJKLMNOPQRSTUVWXYZ', reverse=False), возвращающую зашифрованный текст, по алгоритму описанному на предыдущем шаге.\n",
    "\n",
    "text - исходный текст\n",
    "key - ключ шифрования (число)\n",
    "alphabet - алфавит (по умолчанию английский)\n",
    "reverse - признак расшифровки, если находится в значении True, это значит, что функцию надо использовать для расшифровки текста, т.к. каждый сдвиг должен быть отрицательным. (по умолчанию False)\n",
    "Из преобразуемого текста удаляются все пробелы и знаки препинания. Зашифрованный текст пишется в верхнем регистре 1 строкой.\n",
    "'''\n",
    "\n",
    "def jarriquez_encryption(text, key, alphabet='ABCDEFGHIJKLMNOPQRSTUVWXYZ', reverse=False):\n",
    "    one = 1\n",
    "    if reverse:\n",
    "        one = -1\n",
    "    \n",
    "    key = list(map(int, str(key)))\n",
    "    text = text.upper()\n",
    "    L = len(alphabet)\n",
    "    Lk = len(key)\n",
    "    res = ''\n",
    "    i = 0\n",
    "    for s in text:\n",
    "        if s.isalpha() or s.isdigit():\n",
    "            ind = alphabet.index(s)\n",
    "            res += alphabet[(ind + one * key[i%Lk]) % L]\n",
    "            i += 1\n",
    "    return res\n",
    "\n",
    "jarriquez_encryption('ЧУЦИЮЛКВУФКНЙУГУТССКЩДФИПЮРЯЛЦР', 423, 'АБВГДЕЖЗИЙКЛМНОПРСТУФХЦЧШЩЪЫЬЭЮЯ', True)"
   ]
  },
  {
   "cell_type": "code",
   "execution_count": 36,
   "metadata": {},
   "outputs": [
    {
     "output_type": "stream",
     "name": "stdout",
     "text": [
      "261086 РЕАЛЬНЫЙОТВЕТСТВЕННЫЙЗАПРЕСТУПЛЕНИЕНААЛМАЗНОМПРИИСКЕИЗРОМАНАЖЮЛЯВЕРНАЖАНГАДАНЕБУДЕТНАЗВАНВЭТОЙШИФРОВКЕЯОСТАВЛЮЗДЕСЬИМЯЖОАМДАКОСТАЛИШЬСЕДИНСТВЕННОЙЦЕЛЬЮЧТОБЫВЫМОГЛИРАСШИФРОВАТЬМОПОСЛАНИЕТАКЖЕЯДЕЛАЮЕГОДОСТАТОЧНОБОЛЬШОЙДЛИНЫЧТОБЫДАЖЕПОСЛЕШИФРОВАНИЯМОЖНОБЫЛОВОССТАНОВИТЬИСХОДНЫХАЛФАВИТАВТОРДАННОГОЗАДАНИЯИВАШДРУГЗАДОЙНЫЙАЛЕКСЕЙ\n"
     ]
    }
   ],
   "source": [
    "'''\n",
    "Вы судья Жаррикез из романа Жюля Верна \"Жангада\".\n",
    "\n",
    "К сожалению, из-за преждевременной расшифровки первоначального сообщения студентом автор поменял шифр и текст исходного сообщения.\n",
    "\n",
    "Так же был изменён сюжет произведения и отважный Фрагозо не смог доставить вам имя настоящего преступника. Зато у вас есть компьютер с Python на борту и целая ночь, чтобы доказать невиновность обвиняемого.\n",
    "\n",
    "Текст шифровки:\n",
    "\n",
    "ТЛБЛДУЭППТКЛФЧУВНУПБКЗИХТЛТТЫХНЛОИНУВЖММИНПФНПШОКЧЛЕРНТФНАХЖИДМЯКЛТУБЖИУЕЖЕАХЛГЩЕЕ\n",
    "\n",
    "ЪУВНГАХИЯШПЙАОЦЦПВТЛБФТТИИНДИДНЧЮОНЯОФВТЕАТФУШБЛРЮЮЧЖДРУУШГЕХУРПЧЕУВАЭУОЙБДБНОЛСКЦБ\n",
    "\n",
    "САОЦЦПВИШЮТППЦЧНЖОИНШВРЗЕЗКЗСБЮНЙРКПСЪЖФФШНЦЗРСЭШЦПЖСЙНГЭФФВЫМЖИЛРОЩСЗЮЙФШФДЖО\n",
    "\n",
    "ИЗТРМООЙБНФГОЩЧФЖООКОФВЙСЭФЖУЬХИСЦЖГИЪЖДШПРМЖПУПГЦНВКБНРЕКИБШМЦХЙИАМФЛУЬЙИСЗРТЕС\n",
    " \n",
    "\n",
    "Постарайтесь расшифровать текст, сделав несколько предположений:\n",
    "\n",
    "Текст зашифрован шифром Вижинера (вы его реализовали в предыдущей задаче)\n",
    "Ключ вряд ли представляет из себя 2-3 значное число (это было бы слишком легко), но из соображений гуманности можно не проверять числа более 6 знаков длиной\n",
    "В шифрованном тесте есть все символы алфавита (т.е. словарь можно составить с помощью текста шифровки)\n",
    "Расшифрованный текст содержит ряд ключевых слов из произведения (почти наверняка там есть слово \"алмаз\" или фамилия обвиняемого - \"Дакоста\".\n",
    "Хотя текст разбит на строки, на самом деле это не значит, что конец строки приходится на конец слова.\n",
    "'''\n",
    "\n",
    "text = 'ТЛБЛДУЭППТКЛФЧУВНУПБКЗИХТЛТТЫХНЛОИНУВЖММИНПФНПШОКЧЛЕРНТФНАХЖИДМЯКЛТУБЖИУЕЖЕАХЛГЩЕЕЪУВНГАХИЯШПЙАОЦЦПВТЛБФТТИИНДИДНЧЮОНЯОФВТЕАТФУШБЛРЮЮЧЖДРУУШГЕХУРПЧЕУВАЭУОЙБДБНОЛСКЦБСАОЦЦПВИШЮТППЦЧНЖОИНШВРЗЕЗКЗСБЮНЙРКПСЪЖФФШНЦЗРСЭШЦПЖСЙНГЭФФВЫМЖИЛРОЩСЗЮЙФШФДЖОИЗТРМООЙБНФГОЩЧФЖООКОФВЙСЭФЖУЬХИСЦЖГИЪЖДШПРМЖПУПГЦНВКБНРЕКИБШМЦХЙИАМФЛУЬЙИСЗРТЕС'\n",
    "alphabet = ''.join(sorted(set(text)))\n",
    "w1 = 'алмаз'.upper()\n",
    "w2 = 'Дакоста'.upper()\n",
    "for i in range(1000, 1000000):\n",
    "    w1e = jarriquez_encryption(w1, i, alphabet)\n",
    "    w2e = jarriquez_encryption(w2, i, alphabet)\n",
    "    decr = jarriquez_encryption(text, i, alphabet, True)\n",
    "    if (w1 in decr) and (w2 in decr):\n",
    "        print(i, decr)"
   ]
  },
  {
   "cell_type": "code",
   "execution_count": 48,
   "metadata": {},
   "outputs": [
    {
     "output_type": "stream",
     "name": "stdout",
     "text": [
      "MRETGVPCIBLZODUQFJSXHYKAWN\n"
     ]
    }
   ],
   "source": [
    "'''\n",
    "Логично продолжить наши упражнения, создав свой алфавит. Для начала создадим алфавит, отличающийся от исходного только случайным порядком букв.\n",
    "\n",
    "Рекомендуется использовать функцию https://docs.python.org/3/library/random.html#random.shuffle\n",
    "\n",
    "Для отладки зафиксируйте генератор, чтобы он всегда возвращал одни и те же значения с помощью https://docs.python.org/3/library/random.html#random.seed\n",
    "\n",
    "В задаче используется 42\n",
    "\n",
    " \n",
    "\n",
    "Напишите функцию disc_generator(alphabet), которая принимает на вход упорядоченный список (строку), а возвращает случайным образом перемешанный (тоже строку).\n",
    "'''\n",
    "import random\n",
    "random.seed = 42\n",
    "\n",
    "def disc_generator(alphabet):\n",
    "    buf = list(alphabet)\n",
    "    random.shuffle(buf)\n",
    "    return ''.join(buf)\n",
    "\n",
    "print(disc_generator('ABCDEFGHIJKLMNOPQRSTUVWXYZ'))"
   ]
  },
  {
   "cell_type": "code",
   "execution_count": 50,
   "metadata": {},
   "outputs": [],
   "source": [
    "'''\n",
    "Цилиндр Джеферсона - это механический шифровальный аппарат, который состоит из нескольких дисков, на которых записаны алфавиты (состоящие из одинаковых символов, но в случайном порядке).\n",
    "\n",
    "Для шифрования с его помощью текст разбивают на блоки, длина каждого блока равна числу дисков в механизме.\n",
    "\n",
    "Каждый символ блока шифруется с помощью алгоритма Цезаря с использованием соответствующего диска (т.е. 1й символ с помощью 1 диска, 2й символ с помощью 2 диска и т.д.) с общим сдвигом.\n",
    "\n",
    "Таким образом сдвиг (ключ для шифрования Цезаря) не является секретом для цилиндра Джеферсона - цилиндры легко повернуть вокруг оси и на них видны сразу все комбинации расшифровки, так что даже не требуется брутфорс. Однако, если сами цилиндры (а значит и порядок символов в алфавитах) хранятся в секрете, а так же в секрете порядок следования алфавитов, то такой метод шифрования очень надёжен.\n",
    "\n",
    "Переменная clear_alphabet содержит исходный алфавит\n",
    "Переменная n содержит число\n",
    " \n",
    "Создайте n новых алфавитов и поместите список из них в переменную discs.\n",
    "\n",
    "Создайте функцию jefferson_encryption(text, discs, step, reverse=False), реализующую \"цилиндр Джеферсона\"\n",
    "text - исходный текст\n",
    "discs - список из словарей (строк)\n",
    "step - сдвиг на которых смещаются символы с помощью алгоритма Цезаря (ключ шифрования для шифра Цезаря)\n",
    "reverse - признак расшифровки, если находится в значении True, это значит, что функцию надо использовать для расшифровки текста, т.к. каждый сдвиг должен быть отрицательным. (по умолчанию False)\n",
    "'''\n",
    "\n",
    "clear_alphabet = 'ABCDEFGHIJKLMNOPQRSTUVWXYZ'\n",
    "n = 5\n",
    "\n",
    "import random\n",
    "random.seed = 42\n",
    "\n",
    "discs = [disc_generator(clear_alphabet) for _ in range(n)]\n",
    "\n",
    "def jefferson_encryption(text, discs, step, reverse=False):\n",
    "    if reverse:\n",
    "        return jefferson_encryption(text, discs, -step)\n",
    "    text = text.upper()\n",
    "    res = ''\n",
    "    dn = len(discs)\n",
    "    L = len(discs[0])\n",
    "    i = 0\n",
    "    for s in text:\n",
    "        if s.isalpha() or s.isdigit():\n",
    "            res += discs[i%dn][(discs[i%dn].index(s) + step) % L]\n",
    "            i += 1\n",
    "    return res"
   ]
  },
  {
   "cell_type": "code",
   "execution_count": 55,
   "metadata": {},
   "outputs": [
    {
     "output_type": "execute_result",
     "data": {
      "text/plain": [
       "'8;4‡)*56(1†092:3?¶-.'"
      ]
     },
     "metadata": {},
     "execution_count": 55
    }
   ],
   "source": [
    "'''\n",
    "Реализуйте функцию шифрования, которую использовал пират Кидд из рассказа Эдгара Аллана По \"Золотой жук\".\n",
    "\n",
    "Используйте словарь:\n",
    "\n",
    "Символ\t8\t;\t4\t‡\t)\t*\t5\t6\t(\t1\t†\t0\t9\t2\t:\t3\t?\t¶\t-\t.\n",
    "Буква\te\tt\th\to\ts\tn\ta\ti\tr\tf\td\tl\tm\tb\ty\tg\tu\tv\tc\tp\n",
    "Символы, отсутствующие среди шифруемых букв (пробелы, знаки препинания, кириллица, буква \"x\" и т.п.) необходимо пропускать.\n",
    "\n",
    "Реализуйте функцию kidds_encryption(text, reverse=False), которая возвращает зашифрованный (или наоборот расшифрованный) текст.\n",
    "\n",
    "text - исходный текст\n",
    "reverse - признак расшифровки, если находится в значении True, это значит, что функцию надо использовать для расшифровки текста (по умолчанию False)\n",
    "'''\n",
    "\n",
    "def kidds_encryption(text, reverse=False):\n",
    "    text = text.lower()\n",
    "    dict_to = '8;4‡)*56(1†092:3?¶-.'\n",
    "    dict_from = 'ethosnairfdlmbyguvcp'\n",
    "    if reverse:\n",
    "        dict_from, dict_to = dict_to, dict_from\n",
    "    \n",
    "    return ''.join([dict_to[dict_from.index(s)] for s in text if s in dict_from])\n",
    "\n",
    "kidds_encryption('ethosnairfdlmbyguvcp')"
   ]
  },
  {
   "cell_type": "code",
   "execution_count": null,
   "metadata": {},
   "outputs": [],
   "source": []
  }
 ]
}