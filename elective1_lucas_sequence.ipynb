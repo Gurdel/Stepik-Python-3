{
 "metadata": {
  "language_info": {
   "codemirror_mode": {
    "name": "ipython",
    "version": 3
   },
   "file_extension": ".py",
   "mimetype": "text/x-python",
   "name": "python",
   "nbconvert_exporter": "python",
   "pygments_lexer": "ipython3",
   "version": "3.8.5-final"
  },
  "orig_nbformat": 2,
  "kernelspec": {
   "name": "python3",
   "display_name": "Python 3",
   "language": "python"
  }
 },
 "nbformat": 4,
 "nbformat_minor": 2,
 "cells": [
  {
   "cell_type": "code",
   "execution_count": 2,
   "metadata": {},
   "outputs": [
    {
     "output_type": "execute_result",
     "data": {
      "text/plain": [
       "376485"
      ]
     },
     "metadata": {},
     "execution_count": 2
    }
   ],
   "source": [
    "'''\n",
    "Напишите функцию luka(L0, L1, n), которая принимает на вход параметры:\n",
    "\n",
    "L0, L1 - 0й и 1й члены последовательности соответственно\n",
    "n - номер числа из последовательности, которое необходимо вернуть\n",
    "'''\n",
    "\n",
    "def luka(L0, L1, n):\n",
    "    if not n:\n",
    "        return L0\n",
    "\n",
    "    for _ in range(n-1):\n",
    "        L0, L1 = L1, L0+L1\n",
    "    \n",
    "    return L1\n",
    "\n",
    "luka(12345, 67890, 5)"
   ]
  },
  {
   "cell_type": "code",
   "execution_count": 4,
   "metadata": {},
   "outputs": [
    {
     "output_type": "execute_result",
     "data": {
      "text/plain": [
       "Decimal('1.6181818181818181818181818181818181818181818181818')"
      ]
     },
     "metadata": {},
     "execution_count": 4
    }
   ],
   "source": [
    "'''\n",
    "Напишите функцию fi(L0, L1, n) такую что:\n",
    "\n",
    "L0, L1 - 0й и 1й члены последовательности Люка соответственно\n",
    "n - номер числа из последовательности, которое необходимо вернуть\n",
    "Возвращаемое значение - это отношение 2 членов последовательности: L_n / L_{n-1}L \n",
    "n\n",
    "​\t\n",
    " /L \n",
    "n−1\n",
    "​\t\n",
    " \n",
    "Гарантируется, что n\\geq 2n≥2\n",
    "В данной задаче нам очень важна точность вычислений. Поэтому мы будем использовать необычный тип данных - Decimal. Документация.\n",
    "Модуль уже импортирован и задана точность:\n",
    "from decimal import *\n",
    "getcontext().prec = 50\n",
    " \n",
    "Вам необходимо лишь привести к типу  Decimal оба числа L_nL \n",
    "n\n",
    "​\t\n",
    "  и L_{n-1}L \n",
    "n−1\n",
    "​\t\n",
    " , чтобы их отношение так же было Decimal. Функция должна возвращать именно Decimal.\n",
    " '''\n",
    "\n",
    "from decimal import Decimal, getcontext\n",
    "getcontext().prec = 50\n",
    "\n",
    "def fi(L0, L1, n):\n",
    "    for _ in range(n-1):\n",
    "        L0, L1 = L1, L0+L1\n",
    "    \n",
    "    return Decimal(L1) / Decimal(L0)\n",
    "\n",
    "fi(0, 1, 11)"
   ]
  },
  {
   "cell_type": "code",
   "execution_count": 6,
   "metadata": {},
   "outputs": [
    {
     "output_type": "execute_result",
     "data": {
      "text/plain": [
       "(33385282, 41473935220454921602871195774259272002)"
      ]
     },
     "metadata": {},
     "execution_count": 6
    }
   ],
   "source": [
    "'''\n",
    "Напишите функцию super_L(n), находящую n-е число Люка.\n",
    "\n",
    "Используйте формулы для разложения из предыдущего шага, чтобы увеличить быстродействие вашей функции.\n",
    "\n",
    "L(2n)=L(n) \n",
    "2\n",
    " −2∗(−1) \n",
    "n\n",
    " ;\n",
    "\n",
    "L (4n) = L (n) ^ 4 - 4 * (- 1) ^ n * L (n) ^ 2 + 2L(4n)=L(n) \n",
    "4\n",
    " −4∗(−1) \n",
    "n\n",
    " ∗L(n) \n",
    "2\n",
    " +2;\n",
    "'''\n",
    "\n",
    "def super_L(n):\n",
    "    L0, L1 = 2, 1\n",
    "    if not n:\n",
    "        return L0\n",
    "\n",
    "    if not n%4:\n",
    "        n //= 4\n",
    "        sn = super_L(n)\n",
    "        return sn**4 - 4 * (-1)**n * sn**2 + 2\n",
    "    \n",
    "    if not n%2:\n",
    "        n //= 2\n",
    "        return super_L(n)**2 - 2 * (-1)**n\n",
    "\n",
    "    for _ in range(n-1):\n",
    "        L0, L1 = L1, L0+L1\n",
    "    \n",
    "    return L1\n",
    "\n",
    "super_L(36), super_L(180)"
   ]
  },
  {
   "cell_type": "code",
   "execution_count": null,
   "metadata": {},
   "outputs": [],
   "source": []
  }
 ]
}