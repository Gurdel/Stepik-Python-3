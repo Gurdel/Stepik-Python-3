{
 "metadata": {
  "language_info": {
   "codemirror_mode": {
    "name": "ipython",
    "version": 3
   },
   "file_extension": ".py",
   "mimetype": "text/x-python",
   "name": "python",
   "nbconvert_exporter": "python",
   "pygments_lexer": "ipython3",
   "version": "3.8.5-final"
  },
  "orig_nbformat": 2,
  "kernelspec": {
   "name": "python3",
   "display_name": "Python 3",
   "language": "python"
  }
 },
 "nbformat": 4,
 "nbformat_minor": 2,
 "cells": [
  {
   "cell_type": "code",
   "execution_count": 14,
   "metadata": {},
   "outputs": [
    {
     "output_type": "execute_result",
     "data": {
      "text/plain": [
       "(True, False)"
      ]
     },
     "metadata": {},
     "execution_count": 14
    }
   ],
   "source": [
    "'''\n",
    "Квадрат числа можно разбить на две части, сумма которых даёт исходное число.\n",
    "\n",
    "Например, 45 является числом Капрекара, поскольку 45^2=202545 \n",
    "2\n",
    " =2025 и 20+25=4520+25=45.\n",
    "\n",
    "По соглашению, вторая часть может начинаться с 0, но не должна быть нулевой.\n",
    "\n",
    "Так же следует учитывать, что \"части\" могут быть разной длины, например, 297^2=88209297 \n",
    "2\n",
    " =88209.\n",
    "\n",
    "\n",
    "\n",
    "Напишите функцию kaprekar(n), принимающую на вход натуральное число и возвращающую:\n",
    "\n",
    "True, если число является Числом Капрекара\n",
    "False, если число НЕ является Числом Капрекара\n",
    "'''\n",
    "\n",
    "def kaprekar10(n):\n",
    "    npow = n * n\n",
    "    res = [(npow // 10**i) + (npow % 10**i) for i in range(1, len(str(npow))) if (npow % 10**i)]\n",
    "    return n in res\n",
    "\n",
    "kaprekar10(297), kaprekar10(100)"
   ]
  },
  {
   "cell_type": "code",
   "execution_count": 13,
   "metadata": {},
   "outputs": [
    {
     "output_type": "execute_result",
     "data": {
      "text/plain": [
       "42"
      ]
     },
     "metadata": {},
     "execution_count": 13
    }
   ],
   "source": [
    "'''\n",
    "Напишите функцию convert(num, to_base=10, from_base=10), которая принимает на вход:\n",
    "\n",
    "целое число num (может быть int в десятичной системе счисления, либо строкой в произвольной)\n",
    "2 целочисленных необязательных аргумента from_base и to_base со значениями по умолчанию 10, основанием исходной и будущей систем отстчёта.\n",
    "Функция возвращает строку.\n",
    "\n",
    "Минимальное основание системы отсчёта - 2\n",
    "\n",
    "Максимальное основание системы отсчёта = 36\n",
    "\n",
    "В качестве цифр используются буквы латинского алфавита в верхнем регистре: ABCDEFGHIJKLMNOPQRSTUVWXYZ. Порядок цифр соответствует порядку букв в алфавите (т.е. 8 < 9 < A < B < C < D < E < .... < Z).\n",
    "'''\n",
    "\n",
    "def convert(num, to_base=10, from_base=10):\n",
    "    n = int(num, base=from_base)\n",
    "    if to_base == 10:\n",
    "        return n\n",
    "\n",
    "    res = ''\n",
    "    numbers = '0123456789ABCDEFGHIJKLMNOPQRSTUVWXYZ'\n",
    "    while n:\n",
    "        res += numbers[n % to_base]\n",
    "        n //= to_base\n",
    "    return res[::-1]\n",
    "\n",
    "convert('2A', to_base=10, from_base=16)"
   ]
  },
  {
   "cell_type": "code",
   "execution_count": null,
   "metadata": {},
   "outputs": [],
   "source": [
    "'''\n",
    "Напишите функцию kaprekar(n, base=10), принимающую на вход натуральное число (int для десятичной системы счисления, либо строку для иной) и основание системы счисления, а возвращающую:\n",
    "\n",
    "True, если число является Числом Капрекара\n",
    "False, если число НЕ является Числом Капрекара\n",
    "По умолчанию функция считает, что передаваемое число в десятичной системе счисления.\n",
    "'''\n",
    "\n",
    "def kaprekar(n, base=10):\n",
    "    if base == 10:\n",
    "        return kaprekar10(n)\n",
    "    n10 = int(n, base=base)\n",
    "    npow = convert(str(n10**2), to_base=base)\n",
    "    res = [convert(str((convert(npow[:i], from_base=base) + convert(npow[i:], from_base=base))), to_base=base)  for i in range(1, len(npow)) if convert(npow[i:], from_base=base)]\n",
    "    return n in res"
   ]
  }
 ]
}