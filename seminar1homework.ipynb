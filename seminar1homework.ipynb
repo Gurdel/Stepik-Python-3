{
 "metadata": {
  "language_info": {
   "codemirror_mode": {
    "name": "ipython",
    "version": 3
   },
   "file_extension": ".py",
   "mimetype": "text/x-python",
   "name": "python",
   "nbconvert_exporter": "python",
   "pygments_lexer": "ipython3",
   "version": "3.8.5-final"
  },
  "orig_nbformat": 2,
  "kernelspec": {
   "name": "python3",
   "display_name": "Python 3",
   "language": "python"
  }
 },
 "nbformat": 4,
 "nbformat_minor": 2,
 "cells": [
  {
   "cell_type": "code",
   "execution_count": 6,
   "metadata": {},
   "outputs": [
    {
     "output_type": "stream",
     "name": "stdout",
     "text": [
      "3.142\n"
     ]
    }
   ],
   "source": [
    "'''\n",
    "Предел функции\n",
    "Реализуйте функцию f(x):\n",
    "\n",
    "f(x) = 2arctg(x)f(x)=2arctg(x)\n",
    "\n",
    "Найдите предел функции (ответ округлите до 3 знака после запятой) при x\\rightarrow +\\inftyx→+∞\n",
    "\n",
    "\\lim_{x\\rightarrow +\\infty }2arctg(x)\n",
    "x→+∞\n",
    "lim\n",
    "​\t\n",
    "2arctg(x)\n",
    "'''\n",
    "\n",
    "from math import atan, inf\n",
    "\n",
    "def f(x):\n",
    "    return 2 * atan(x)\n",
    "\n",
    "lim = f(inf)\n",
    "print(round(lim, 3))"
   ]
  },
  {
   "cell_type": "code",
   "execution_count": 8,
   "metadata": {},
   "outputs": [
    {
     "output_type": "execute_result",
     "data": {
      "text/plain": [
       "20.086"
      ]
     },
     "metadata": {},
     "execution_count": 8
    }
   ],
   "source": [
    "'''\n",
    "Производная\n",
    "Проверьте (для нескольких разных точек), что производная от e^{x}e \n",
    "x\n",
    "  совпадает с исходной функцией, т.е. {(e^{x})}' = e^{x}(e \n",
    "x\n",
    " ) \n",
    "′\n",
    " =e \n",
    "x\n",
    " .\n",
    "\n",
    "Для этого реализуйте функцию def_e(x), находящую численное значение производной (с точностью до 3 знака) в точке x.\n",
    "'''\n",
    "\n",
    "from math import exp\n",
    "\n",
    "def def_e(x):\n",
    "    dx = 0.000001\n",
    "    return round((exp(x+dx) - exp(x)) /  dx, 3)\n",
    "\n",
    "def_e(3)"
   ]
  },
  {
   "cell_type": "code",
   "execution_count": 13,
   "metadata": {},
   "outputs": [
    {
     "output_type": "execute_result",
     "data": {
      "text/plain": [
       "([1], [1, 3])"
      ]
     },
     "metadata": {},
     "execution_count": 13
    }
   ],
   "source": [
    "'''\n",
    "Список - чётные индексы\n",
    "Напишите функцию even_indeces(L), которая будет возвращать только элементы с чётными индексами.\n",
    "'''\n",
    "\n",
    "def even_indeces(L):\n",
    "    return [L[i] for i in range(0, len(L), 2)]\n",
    "\n",
    "even_indeces([1, 2]), even_indeces([1, 2, 3])"
   ]
  },
  {
   "cell_type": "code",
   "execution_count": 14,
   "metadata": {},
   "outputs": [
    {
     "output_type": "execute_result",
     "data": {
      "text/plain": [
       "([1], [1, 3])"
      ]
     },
     "metadata": {},
     "execution_count": 14
    }
   ],
   "source": [
    "'''\n",
    "Список - чётные индексы\n",
    "Напишите функцию even_indeces(L), которая будет возвращать только элементы с чётными индексами.\n",
    "'''\n",
    "\n",
    "def even_indeces(L):\n",
    "    return L[::2]\n",
    "\n",
    "even_indeces([1, 2]), even_indeces([1, 2, 3])"
   ]
  },
  {
   "cell_type": "code",
   "execution_count": 16,
   "metadata": {},
   "outputs": [],
   "source": [
    "'''\n",
    "Список - чётные элементы\n",
    "Напишите функцию even_elements(l), которая возвращает только чётные элементы списка.\n",
    "'''\n",
    "\n",
    "def even_elements(L):\n",
    "    return [el for el in L if el%2==0]"
   ]
  },
  {
   "cell_type": "code",
   "execution_count": 17,
   "metadata": {},
   "outputs": [],
   "source": [
    "'''\n",
    "Список - обратный порядок\n",
    "Напишите функцию last_to_first(l), которая вернёт список в обратном порядке.\n",
    "'''\n",
    "\n",
    "def last_to_first(L):\n",
    "    return L[::-1]"
   ]
  },
  {
   "cell_type": "code",
   "execution_count": 18,
   "metadata": {},
   "outputs": [
    {
     "output_type": "stream",
     "name": "stdout",
     "text": [
      "735\n"
     ]
    }
   ],
   "source": [
    "'''\n",
    "Сумма чисел\n",
    "Считайте строку (используйте input()), содержащую 1 натуральное число n\n",
    "\n",
    "Найдите сумму всех чисел от 0 до n, которые делятся на 5, но не делятся на 3\n",
    "'''\n",
    "\n",
    "n = int(input())\n",
    "res = sum([el for el in range(5, n+1, 5) if el%3!=0])\n",
    "print(res)"
   ]
  },
  {
   "cell_type": "code",
   "execution_count": 19,
   "metadata": {},
   "outputs": [],
   "source": [
    "'''\n",
    "Список общих элементов\n",
    "Напишите функцию common(list_a, list_b), возвращающую список общих элементов 2 списков (порядок не важен).\n",
    "'''\n",
    "\n",
    "def common(list_a, list_b):\n",
    "    return [el for el in list_a if el in list_b]"
   ]
  },
  {
   "cell_type": "code",
   "execution_count": 27,
   "metadata": {},
   "outputs": [
    {
     "output_type": "stream",
     "name": "stdout",
     "text": [
      "[2, 1, 0]\n"
     ]
    },
    {
     "output_type": "execute_result",
     "data": {
      "text/plain": [
       "['x-files', 'xapple', 'xyz', '', 'apple', 'extra', 'mix']"
      ]
     },
     "metadata": {},
     "execution_count": 27
    }
   ],
   "source": [
    "'''\n",
    "front_x (с пустыми строками)\n",
    "Напишите функцию front_x(words), которая на вход принимает список строк и возвращает отсортированный по правилам:\n",
    "\n",
    "слова, начинающиеся с символа \"x\", идут первыми\n",
    "в лексикографическом порядке.\n",
    "Важно! Список может содержать пустые строки - \"\" - их нельзя выкидывать и при их обработке функция не должна \"падать\".\n",
    "'''\n",
    "\n",
    "def front_x(words):\n",
    "    x_first_ind = [ind for ind, el in enumerate(words) if el and el[0]=='x'][::-1]\n",
    "    print(x_first_ind)\n",
    "    x_first = [words.pop(i) for i in x_first_ind]\n",
    "    return sorted(x_first) + sorted(words)\n",
    "\n",
    "front_x(['x-files', 'xapple', 'xyz', '', 'apple', 'extra', 'mix'])"
   ]
  },
  {
   "cell_type": "code",
   "execution_count": 28,
   "metadata": {},
   "outputs": [
    {
     "output_type": "execute_result",
     "data": {
      "text/plain": [
       "['x-files', 'xapple', 'xyz', '', 'apple', 'extra', 'mix']"
      ]
     },
     "metadata": {},
     "execution_count": 28
    }
   ],
   "source": [
    "'''\n",
    "front_x (с пустыми строками)\n",
    "Напишите функцию front_x(words), которая на вход принимает список строк и возвращает отсортированный по правилам:\n",
    "\n",
    "слова, начинающиеся с символа \"x\", идут первыми\n",
    "в лексикографическом порядке.\n",
    "Важно! Список может содержать пустые строки - \"\" - их нельзя выкидывать и при их обработке функция не должна \"падать\".\n",
    "'''\n",
    "\n",
    "def front_x(words):\n",
    "    return sorted(words, key=lambda x: '0'+x if x and x[0]=='x' else '1'+x)\n",
    "\n",
    "front_x(['x-files', 'xapple', 'xyz', '', 'apple', 'extra', 'mix'])"
   ]
  },
  {
   "cell_type": "code",
   "execution_count": 31,
   "metadata": {},
   "outputs": [],
   "source": [
    "'''\n",
    "Числа Фибоначчи\n",
    "Напишите функцию fib(n), возвращающую n-е число Фибоначчи.\n",
    "'''\n",
    "\n",
    "def fib(n):\n",
    "    a, b = 1, 1\n",
    "    for _ in range(2, n):\n",
    "        a, b = b, a+b\n",
    "    return b"
   ]
  },
  {
   "cell_type": "code",
   "execution_count": 37,
   "metadata": {},
   "outputs": [
    {
     "output_type": "execute_result",
     "data": {
      "text/plain": [
       "False"
      ]
     },
     "metadata": {},
     "execution_count": 37
    }
   ],
   "source": [
    "'''\n",
    "Простые числа\n",
    "Число называется простым, если оно делится только на 1 и само себя.\n",
    "\n",
    "7 - простое число\n",
    "15 - составное число, т.к. 15 = 5*3\n",
    "Напишите функцию is_prime(n), проверяющую простое ли число. Если число простое, функция должна вернуть True, иначе False (логическое значение, не строку!).\n",
    "'''\n",
    "\n",
    "def is_prime(n):\n",
    "    if not n % 2:\n",
    "        return False\n",
    "    for i in range(3, int(n**0.5)+1, 2):\n",
    "        if not n % i:\n",
    "            return False\n",
    "    return True\n",
    "\n",
    "is_prime(15)"
   ]
  },
  {
   "cell_type": "code",
   "execution_count": 39,
   "metadata": {},
   "outputs": [
    {
     "output_type": "stream",
     "name": "stdout",
     "text": [
      "Всего пончиков: 5\n"
     ]
    }
   ],
   "source": [
    "'''\n",
    "donuts\n",
    "Считайте строку, содержащую натуральное число - число пончиков\n",
    "\n",
    "Напишите функцию, принимающую на вход число пончиков, а возвращающую строку:\n",
    "\n",
    "\"Всего пончиков: <число>\", если пончиков не больше 9\n",
    "\"Всего пончиков: много\", если пончиков больше 9\n",
    "Выведите на печать результат работы функции для считанного числа пончиков.\n",
    "'''\n",
    "\n",
    "n = int(input())\n",
    "def donuts(n):\n",
    "    return 'Всего пончиков: много' if n > 9 else f'Всего пончиков: {n}'\n",
    "\n",
    "print(donuts(n))"
   ]
  },
  {
   "cell_type": "code",
   "execution_count": 44,
   "metadata": {},
   "outputs": [
    {
     "output_type": "stream",
     "name": "stdout",
     "text": [
      "\n"
     ]
    }
   ],
   "source": [
    "'''\n",
    "both_ends\n",
    "Попрактикуемся в срезах для строк.\n",
    "\n",
    "Считайте строку.\n",
    "\n",
    "Напишите функцию, которая принимает на вход строку, а возвращает 2 первых и 2 последних символа. Если длина исходной строки меньше 2 символов, необходимо вернуть пустую строку.\n",
    "'''\n",
    "\n",
    "s = input()\n",
    "def both_ends(s):\n",
    "    return s[:2] + s[-2:] if len(s)>1 else ''\n",
    "\n",
    "print(both_ends(s))"
   ]
  },
  {
   "cell_type": "code",
   "execution_count": 45,
   "metadata": {},
   "outputs": [
    {
     "output_type": "stream",
     "name": "stdout",
     "text": [
      "ba**le\n"
     ]
    }
   ],
   "source": [
    "'''\n",
    "fix_start\n",
    "Считайте строку.\n",
    "\n",
    "Напишите функцию, принимающую на вход строку, находящую 1й символ и заменяющую все его вхождения в строку кроме 1 на *.\n",
    "'''\n",
    "\n",
    "s = input()\n",
    "def fix_start(s):\n",
    "    first = s[0]\n",
    "    return s[0] + s.replace(first, '*')[1:]\n",
    "\n",
    "print(fix_start(s))"
   ]
  },
  {
   "cell_type": "code",
   "execution_count": null,
   "metadata": {},
   "outputs": [],
   "source": []
  }
 ]
}